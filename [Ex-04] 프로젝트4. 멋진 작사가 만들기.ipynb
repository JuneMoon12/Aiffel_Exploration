{
 "cells": [
  {
   "cell_type": "markdown",
   "id": "f3bb8b27",
   "metadata": {},
   "source": [
    "# -----------------------------------\n",
    "# 목차\n",
    "## Step 1. 데이터 다운로드\n",
    "## Step 2. 데이터 읽어오기\n",
    "## Step 3. 데이터 정제\n",
    "## Step 4. 평가 데이터셋 분리\n",
    "## Step 5. 인공지능 만들기\n",
    "# -----------------------------------"
   ]
  },
  {
   "cell_type": "markdown",
   "id": "42f6c30c",
   "metadata": {},
   "source": [
    "## Step 1. 데이터 다운로드\n",
    "### Cloud shell에 아래의 명령어 입력하기\n",
    "### mkdir -p ~/aiffel/lyricist/models\n",
    "###  ln -s ~/data ~/aiffel/lyricist/data"
   ]
  },
  {
   "cell_type": "markdown",
   "id": "091e857c",
   "metadata": {},
   "source": [
    "## Step 2. 데이터 읽어오기¶"
   ]
  },
  {
   "cell_type": "code",
   "execution_count": 1,
   "id": "1cccbea6",
   "metadata": {},
   "outputs": [
    {
     "name": "stdout",
     "output_type": "stream",
     "text": [
      "데이터 크기: 187088\n",
      "Examples:\n",
      " [\"Now I've heard there was a secret chord\", 'That David played, and it pleased the Lord', \"But you don't really care for music, do you?\"]\n"
     ]
    }
   ],
   "source": [
    "import glob\n",
    "import os\n",
    "\n",
    "txt_file_path = os.getenv('HOME')+'/aiffel/Exploration/lyricist/data/lyrics/*'\n",
    "\n",
    "txt_list = glob.glob(txt_file_path)\n",
    "\n",
    "raw_corpus = []\n",
    "\n",
    "for txt_file in txt_list:\n",
    "    with open(txt_file, \"r\") as f:\n",
    "        raw = f.read().splitlines()\n",
    "        raw_corpus.extend(raw)\n",
    "\n",
    "print(\"데이터 크기:\", len(raw_corpus))\n",
    "print(\"Examples:\\n\", raw_corpus[:3])"
   ]
  },
  {
   "cell_type": "markdown",
   "id": "d32daadb",
   "metadata": {},
   "source": [
    "## Step 3. 데이터 정제"
   ]
  },
  {
   "cell_type": "markdown",
   "id": "a3ff03fa",
   "metadata": {},
   "source": [
    "### shakespeare.txt의 경우, txt파일을 열어보면\n",
    "### - First Citizen:\n",
    "### - Before we proceed any further, hear me speak.\n",
    "### -  \n",
    "### - All:\n",
    "### - Speak, speak.\n",
    "### 이렇게 되어 있으나 lyrics 파일의 경우, 예를 들어 adele.txt 파일을 열어보면\n",
    "### - Looking for some education\n",
    "### - Made my way into the night\n",
    "### - All that bullshit conversation\n",
    "### - 이렇게 되어 있기 때문에 '문장의 끝이 :'로 끝나거나 '공백'인 문장을 제외할 필요가 없음"
   ]
  },
  {
   "cell_type": "code",
   "execution_count": 2,
   "id": "dcf7e0f2",
   "metadata": {},
   "outputs": [
    {
     "name": "stdout",
     "output_type": "stream",
     "text": [
      "<start> this is sample sentence . <end>\n"
     ]
    }
   ],
   "source": [
    "import re \n",
    "import numpy as np\n",
    "import tensorflow as tf\n",
    "\n",
    "def preprocess_sentence(sentence):\n",
    "    sentence = sentence.lower().strip() # 1. 소문자로 바꾸고, 양쪽 공백을 지웁니다\n",
    "    sentence = re.sub(r\"([?.!,¿])\", r\" \\1 \", sentence) # 2. 특수문자 양쪽에 공백을 넣고\n",
    "    sentence = re.sub(r'[\" \"]+', \" \", sentence) # 3. 여러개의 공백은 하나의 공백으로 바꿉니다\n",
    "    sentence = re.sub(r\"[^a-zA-Z?.!,¿]+\", \" \", sentence) # 4. a-zA-Z?.!,¿가 아닌 모든 문자를 하나의 공백으로 바꿉니다\n",
    "    sentence = sentence.strip() # 5. 다시 양쪽 공백을 지웁니다\n",
    "    sentence = '<start> ' + sentence + ' <end>' # 6. 문장 시작에는 <start>, 끝에는 <end>를 추가합니다\n",
    "    return sentence\n",
    "\n",
    "# 이 문장이 어떻게 필터링되는지 확인해 보세요.\n",
    "print(preprocess_sentence(\"This @_is ;;;sample        sentence.\"))"
   ]
  },
  {
   "cell_type": "code",
   "execution_count": 3,
   "id": "e810cd63",
   "metadata": {},
   "outputs": [
    {
     "data": {
      "text/plain": [
       "['<start> now i ve heard there was a secret chord <end>',\n",
       " '<start> that david played , and it pleased the lord <end>',\n",
       " '<start> but you don t really care for music , do you ? <end>',\n",
       " '<start> it goes like this <end>',\n",
       " '<start> the fourth , the fifth <end>',\n",
       " '<start> the minor fall , the major lift <end>',\n",
       " '<start> the baffled king composing hallelujah hallelujah <end>',\n",
       " '<start> hallelujah <end>',\n",
       " '<start> hallelujah <end>',\n",
       " '<start> hallelujah your faith was strong but you needed proof <end>']"
      ]
     },
     "execution_count": 3,
     "metadata": {},
     "output_type": "execute_result"
    }
   ],
   "source": [
    "corpus = []\n",
    "\n",
    "for sentence in raw_corpus:\n",
    "    # 우리가 원하지 않는 문장은 건너뜁니다\n",
    "    if len(sentence) == 0: continue\n",
    "    # 정제를 하고 담아주세요\n",
    "    preprocessed_sentence = preprocess_sentence(sentence)\n",
    "    \n",
    "    if len((preprocessed_sentence).split()) > 15 : continue\n",
    "    \n",
    "    \n",
    "    corpus.append(preprocessed_sentence)\n",
    "        \n",
    "# 정제된 결과를 10개만 확인해보죠\n",
    "corpus[:10]"
   ]
  },
  {
   "cell_type": "code",
   "execution_count": 4,
   "id": "2c5b71d5",
   "metadata": {},
   "outputs": [
    {
     "name": "stdout",
     "output_type": "stream",
     "text": [
      "[[   2   50    4 ...    0    0    0]\n",
      " [   2   15 2971 ...    0    0    0]\n",
      " [   2   33    7 ...   46    3    0]\n",
      " ...\n",
      " [   2    4  117 ...    0    0    0]\n",
      " [   2  258  195 ...   12    3    0]\n",
      " [   2    7   34 ...    0    0    0]] <keras_preprocessing.text.Tokenizer object at 0x7ffbfc8db220>\n"
     ]
    }
   ],
   "source": [
    "def tokenize(corpus):\n",
    "\n",
    "    tokenizer = tf.keras.preprocessing.text.Tokenizer(\n",
    "        num_words=12000, \n",
    "        filters=' ',\n",
    "        oov_token=\"<unk>\"\n",
    "    )\n",
    "\n",
    "    tokenizer.fit_on_texts(corpus)\n",
    "    tensor = tokenizer.texts_to_sequences(corpus)   \n",
    "    tensor = tf.keras.preprocessing.sequence.pad_sequences(tensor, padding='post')  \n",
    "    \n",
    "    print(tensor,tokenizer)\n",
    "    return tensor, tokenizer\n",
    "\n",
    "tensor, tokenizer = tokenize(corpus)"
   ]
  },
  {
   "cell_type": "code",
   "execution_count": 5,
   "id": "2594535d",
   "metadata": {},
   "outputs": [
    {
     "name": "stdout",
     "output_type": "stream",
     "text": [
      "[[   2   50    4   95  303   62   53    9  946 6269]\n",
      " [   2   15 2971  872    5    8   11 5747    6  374]\n",
      " [   2   33    7   40   16  164  288   28  333    5]]\n"
     ]
    }
   ],
   "source": [
    "print(tensor[:3, :10])"
   ]
  },
  {
   "cell_type": "code",
   "execution_count": 6,
   "id": "2d82a2f7",
   "metadata": {},
   "outputs": [
    {
     "name": "stdout",
     "output_type": "stream",
     "text": [
      "1 : <unk>\n",
      "2 : <start>\n",
      "3 : <end>\n",
      "4 : i\n",
      "5 : ,\n",
      "6 : the\n",
      "7 : you\n",
      "8 : and\n",
      "9 : a\n",
      "10 : to\n"
     ]
    }
   ],
   "source": [
    "for idx in tokenizer.index_word:\n",
    "    print(idx, \":\", tokenizer.index_word[idx])\n",
    "\n",
    "    if idx >= 10: break"
   ]
  },
  {
   "cell_type": "code",
   "execution_count": 7,
   "id": "b676770c",
   "metadata": {},
   "outputs": [
    {
     "name": "stdout",
     "output_type": "stream",
     "text": [
      "[   2   50    4   95  303   62   53    9  946 6269    3    0    0    0]\n",
      "[  50    4   95  303   62   53    9  946 6269    3    0    0    0    0]\n"
     ]
    }
   ],
   "source": [
    "# tensor에서 마지막 토큰을 잘라내서 소스 문장을 생성합니다\n",
    "# 마지막 토큰은 <end>가 아니라 <pad>일 가능성이 높습니다.\n",
    "src_input = tensor[:, :-1]  \n",
    "# tensor에서 <start>를 잘라내서 타겟 문장을 생성합니다.\n",
    "tgt_input = tensor[:, 1:]    \n",
    "\n",
    "print(src_input[0])\n",
    "print(tgt_input[0])"
   ]
  },
  {
   "cell_type": "markdown",
   "id": "a505391e",
   "metadata": {},
   "source": [
    "# Step 4. 평가 데이터셋 분리"
   ]
  },
  {
   "cell_type": "code",
   "execution_count": 8,
   "id": "1afef196",
   "metadata": {},
   "outputs": [
    {
     "name": "stdout",
     "output_type": "stream",
     "text": [
      "enc_train 개수:  124981 , dec_train 개수:  124981\n"
     ]
    }
   ],
   "source": [
    "from sklearn.model_selection import train_test_split\n",
    "enc_train, enc_val, dec_train, dec_val = train_test_split(src_input, \n",
    "                                                    tgt_input, \n",
    "                                                    test_size=0.2, \n",
    "                                                    random_state=7)\n",
    "print('enc_train 개수: ', len(enc_train),', dec_train 개수: ', len(dec_train))"
   ]
  },
  {
   "cell_type": "code",
   "execution_count": 9,
   "id": "e9eebb8c",
   "metadata": {},
   "outputs": [
    {
     "data": {
      "text/plain": [
       "<BatchDataset shapes: ((256, 14), (256, 14)), types: (tf.int32, tf.int32)>"
      ]
     },
     "execution_count": 9,
     "metadata": {},
     "output_type": "execute_result"
    }
   ],
   "source": [
    "BUFFER_SIZE = len(src_input)\n",
    "BATCH_SIZE = 256\n",
    "steps_per_epoch = len(src_input) // BATCH_SIZE\n",
    "\n",
    " # tokenizer가 구축한 단어사전 내 7000개와, 여기 포함되지 않은 0:<pad>를 포함하여 7001개\n",
    "VOCAB_SIZE = tokenizer.num_words + 1   \n",
    "\n",
    "# 준비한 데이터 소스로부터 데이터셋을 만듭니다\n",
    "# 데이터셋에 대해서는 아래 문서를 참고하세요\n",
    "# 자세히 알아둘수록 도움이 많이 되는 중요한 문서입니다\n",
    "# https://www.tensorflow.org/api_docs/python/tf/data/Dataset\n",
    "dataset = tf.data.Dataset.from_tensor_slices((src_input, tgt_input))\n",
    "dataset = dataset.shuffle(BUFFER_SIZE)\n",
    "dataset = dataset.batch(BATCH_SIZE, drop_remainder=True)\n",
    "dataset"
   ]
  },
  {
   "cell_type": "markdown",
   "id": "a9e34c88",
   "metadata": {},
   "source": [
    "# Step 5. 인공지능 만들기"
   ]
  },
  {
   "cell_type": "code",
   "execution_count": 10,
   "id": "bfed0810",
   "metadata": {},
   "outputs": [],
   "source": [
    "class TextGenerator(tf.keras.Model):\n",
    "    def __init__(self, vocab_size, embedding_size, hidden_size):\n",
    "        super().__init__()\n",
    "        \n",
    "        self.embedding = tf.keras.layers.Embedding(vocab_size, embedding_size)\n",
    "        self.rnn_1 = tf.keras.layers.LSTM(hidden_size, return_sequences=True)\n",
    "        self.rnn_2 = tf.keras.layers.LSTM(hidden_size, return_sequences=True)\n",
    "        self.linear = tf.keras.layers.Dense(vocab_size)\n",
    "        \n",
    "    def call(self, x):\n",
    "        out = self.embedding(x)\n",
    "        out = self.rnn_1(out)\n",
    "        out = self.rnn_2(out)\n",
    "        out = self.linear(out)\n",
    "        \n",
    "        return out\n",
    "    \n",
    "embedding_size = 256\n",
    "hidden_size = 2024\n",
    "model = TextGenerator(tokenizer.num_words + 1, embedding_size , hidden_size)"
   ]
  },
  {
   "cell_type": "code",
   "execution_count": 11,
   "id": "344de10d",
   "metadata": {},
   "outputs": [
    {
     "data": {
      "text/plain": [
       "<tf.Tensor: shape=(256, 14, 12001), dtype=float32, numpy=\n",
       "array([[[ 7.4022588e-05,  3.3047496e-04,  4.1235248e-06, ...,\n",
       "         -2.6664431e-05,  2.4140203e-04, -1.3065625e-04],\n",
       "        [ 1.4566847e-04,  5.1905907e-04,  1.9473209e-05, ...,\n",
       "          8.1593535e-05,  5.0338678e-04, -2.9995618e-04],\n",
       "        [ 3.0166816e-04,  7.3562260e-04,  1.8172688e-04, ...,\n",
       "          2.7605076e-04,  4.5113818e-04, -3.8082935e-04],\n",
       "        ...,\n",
       "        [-4.0743433e-04, -2.6388827e-04, -5.5463483e-05, ...,\n",
       "          1.0067815e-03, -2.7662553e-04,  8.2461257e-04],\n",
       "        [-7.1867072e-04, -1.6968697e-04, -2.0632421e-04, ...,\n",
       "          1.4308587e-03, -7.1830372e-04,  1.1762247e-03],\n",
       "        [-1.0445340e-03, -6.2130806e-05, -3.4317019e-04, ...,\n",
       "          1.8271870e-03, -1.1522550e-03,  1.4578409e-03]],\n",
       "\n",
       "       [[ 7.4022588e-05,  3.3047496e-04,  4.1235248e-06, ...,\n",
       "         -2.6664431e-05,  2.4140203e-04, -1.3065625e-04],\n",
       "        [ 1.3286280e-04,  6.6878489e-04,  1.8527733e-04, ...,\n",
       "         -2.5344722e-04,  3.5757830e-04, -3.8284685e-05],\n",
       "        [ 2.7446591e-04,  1.0079925e-03,  1.9757359e-04, ...,\n",
       "         -2.5073270e-04,  4.2531456e-04, -9.9519839e-06],\n",
       "        ...,\n",
       "        [ 2.6190741e-04, -1.9197311e-04,  1.4237220e-03, ...,\n",
       "          1.3688822e-04, -3.1729293e-04,  1.0835381e-03],\n",
       "        [ 1.3048398e-05, -3.0350982e-04,  1.2016860e-03, ...,\n",
       "          5.6587014e-04, -5.8270287e-04,  1.3076919e-03],\n",
       "        [-3.2051268e-04, -3.3480694e-04,  9.2261995e-04, ...,\n",
       "          1.0021911e-03, -8.9352706e-04,  1.5094703e-03]],\n",
       "\n",
       "       [[ 7.4022588e-05,  3.3047496e-04,  4.1235248e-06, ...,\n",
       "         -2.6664431e-05,  2.4140203e-04, -1.3065625e-04],\n",
       "        [ 1.1686395e-04,  1.9086890e-04,  1.9748656e-04, ...,\n",
       "         -1.5692139e-04,  6.0228404e-04, -3.6428662e-04],\n",
       "        [-2.0928401e-05,  6.0521525e-05,  4.1606490e-04, ...,\n",
       "         -3.2232627e-05,  9.0442412e-04, -4.9793517e-04],\n",
       "        ...,\n",
       "        [-2.5501219e-04, -1.2314914e-03, -3.9186768e-04, ...,\n",
       "          5.3052919e-04, -4.4811200e-04,  1.3294965e-03],\n",
       "        [-6.4942712e-04, -1.0786657e-03, -5.3568819e-04, ...,\n",
       "          8.6021866e-04, -8.0995512e-04,  1.5873298e-03],\n",
       "        [-1.0513541e-03, -9.1345445e-04, -6.4224139e-04, ...,\n",
       "          1.2028376e-03, -1.1667863e-03,  1.7887517e-03]],\n",
       "\n",
       "       ...,\n",
       "\n",
       "       [[ 7.4022588e-05,  3.3047496e-04,  4.1235248e-06, ...,\n",
       "         -2.6664431e-05,  2.4140203e-04, -1.3065625e-04],\n",
       "        [-6.6373977e-05,  3.0990207e-04, -4.7454414e-05, ...,\n",
       "         -1.3320385e-04,  3.6804375e-04, -3.3413834e-04],\n",
       "        [-5.5739889e-07,  5.7549489e-04, -4.9255868e-05, ...,\n",
       "         -3.3925319e-04,  3.3650378e-04, -5.3710846e-04],\n",
       "        ...,\n",
       "        [-1.2553011e-03, -4.3236832e-05, -1.5406574e-04, ...,\n",
       "          1.1374839e-03, -1.2062312e-03,  1.5862888e-03],\n",
       "        [-1.5917687e-03,  2.3878771e-05, -2.5000164e-04, ...,\n",
       "          1.5404430e-03, -1.5290983e-03,  1.7591451e-03],\n",
       "        [-1.9051476e-03,  8.3985207e-05, -3.2947704e-04, ...,\n",
       "          1.9071567e-03, -1.8286494e-03,  1.8846515e-03]],\n",
       "\n",
       "       [[ 7.4022588e-05,  3.3047496e-04,  4.1235248e-06, ...,\n",
       "         -2.6664431e-05,  2.4140203e-04, -1.3065625e-04],\n",
       "        [ 1.8528251e-04,  4.6626909e-04, -5.4945569e-05, ...,\n",
       "          3.6928119e-05,  3.4191040e-04, -1.9040036e-04],\n",
       "        [-2.3264303e-05,  4.4616574e-04,  1.4636983e-04, ...,\n",
       "          4.1891126e-05,  5.7755702e-04,  1.1611533e-05],\n",
       "        ...,\n",
       "        [-1.4505128e-03, -7.2731113e-04, -3.8878177e-04, ...,\n",
       "          2.1704906e-03, -1.1699644e-03,  1.8277782e-03],\n",
       "        [-1.7504396e-03, -6.2703347e-04, -5.0089339e-04, ...,\n",
       "          2.4364020e-03, -1.5598936e-03,  1.9494796e-03],\n",
       "        [-2.0331768e-03, -5.1765027e-04, -5.7829707e-04, ...,\n",
       "          2.6736781e-03, -1.9110823e-03,  2.0313710e-03]],\n",
       "\n",
       "       [[ 7.4022588e-05,  3.3047496e-04,  4.1235248e-06, ...,\n",
       "         -2.6664431e-05,  2.4140203e-04, -1.3065625e-04],\n",
       "        [ 2.6860458e-04,  3.4020326e-04,  1.3110685e-04, ...,\n",
       "         -4.3197698e-04,  4.2806246e-04, -1.1194607e-04],\n",
       "        [ 3.0371302e-04,  1.9546754e-04,  1.4397016e-04, ...,\n",
       "         -5.6432758e-04,  6.7805708e-04, -2.0518473e-04],\n",
       "        ...,\n",
       "        [-7.7686785e-04, -5.7863956e-04, -4.4534085e-04, ...,\n",
       "          8.6093065e-04, -9.2003460e-04,  4.9419462e-04],\n",
       "        [-1.1643858e-03, -6.6271820e-04, -5.7600223e-04, ...,\n",
       "          1.2756933e-03, -1.2410667e-03,  6.9486577e-04],\n",
       "        [-1.5393558e-03, -6.8890193e-04, -6.8104919e-04, ...,\n",
       "          1.6760200e-03, -1.5457514e-03,  8.8559277e-04]]], dtype=float32)>"
      ]
     },
     "execution_count": 11,
     "metadata": {},
     "output_type": "execute_result"
    }
   ],
   "source": [
    "# 데이터셋에서 데이터 한 배치만 불러오는 방법입니다.\n",
    "# 지금은 동작 원리에 너무 빠져들지 마세요~\n",
    "for src_sample, tgt_sample in dataset.take(1): break\n",
    "\n",
    "# 한 배치만 불러온 데이터를 모델에 넣어봅니다\n",
    "model(src_sample)"
   ]
  },
  {
   "cell_type": "code",
   "execution_count": 12,
   "id": "8fa88311",
   "metadata": {},
   "outputs": [
    {
     "name": "stdout",
     "output_type": "stream",
     "text": [
      "Model: \"text_generator\"\n",
      "_________________________________________________________________\n",
      "Layer (type)                 Output Shape              Param #   \n",
      "=================================================================\n",
      "embedding (Embedding)        multiple                  3072256   \n",
      "_________________________________________________________________\n",
      "lstm (LSTM)                  multiple                  18466976  \n",
      "_________________________________________________________________\n",
      "lstm_1 (LSTM)                multiple                  32780704  \n",
      "_________________________________________________________________\n",
      "dense (Dense)                multiple                  24302025  \n",
      "=================================================================\n",
      "Total params: 78,621,961\n",
      "Trainable params: 78,621,961\n",
      "Non-trainable params: 0\n",
      "_________________________________________________________________\n"
     ]
    }
   ],
   "source": [
    "model.summary()"
   ]
  },
  {
   "cell_type": "code",
   "execution_count": null,
   "id": "03ad05b3",
   "metadata": {},
   "outputs": [
    {
     "name": "stdout",
     "output_type": "stream",
     "text": [
      "Epoch 1/10\n",
      "7812/7812 [==============================] - 604s 77ms/step - loss: 2.9281 - val_loss: 2.6812\n",
      "Epoch 2/10\n",
      "7812/7812 [==============================] - 604s 77ms/step - loss: 2.4242 - val_loss: 2.4560\n",
      "Epoch 3/10\n",
      "7812/7812 [==============================] - 604s 77ms/step - loss: 2.0202 - val_loss: 2.3355\n",
      "Epoch 4/10\n",
      "7812/7812 [==============================] - 604s 77ms/step - loss: 1.6980 - val_loss: 2.3028\n",
      "Epoch 5/10\n",
      " 457/7812 [>.............................] - ETA: 8:39 - loss: 1.3650"
     ]
    }
   ],
   "source": [
    "optimizer = tf.keras.optimizers.Adam()\n",
    "loss = tf.keras.losses.SparseCategoricalCrossentropy(\n",
    "    from_logits=True,\n",
    "    reduction='none'\n",
    ")\n",
    "\n",
    "model.compile(loss=loss, optimizer=optimizer)\n",
    "model.fit(enc_train, dec_train, epochs=10, validation_data=(enc_val,dec_val), batch_size=16)"
   ]
  },
  {
   "cell_type": "code",
   "execution_count": null,
   "id": "6f04e5fc",
   "metadata": {},
   "outputs": [],
   "source": [
    "def generate_text(model, tokenizer, init_sentence=\"<start>\", max_len=20):\n",
    "    # 테스트를 위해서 입력받은 init_sentence도 텐서로 변환합니다\n",
    "    test_input = tokenizer.texts_to_sequences([init_sentence])\n",
    "    test_tensor = tf.convert_to_tensor(test_input, dtype=tf.int64)\n",
    "    end_token = tokenizer.word_index[\"<end>\"]\n",
    "\n",
    "    # 단어 하나씩 예측해 문장을 만듭니다\n",
    "    #    1. 입력받은 문장의 텐서를 입력합니다\n",
    "    #    2. 예측된 값 중 가장 높은 확률인 word index를 뽑아냅니다\n",
    "    #    3. 2에서 예측된 word index를 문장 뒤에 붙입니다\n",
    "    #    4. 모델이 <end>를 예측했거나, max_len에 도달했다면 문장 생성을 마칩니다\n",
    "    while True:\n",
    "        # 1\n",
    "        predict = model(test_tensor) \n",
    "        # 2\n",
    "        predict_word = tf.argmax(tf.nn.softmax(predict, axis=-1), axis=-1)[:, -1] \n",
    "        # 3 \n",
    "        test_tensor = tf.concat([test_tensor, tf.expand_dims(predict_word, axis=0)], axis=-1)\n",
    "        # 4\n",
    "        if predict_word.numpy()[0] == end_token: break\n",
    "        if test_tensor.shape[1] >= max_len: break\n",
    "\n",
    "    generated = \"\"\n",
    "    # tokenizer를 이용해 word index를 단어로 하나씩 변환합니다 \n",
    "    for word_index in test_tensor[0].numpy():\n",
    "        generated += tokenizer.index_word[word_index] + \" \"\n",
    "\n",
    "    return generated"
   ]
  },
  {
   "cell_type": "code",
   "execution_count": null,
   "id": "7bad7942",
   "metadata": {},
   "outputs": [],
   "source": [
    "generate_text(model, tokenizer, init_sentence=\"<start> i love\", max_len=20)"
   ]
  },
  {
   "cell_type": "code",
   "execution_count": null,
   "id": "c2998d58",
   "metadata": {},
   "outputs": [],
   "source": [
    "a=(enc_val,dec_val)\n",
    "EPOCHS = 10\n",
    "history = model.fit(enc_train, dec_train,\n",
    "                    epochs=EPOCHS,\n",
    "                    validation_data=a)"
   ]
  },
  {
   "cell_type": "code",
   "execution_count": null,
   "id": "4e3d7482",
   "metadata": {},
   "outputs": [],
   "source": []
  },
  {
   "cell_type": "code",
   "execution_count": null,
   "id": "2b23483c",
   "metadata": {},
   "outputs": [],
   "source": []
  }
 ],
 "metadata": {
  "kernelspec": {
   "display_name": "Python 3 (ipykernel)",
   "language": "python",
   "name": "python3"
  },
  "language_info": {
   "codemirror_mode": {
    "name": "ipython",
    "version": 3
   },
   "file_extension": ".py",
   "mimetype": "text/x-python",
   "name": "python",
   "nbconvert_exporter": "python",
   "pygments_lexer": "ipython3",
   "version": "3.9.7"
  }
 },
 "nbformat": 4,
 "nbformat_minor": 5
}
