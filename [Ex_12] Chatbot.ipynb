{
 "cells": [
  {
   "cell_type": "code",
   "execution_count": 1,
   "id": "8bdf53d4",
   "metadata": {},
   "outputs": [
    {
     "name": "stdout",
     "output_type": "stream",
     "text": [
      "import 완료!!\n"
     ]
    }
   ],
   "source": [
    "import tensorflow as tf\n",
    "import tensorflow_datasets as tfds\n",
    "import os\n",
    "from os.path import join #데이터를 불러오기 위해\n",
    "import re\n",
    "import numpy as np\n",
    "import matplotlib.pyplot as plt\n",
    "import pandas as pd #데이터를 불러오기 위해\n",
    "print(\"import 완료!!\")"
   ]
  },
  {
   "cell_type": "markdown",
   "id": "349a168d",
   "metadata": {},
   "source": [
    "## 포지셔널 인코딩(positional Encoding)"
   ]
  },
  {
   "cell_type": "code",
   "execution_count": 2,
   "id": "db964825",
   "metadata": {
    "scrolled": true
   },
   "outputs": [
    {
     "name": "stdout",
     "output_type": "stream",
     "text": [
      "포지셔널 인코딩 레이어\n"
     ]
    }
   ],
   "source": [
    "class PositionalEncoding(tf.keras.layers.Layer):\n",
    "\n",
    "  def __init__(self, position, d_model):\n",
    "    super(PositionalEncoding, self).__init__()\n",
    "    self.pos_encoding = self.positional_encoding(position, d_model)\n",
    "\n",
    "  def get_angles(self, position, i, d_model):\n",
    "    angles = 1 / tf.pow(10000, (2 * (i // 2)) / tf.cast(d_model, tf.float32))\n",
    "    return position * angles\n",
    "\n",
    "  def positional_encoding(self, position, d_model):\n",
    "    angle_rads = self.get_angles(\n",
    "        position=tf.range(position, dtype=tf.float32)[:, tf.newaxis],\n",
    "        i=tf.range(d_model, dtype=tf.float32)[tf.newaxis, :],\n",
    "        d_model=d_model)\n",
    "\n",
    "    sines = tf.math.sin(angle_rads[:, 0::2])\n",
    "    cosines = tf.math.cos(angle_rads[:, 1::2])\n",
    "\n",
    "    # sin과 cosine이 교차되도록 재배열\n",
    "    pos_encoding = tf.stack([sines, cosines], axis=0)\n",
    "    pos_encoding = tf.transpose(pos_encoding,[1, 2, 0]) \n",
    "    pos_encoding = tf.reshape(pos_encoding, [position, d_model])\n",
    "\n",
    "    pos_encoding = pos_encoding[tf.newaxis, ...]\n",
    "    return tf.cast(pos_encoding, tf.float32)\n",
    "\n",
    "  def call(self, inputs):\n",
    "    return inputs + self.pos_encoding[:, :tf.shape(inputs)[1], :]\n",
    "\n",
    "print(\"포지셔널 인코딩 레이어\")"
   ]
  },
  {
   "cell_type": "markdown",
   "id": "92dbac47",
   "metadata": {},
   "source": [
    "### 행의 크기가 50, 열의 크기가 512인 행렬 그리기"
   ]
  },
  {
   "cell_type": "code",
   "execution_count": 3,
   "id": "b5ae6eb8",
   "metadata": {},
   "outputs": [
    {
     "data": {
      "image/png": "[encoded data removed]",
      "text/plain": [
       "<Figure size 432x288 with 2 Axes>"
      ]
     },
     "metadata": {
      "needs_background": "light"
     },
     "output_type": "display_data"
    }
   ],
   "source": [
    "sample_pos_encoding = PositionalEncoding(50, 512)\n",
    "\n",
    "plt.pcolormesh(sample_pos_encoding.pos_encoding.numpy()[0], cmap='RdBu')\n",
    "plt.xlabel('Depth')\n",
    "plt.xlim((0, 512))\n",
    "plt.ylabel('Position')\n",
    "plt.colorbar()\n",
    "plt.show()"
   ]
  },
  {
   "cell_type": "markdown",
   "id": "af51aa71",
   "metadata": {},
   "source": [
    "## 스케일드 닷 프로덕트 어텐션 함수"
   ]
  },
  {
   "cell_type": "code",
   "execution_count": 4,
   "id": "2da6bbc5",
   "metadata": {},
   "outputs": [
    {
     "name": "stdout",
     "output_type": "stream",
     "text": [
      "스케일드 닷 프로덕트 어텐션 함수\n"
     ]
    }
   ],
   "source": [
    "def scaled_dot_product_attention(query, key, value, mask):\n",
    "  # 어텐션 가중치는 Q와 K의 닷 프로덕트\n",
    "  matmul_qk = tf.matmul(query, key, transpose_b=True)\n",
    "\n",
    "  # 가중치를 정규화\n",
    "  depth = tf.cast(tf.shape(key)[-1], tf.float32)\n",
    "  logits = matmul_qk / tf.math.sqrt(depth)\n",
    "\n",
    "  # 패딩에 마스크 추가\n",
    "  if mask is not None:\n",
    "    logits += (mask * -1e9)\n",
    "\n",
    "  # softmax적용\n",
    "  attention_weights = tf.nn.softmax(logits, axis=-1)\n",
    "\n",
    "  # 최종 어텐션은 가중치와 V의 닷 프로덕트\n",
    "  output = tf.matmul(attention_weights, value)\n",
    "  return output\n",
    "\n",
    "print(\"스케일드 닷 프로덕트 어텐션 함수\")"
   ]
  },
  {
   "cell_type": "markdown",
   "id": "1817bd0a",
   "metadata": {},
   "source": [
    "## 멀티-헤드 어텐션"
   ]
  },
  {
   "cell_type": "code",
   "execution_count": 5,
   "id": "437a3e5a",
   "metadata": {},
   "outputs": [
    {
     "name": "stdout",
     "output_type": "stream",
     "text": [
      "멀티해드어텐션\n"
     ]
    }
   ],
   "source": [
    "class MultiHeadAttention(tf.keras.layers.Layer):\n",
    "\n",
    "  def __init__(self, d_model, num_heads, name=\"multi_head_attention\"):\n",
    "    super(MultiHeadAttention, self).__init__(name=name)\n",
    "    self.num_heads = num_heads\n",
    "    self.d_model = d_model\n",
    "\n",
    "    assert d_model % self.num_heads == 0\n",
    "\n",
    "    self.depth = d_model // self.num_heads\n",
    "\n",
    "    self.query_dense = tf.keras.layers.Dense(units=d_model)\n",
    "    self.key_dense = tf.keras.layers.Dense(units=d_model)\n",
    "    self.value_dense = tf.keras.layers.Dense(units=d_model)\n",
    "\n",
    "    self.dense = tf.keras.layers.Dense(units=d_model)\n",
    "\n",
    "  def split_heads(self, inputs, batch_size):\n",
    "    inputs = tf.reshape(\n",
    "        inputs, shape=(batch_size, -1, self.num_heads, self.depth))\n",
    "    return tf.transpose(inputs, perm=[0, 2, 1, 3])\n",
    "\n",
    "  def call(self, inputs):\n",
    "    query, key, value, mask = inputs['query'], inputs['key'], inputs[\n",
    "        'value'], inputs['mask']\n",
    "    batch_size = tf.shape(query)[0]\n",
    "\n",
    "    # Q, K, V에 각각 Dense를 적용합니다\n",
    "    query = self.query_dense(query)\n",
    "    key = self.key_dense(key)\n",
    "    value = self.value_dense(value)\n",
    "\n",
    "    # 병렬 연산을 위한 머리를 여러 개 만듭니다\n",
    "    query = self.split_heads(query, batch_size)\n",
    "    key = self.split_heads(key, batch_size)\n",
    "    value = self.split_heads(value, batch_size)\n",
    "\n",
    "    # 스케일드 닷 프로덕트 어텐션 함수\n",
    "    scaled_attention = scaled_dot_product_attention(query, key, value, mask)\n",
    "\n",
    "    scaled_attention = tf.transpose(scaled_attention, perm=[0, 2, 1, 3])\n",
    "\n",
    "    # 어텐션 연산 후에 각 결과를 다시 연결(concatenate)합니다\n",
    "    concat_attention = tf.reshape(scaled_attention,\n",
    "                                  (batch_size, -1, self.d_model))\n",
    "\n",
    "    # 최종 결과에도 Dense를 한 번 더 적용합니다\n",
    "    outputs = self.dense(concat_attention)\n",
    "\n",
    "    return outputs\n",
    "print(\"멀티해드어텐션\")"
   ]
  },
  {
   "cell_type": "markdown",
   "id": "4fdebbe4",
   "metadata": {},
   "source": [
    "## 패딩 마스킹"
   ]
  },
  {
   "cell_type": "code",
   "execution_count": 6,
   "id": "c57eb7a6",
   "metadata": {},
   "outputs": [
    {
     "name": "stdout",
     "output_type": "stream",
     "text": [
      "패딩 마스킹\n"
     ]
    }
   ],
   "source": [
    "def create_padding_mask(x):\n",
    "  mask = tf.cast(tf.math.equal(x, 0), tf.float32)\n",
    "  # (batch_size, 1, 1, sequence length)\n",
    "  return mask[:, tf.newaxis, tf.newaxis, :]\n",
    "print(\"패딩 마스킹\")"
   ]
  },
  {
   "cell_type": "markdown",
   "id": "8024bc54",
   "metadata": {},
   "source": [
    "## 트랜스포머"
   ]
  },
  {
   "cell_type": "code",
   "execution_count": 7,
   "id": "54d473cc",
   "metadata": {},
   "outputs": [
    {
     "name": "stdout",
     "output_type": "stream",
     "text": [
      "룩 어헤드 마스킹\n"
     ]
    }
   ],
   "source": [
    "def create_look_ahead_mask(x):\n",
    "  seq_len = tf.shape(x)[1]\n",
    "  look_ahead_mask = 1 - tf.linalg.band_part(tf.ones((seq_len, seq_len)), -1, 0)\n",
    "  padding_mask = create_padding_mask(x)\n",
    "  return tf.maximum(look_ahead_mask, padding_mask)\n",
    "print(\"룩 어헤드 마스킹\")"
   ]
  },
  {
   "cell_type": "markdown",
   "id": "b5089ab8",
   "metadata": {},
   "source": [
    "## 인코더 층 만들기"
   ]
  },
  {
   "cell_type": "code",
   "execution_count": 8,
   "id": "4276ba25",
   "metadata": {},
   "outputs": [
    {
     "name": "stdout",
     "output_type": "stream",
     "text": [
      "인코더 층 만들기\n"
     ]
    }
   ],
   "source": [
    "def encoder_layer(units, d_model, num_heads, dropout, name=\"encoder_layer\"):\n",
    "  inputs = tf.keras.Input(shape=(None, d_model), name=\"inputs\")\n",
    "\n",
    "  # 패딩 마스크 사용\n",
    "  padding_mask = tf.keras.Input(shape=(1, 1, None), name=\"padding_mask\")\n",
    "\n",
    "  # 첫 번째 서브 레이어 : 멀티 헤드 어텐션 수행 (셀프 어텐션)\n",
    "  attention = MultiHeadAttention(\n",
    "      d_model, num_heads, name=\"attention\")({\n",
    "          'query': inputs,\n",
    "          'key': inputs,\n",
    "          'value': inputs,\n",
    "          'mask': padding_mask\n",
    "      })\n",
    "\n",
    "  # 어텐션의 결과는 Dropout과 Layer Normalization이라는 훈련을 돕는 테크닉을 수행\n",
    "  attention = tf.keras.layers.Dropout(rate=dropout)(attention)\n",
    "  attention = tf.keras.layers.LayerNormalization(\n",
    "      epsilon=1e-6)(inputs + attention)\n",
    "\n",
    "  # 두 번째 서브 레이어 : 2개의 완전연결층\n",
    "  outputs = tf.keras.layers.Dense(units=units, activation='relu')(attention)\n",
    "  outputs = tf.keras.layers.Dense(units=d_model)(outputs)\n",
    "\n",
    "  # 완전연결층의 결과는 Dropout과 LayerNormalization이라는 훈련을 돕는 테크닉을 수행\n",
    "  outputs = tf.keras.layers.Dropout(rate=dropout)(outputs)\n",
    "  outputs = tf.keras.layers.LayerNormalization(\n",
    "      epsilon=1e-6)(attention + outputs)\n",
    "\n",
    "  return tf.keras.Model(\n",
    "      inputs=[inputs, padding_mask], outputs=outputs, name=name)\n",
    "print(\"인코더 층 만들기\")"
   ]
  },
  {
   "cell_type": "markdown",
   "id": "a58c282c",
   "metadata": {},
   "source": [
    "## 인코더 층을 쌓아 인코더 만들기"
   ]
  },
  {
   "cell_type": "code",
   "execution_count": 9,
   "id": "da52bc09",
   "metadata": {},
   "outputs": [
    {
     "name": "stdout",
     "output_type": "stream",
     "text": [
      "인코더 만들기\n"
     ]
    }
   ],
   "source": [
    "def encoder(vocab_size,\n",
    "            num_layers,\n",
    "            units,\n",
    "            d_model,\n",
    "            num_heads,\n",
    "            dropout,\n",
    "            name=\"encoder\"):\n",
    "  inputs = tf.keras.Input(shape=(None,), name=\"inputs\")\n",
    "\n",
    "  # 패딩 마스크 사용\n",
    "  padding_mask = tf.keras.Input(shape=(1, 1, None), name=\"padding_mask\")\n",
    "\n",
    "  # 임베딩 레이어\n",
    "  embeddings = tf.keras.layers.Embedding(vocab_size, d_model)(inputs)\n",
    "  embeddings *= tf.math.sqrt(tf.cast(d_model, tf.float32))\n",
    "\n",
    "  # 포지셔널 인코딩\n",
    "  embeddings = PositionalEncoding(vocab_size, d_model)(embeddings)\n",
    "\n",
    "  outputs = tf.keras.layers.Dropout(rate=dropout)(embeddings)\n",
    "\n",
    "  # num_layers만큼 쌓아올린 인코더의 층.\n",
    "  for i in range(num_layers):\n",
    "    outputs = encoder_layer(\n",
    "        units=units,\n",
    "        d_model=d_model,\n",
    "        num_heads=num_heads,\n",
    "        dropout=dropout,\n",
    "        name=\"encoder_layer_{}\".format(i),\n",
    "    )([outputs, padding_mask])\n",
    "\n",
    "  return tf.keras.Model(\n",
    "      inputs=[inputs, padding_mask], outputs=outputs, name=name)\n",
    "print(\"인코더 만들기\")"
   ]
  },
  {
   "cell_type": "markdown",
   "id": "0b6f8798",
   "metadata": {},
   "source": [
    "## 디코더 층 만들기"
   ]
  },
  {
   "cell_type": "code",
   "execution_count": 10,
   "id": "164659e3",
   "metadata": {},
   "outputs": [
    {
     "name": "stdout",
     "output_type": "stream",
     "text": [
      "디코더 층 만들기\n"
     ]
    }
   ],
   "source": [
    "def decoder_layer(units, d_model, num_heads, dropout, name=\"decoder_layer\"):\n",
    "  inputs = tf.keras.Input(shape=(None, d_model), name=\"inputs\")\n",
    "  enc_outputs = tf.keras.Input(shape=(None, d_model), name=\"encoder_outputs\")\n",
    "  look_ahead_mask = tf.keras.Input(\n",
    "      shape=(1, None, None), name=\"look_ahead_mask\")\n",
    "  padding_mask = tf.keras.Input(shape=(1, 1, None), name='padding_mask')\n",
    "\n",
    "  # 첫 번째 서브 레이어 : 멀티 헤드 어텐션 수행 (셀프 어텐션)\n",
    "  attention1 = MultiHeadAttention(\n",
    "      d_model, num_heads, name=\"attention_1\")(inputs={\n",
    "          'query': inputs,\n",
    "          'key': inputs,\n",
    "          'value': inputs,\n",
    "          'mask': look_ahead_mask\n",
    "      })\n",
    "\n",
    "  # 멀티 헤드 어텐션의 결과는 LayerNormalization이라는 훈련을 돕는 테크닉을 수행\n",
    "  attention1 = tf.keras.layers.LayerNormalization(\n",
    "      epsilon=1e-6)(attention1 + inputs)\n",
    "\n",
    "  # 두 번째 서브 레이어 : 마스크드 멀티 헤드 어텐션 수행 (인코더-디코더 어텐션)\n",
    "  attention2 = MultiHeadAttention(\n",
    "      d_model, num_heads, name=\"attention_2\")(inputs={\n",
    "          'query': attention1,\n",
    "          'key': enc_outputs,\n",
    "          'value': enc_outputs,\n",
    "          'mask': padding_mask\n",
    "      })\n",
    "\n",
    "  # 마스크드 멀티 헤드 어텐션의 결과는\n",
    "  # Dropout과 LayerNormalization이라는 훈련을 돕는 테크닉을 수행\n",
    "  attention2 = tf.keras.layers.Dropout(rate=dropout)(attention2)\n",
    "  attention2 = tf.keras.layers.LayerNormalization(\n",
    "      epsilon=1e-6)(attention2 + attention1)\n",
    "\n",
    "  # 세 번째 서브 레이어 : 2개의 완전연결층\n",
    "  outputs = tf.keras.layers.Dense(units=units, activation='relu')(attention2)\n",
    "  outputs = tf.keras.layers.Dense(units=d_model)(outputs)\n",
    "\n",
    "  # 완전연결층의 결과는 Dropout과 LayerNormalization 수행\n",
    "  outputs = tf.keras.layers.Dropout(rate=dropout)(outputs)\n",
    "  outputs = tf.keras.layers.LayerNormalization(\n",
    "      epsilon=1e-6)(outputs + attention2)\n",
    "\n",
    "  return tf.keras.Model(\n",
    "      inputs=[inputs, enc_outputs, look_ahead_mask, padding_mask],\n",
    "      outputs=outputs,\n",
    "      name=name)\n",
    "print(\"디코더 층 만들기\")"
   ]
  },
  {
   "cell_type": "markdown",
   "id": "78ec6c9f",
   "metadata": {},
   "source": [
    "## 디코더 층을 쌓아 디코더 만들기"
   ]
  },
  {
   "cell_type": "code",
   "execution_count": 11,
   "id": "b2ea703c",
   "metadata": {},
   "outputs": [
    {
     "name": "stdout",
     "output_type": "stream",
     "text": [
      "디코더 만들기\n"
     ]
    }
   ],
   "source": [
    "def decoder(vocab_size,\n",
    "            num_layers,\n",
    "            units,\n",
    "            d_model,\n",
    "            num_heads,\n",
    "            dropout,\n",
    "            name='decoder'):\n",
    "  inputs = tf.keras.Input(shape=(None,), name='inputs')\n",
    "  enc_outputs = tf.keras.Input(shape=(None, d_model), name='encoder_outputs')\n",
    "  look_ahead_mask = tf.keras.Input(\n",
    "      shape=(1, None, None), name='look_ahead_mask')\n",
    "\n",
    "  # 패딩 마스크\n",
    "  padding_mask = tf.keras.Input(shape=(1, 1, None), name='padding_mask')\n",
    "  \n",
    "  # 임베딩 레이어\n",
    "  embeddings = tf.keras.layers.Embedding(vocab_size, d_model)(inputs)\n",
    "  embeddings *= tf.math.sqrt(tf.cast(d_model, tf.float32))\n",
    "\n",
    "  # 포지셔널 인코딩\n",
    "  embeddings = PositionalEncoding(vocab_size, d_model)(embeddings)\n",
    "\n",
    "  # Dropout이라는 훈련을 돕는 테크닉을 수행\n",
    "  outputs = tf.keras.layers.Dropout(rate=dropout)(embeddings)\n",
    "\n",
    "  for i in range(num_layers):\n",
    "    outputs = decoder_layer(\n",
    "        units=units,\n",
    "        d_model=d_model,\n",
    "        num_heads=num_heads,\n",
    "        dropout=dropout,\n",
    "        name='decoder_layer_{}'.format(i),\n",
    "    )(inputs=[outputs, enc_outputs, look_ahead_mask, padding_mask])\n",
    "\n",
    "  return tf.keras.Model(\n",
    "      inputs=[inputs, enc_outputs, look_ahead_mask, padding_mask],\n",
    "      outputs=outputs,\n",
    "      name=name)\n",
    "print(\"디코더 만들기\")"
   ]
  },
  {
   "cell_type": "markdown",
   "id": "5e06b1cc",
   "metadata": {},
   "source": [
    "# Step 1. 데이터 수집하기"
   ]
  },
  {
   "cell_type": "markdown",
   "id": "fa46eec5",
   "metadata": {},
   "source": [
    "#### mkdir -p ~/aiffel/transformer_chatbot/data/\n",
    "#### ln -s ~/data/* ~/aiffel/transformer_chatbot/data/"
   ]
  },
  {
   "cell_type": "code",
   "execution_count": 12,
   "id": "255ba8a4",
   "metadata": {},
   "outputs": [
    {
     "name": "stdout",
     "output_type": "stream",
     "text": [
      "데이터 가져오기 완료\n"
     ]
    }
   ],
   "source": [
    "train_data_dir = os.getenv('HOME')+'/aiffel/songys_chatbot'\n",
    "\n",
    "train_data_path = join(train_data_dir, 'ChatbotData.csv')\n",
    "\n",
    "train_data = pd.read_csv(train_data_path)\n",
    "\n",
    "print(\"데이터 가져오기 완료\")"
   ]
  },
  {
   "cell_type": "code",
   "execution_count": 13,
   "id": "0a121cc6",
   "metadata": {},
   "outputs": [
    {
     "data": {
      "text/html": [
       "<div>\n",
       "<style scoped>\n",
       "    .dataframe tbody tr th:only-of-type {\n",
       "        vertical-align: middle;\n",
       "    }\n",
       "\n",
       "    .dataframe tbody tr th {\n",
       "        vertical-align: top;\n",
       "    }\n",
       "\n",
       "    .dataframe thead th {\n",
       "        text-align: right;\n",
       "    }\n",
       "</style>\n",
       "<table border=\"1\" class=\"dataframe\">\n",
       "  <thead>\n",
       "    <tr style=\"text-align: right;\">\n",
       "      <th></th>\n",
       "      <th>Q</th>\n",
       "      <th>A</th>\n",
       "      <th>label</th>\n",
       "    </tr>\n",
       "  </thead>\n",
       "  <tbody>\n",
       "    <tr>\n",
       "      <th>0</th>\n",
       "      <td>12시 땡!</td>\n",
       "      <td>하루가 또 가네요.</td>\n",
       "      <td>0</td>\n",
       "    </tr>\n",
       "    <tr>\n",
       "      <th>1</th>\n",
       "      <td>1지망 학교 떨어졌어</td>\n",
       "      <td>위로해 드립니다.</td>\n",
       "      <td>0</td>\n",
       "    </tr>\n",
       "    <tr>\n",
       "      <th>2</th>\n",
       "      <td>3박4일 놀러가고 싶다</td>\n",
       "      <td>여행은 언제나 좋죠.</td>\n",
       "      <td>0</td>\n",
       "    </tr>\n",
       "    <tr>\n",
       "      <th>3</th>\n",
       "      <td>3박4일 정도 놀러가고 싶다</td>\n",
       "      <td>여행은 언제나 좋죠.</td>\n",
       "      <td>0</td>\n",
       "    </tr>\n",
       "    <tr>\n",
       "      <th>4</th>\n",
       "      <td>PPL 심하네</td>\n",
       "      <td>눈살이 찌푸려지죠.</td>\n",
       "      <td>0</td>\n",
       "    </tr>\n",
       "  </tbody>\n",
       "</table>\n",
       "</div>"
      ],
      "text/plain": [
       "                 Q            A  label\n",
       "0           12시 땡!   하루가 또 가네요.      0\n",
       "1      1지망 학교 떨어졌어    위로해 드립니다.      0\n",
       "2     3박4일 놀러가고 싶다  여행은 언제나 좋죠.      0\n",
       "3  3박4일 정도 놀러가고 싶다  여행은 언제나 좋죠.      0\n",
       "4          PPL 심하네   눈살이 찌푸려지죠.      0"
      ]
     },
     "execution_count": 13,
     "metadata": {},
     "output_type": "execute_result"
    }
   ],
   "source": [
    "#데이터 확인하기\n",
    "train_data.head()"
   ]
  },
  {
   "cell_type": "code",
   "execution_count": 14,
   "id": "1bef5d0e",
   "metadata": {},
   "outputs": [
    {
     "name": "stdout",
     "output_type": "stream",
     "text": [
      "11823\n"
     ]
    }
   ],
   "source": [
    "#데이터 갯수 확인하기\n",
    "print(len(train_data))"
   ]
  },
  {
   "cell_type": "markdown",
   "id": "6318c129",
   "metadata": {},
   "source": [
    "# Step 2. 데이터 전처리하기"
   ]
  },
  {
   "cell_type": "code",
   "execution_count": 15,
   "id": "eed31b8b",
   "metadata": {},
   "outputs": [
    {
     "name": "stdout",
     "output_type": "stream",
     "text": [
      "전처리 완료1\n"
     ]
    }
   ],
   "source": [
    "def preprocess_sentence(sentence):\n",
    "    sentence = sentence.lower().strip()\n",
    "\n",
    "  # 단어와 구두점(punctuation) 사이의 거리를 만듭니다.\n",
    "    sentence = re.sub(r\"([?.!,])\", r\" \\1 \", sentence)\n",
    "    sentence = re.sub(r'[\" \"]+', \" \", sentence)\n",
    "\n",
    "  # (a-z, A-Z, \".\", \"?\", \"!\", \",\")를 제외한 모든 문자를 공백인 ' '로 대체합니다.\n",
    "    sentence = re.sub(r\"[^가-힣a-zA-Z0-9?.!,]+\", \" \", sentence)\n",
    "    sentence = sentence.strip()\n",
    "    return sentence\n",
    "print('전처리 완료1')"
   ]
  },
  {
   "cell_type": "code",
   "execution_count": 16,
   "id": "c50718d9",
   "metadata": {},
   "outputs": [
    {
     "name": "stdout",
     "output_type": "stream",
     "text": [
      "전처리 완료2\n"
     ]
    }
   ],
   "source": [
    "# 질문과 답변의 쌍인 데이터셋을 구성하기 위한 데이터 로드 함수\n",
    "def load_conversations():\n",
    "    inputs, outputs = [], []\n",
    "    for i in range(len(train_data)):\n",
    "      # 전처리 함수를 질문에 해당되는 inputs와 답변에 해당되는 outputs에 적용.\n",
    "        inputs.append(preprocess_sentence(train_data['Q'].values[i]))\n",
    "        outputs.append(preprocess_sentence(train_data['A'].values[i]))\n",
    "    return inputs, outputs\n",
    "print('전처리 완료2')"
   ]
  },
  {
   "cell_type": "code",
   "execution_count": 17,
   "id": "5fda4ce2",
   "metadata": {
    "scrolled": true
   },
   "outputs": [
    {
     "name": "stdout",
     "output_type": "stream",
     "text": [
      "전체 샘플 수 : 11823\n",
      "전체 샘플 수 : 11823\n"
     ]
    }
   ],
   "source": [
    "# 데이터를 로드하고 전처리하여 질문을 questions, 답변을 answers에 저장합니다.\n",
    "questions, answers = load_conversations()\n",
    "print('전체 샘플 수 :', len(questions))\n",
    "print('전체 샘플 수 :', len(answers))"
   ]
  },
  {
   "cell_type": "code",
   "execution_count": 18,
   "id": "bc2c851e",
   "metadata": {},
   "outputs": [
    {
     "name": "stdout",
     "output_type": "stream",
     "text": [
      "전처리 후의 1번째 질문 샘플: 12시 땡 !\n",
      "전처리 후의 1번째 답변 샘플: 하루가 또 가네요 .\n"
     ]
    }
   ],
   "source": [
    "print('전처리 후의 1번째 질문 샘플: {}'.format(questions[0]))\n",
    "print('전처리 후의 1번째 답변 샘플: {}'.format(answers[0]))"
   ]
  },
  {
   "cell_type": "markdown",
   "id": "ab6a9f57",
   "metadata": {},
   "source": [
    "# Step 3. SubwordTextEncoder 사용하기"
   ]
  },
  {
   "cell_type": "code",
   "execution_count": 19,
   "id": "176f192a",
   "metadata": {},
   "outputs": [],
   "source": [
    "tokenizer = tfds.deprecated.text.SubwordTextEncoder.build_from_corpus(questions + answers, target_vocab_size=2**13)"
   ]
  },
  {
   "cell_type": "code",
   "execution_count": 20,
   "id": "ba24a489",
   "metadata": {},
   "outputs": [
    {
     "name": "stdout",
     "output_type": "stream",
     "text": [
      "START_TOKEN의 번호 : [8162]\n",
      "END_TOKEN의 번호 : [8163]\n"
     ]
    }
   ],
   "source": [
    "START_TOKEN, END_TOKEN = [tokenizer.vocab_size], [tokenizer.vocab_size + 1]\n",
    "print('START_TOKEN의 번호 :' ,[tokenizer.vocab_size])\n",
    "print('END_TOKEN의 번호 :' ,[tokenizer.vocab_size + 1])"
   ]
  },
  {
   "cell_type": "code",
   "execution_count": 21,
   "id": "be9c530b",
   "metadata": {},
   "outputs": [
    {
     "name": "stdout",
     "output_type": "stream",
     "text": [
      "8164\n"
     ]
    }
   ],
   "source": [
    "VOCAB_SIZE = tokenizer.vocab_size + 2\n",
    "print(VOCAB_SIZE)"
   ]
  },
  {
   "cell_type": "code",
   "execution_count": 22,
   "id": "2e648f59",
   "metadata": {},
   "outputs": [
    {
     "name": "stdout",
     "output_type": "stream",
     "text": [
      "정수 인코딩 후의 21번째 질문 샘플: [5756, 610, 2486, 4158]\n",
      "정수 인코딩 후의 21번째 답변 샘플: [2355, 7502, 7, 6266, 97, 1]\n"
     ]
    }
   ],
   "source": [
    "print('정수 인코딩 후의 21번째 질문 샘플: {}'.format(tokenizer.encode(questions[21])))\n",
    "print('정수 인코딩 후의 21번째 답변 샘플: {}'.format(tokenizer.encode(answers[21])))"
   ]
  },
  {
   "cell_type": "code",
   "execution_count": 23,
   "id": "e85937c2",
   "metadata": {},
   "outputs": [
    {
     "name": "stdout",
     "output_type": "stream",
     "text": [
      "질문의 최대 길이 : 16\n",
      "질문의 평균 길이 : 3.9378330373001775\n",
      "대답의 최대 길이 : 24\n",
      "대답의 평균 길이 : 4.716146494121627\n"
     ]
    },
    {
     "data": {
      "image/png": "[encoded data removed]",
      "text/plain": [
       "<Figure size 432x288 with 1 Axes>"
      ]
     },
     "metadata": {
      "needs_background": "light"
     },
     "output_type": "display_data"
    },
    {
     "data": {
      "image/png": "[encoded data removed]",
      "text/plain": [
       "<Figure size 432x288 with 1 Axes>"
      ]
     },
     "metadata": {
      "needs_background": "light"
     },
     "output_type": "display_data"
    }
   ],
   "source": [
    "#최대길이와 평균길이를 확인하기 위해 그래프 그리기\n",
    "questions_len = [len(s.split()) for s in questions]\n",
    "answers_len = [len(s.split()) for s in answers]\n",
    "\n",
    "print('질문의 최대 길이 : {}'.format(np.max(questions_len)))\n",
    "print('질문의 평균 길이 : {}'.format(np.mean(questions_len)))\n",
    "print('대답의 최대 길이 : {}'.format(np.max(answers_len)))\n",
    "print('대답의 평균 길이 : {}'.format(np.mean(answers_len)))\n",
    "\n",
    "plt.title('questions')\n",
    "plt.hist(questions_len, bins = 40)\n",
    "plt.xlabel('length of samples')\n",
    "plt.ylabel('number of samples')\n",
    "plt.show()\n",
    "\n",
    "plt.title('answers')\n",
    "plt.hist(answers_len, bins = 40)\n",
    "plt.xlabel('length of samples')\n",
    "plt.ylabel('number of samples')\n",
    "plt.show()"
   ]
  },
  {
   "cell_type": "markdown",
   "id": "7c138f49",
   "metadata": {},
   "source": [
    "막대 그래프에 의하면, answers에 글자수가 9를 넘어가는 데이터는 그렇게 많지 않다. 그래서 MAX_LENGTH = 9로 설정한다."
   ]
  },
  {
   "cell_type": "code",
   "execution_count": 24,
   "id": "cd8a5a02",
   "metadata": {},
   "outputs": [
    {
     "name": "stdout",
     "output_type": "stream",
     "text": [
      "9\n"
     ]
    }
   ],
   "source": [
    "MAX_LENGTH = 9\n",
    "print(MAX_LENGTH)"
   ]
  },
  {
   "cell_type": "code",
   "execution_count": 25,
   "id": "125e6921",
   "metadata": {},
   "outputs": [],
   "source": [
    "# 정수 인코딩, 최대 길이를 초과하는 샘플 제거, 패딩\n",
    "def tokenize_and_filter(inputs, outputs):\n",
    "  tokenized_inputs, tokenized_outputs = [], []\n",
    "  \n",
    "  for (sentence1, sentence2) in zip(inputs, outputs):\n",
    "    # 정수 인코딩 과정에서 시작 토큰과 종료 토큰을 추가\n",
    "    sentence1 = START_TOKEN + tokenizer.encode(sentence1) + END_TOKEN\n",
    "    sentence2 = START_TOKEN + tokenizer.encode(sentence2) + END_TOKEN\n",
    "\n",
    "    # 최대 길이 40 이하인 경우에만 데이터셋으로 허용\n",
    "    if len(sentence1) <= MAX_LENGTH and len(sentence2) <= MAX_LENGTH:\n",
    "      tokenized_inputs.append(sentence1)\n",
    "      tokenized_outputs.append(sentence2)\n",
    "  \n",
    "  # 최대 길이 40으로 모든 데이터셋을 패딩\n",
    "  tokenized_inputs = tf.keras.preprocessing.sequence.pad_sequences(\n",
    "      tokenized_inputs, maxlen=MAX_LENGTH, padding='post')\n",
    "  tokenized_outputs = tf.keras.preprocessing.sequence.pad_sequences(\n",
    "      tokenized_outputs, maxlen=MAX_LENGTH, padding='post')\n",
    "  \n",
    "  return tokenized_inputs, tokenized_outputs"
   ]
  },
  {
   "cell_type": "code",
   "execution_count": 26,
   "id": "74f00494",
   "metadata": {},
   "outputs": [
    {
     "name": "stdout",
     "output_type": "stream",
     "text": [
      "단어장의 크기 : 8164\n",
      "필터링 후의 질문 샘플 개수: 7820\n",
      "필터링 후의 답변 샘플 개수: 7820\n"
     ]
    }
   ],
   "source": [
    "questions, answers = tokenize_and_filter(questions, answers)\n",
    "print('단어장의 크기 :',(VOCAB_SIZE))\n",
    "print('필터링 후의 질문 샘플 개수: {}'.format(len(questions)))\n",
    "print('필터링 후의 답변 샘플 개수: {}'.format(len(answers)))"
   ]
  },
  {
   "cell_type": "code",
   "execution_count": 88,
   "id": "932e921c",
   "metadata": {},
   "outputs": [
    {
     "name": "stdout",
     "output_type": "stream",
     "text": [
      "교사 강요 사용하기\n"
     ]
    }
   ],
   "source": [
    "BATCH_SIZE = 64\n",
    "BUFFER_SIZE = 20000\n",
    "\n",
    "# 디코더는 이전의 target을 다음의 input으로 사용합니다.\n",
    "# 이에 따라 outputs에서는 START_TOKEN을 제거하겠습니다.\n",
    "dataset = tf.data.Dataset.from_tensor_slices((\n",
    "    {\n",
    "        'inputs': questions,\n",
    "        'dec_inputs': answers[:, :-1]\n",
    "    },\n",
    "    {\n",
    "        'outputs': answers[:, 1:]\n",
    "    },\n",
    "))\n",
    "\n",
    "dataset = dataset.cache()\n",
    "dataset = dataset.shuffle(BUFFER_SIZE)\n",
    "dataset = dataset.batch(BATCH_SIZE)\n",
    "dataset = dataset.prefetch(tf.data.experimental.AUTOTUNE)\n",
    "print(\"교사 강요 사용하기\")"
   ]
  },
  {
   "cell_type": "code",
   "execution_count": 28,
   "id": "d86ebc8f",
   "metadata": {},
   "outputs": [
    {
     "name": "stdout",
     "output_type": "stream",
     "text": [
      "모델 정의 및 학습 완료\n"
     ]
    }
   ],
   "source": [
    "def transformer(vocab_size,\n",
    "                num_layers,\n",
    "                units,\n",
    "                d_model,\n",
    "                num_heads,\n",
    "                dropout,\n",
    "                name=\"transformer\"):\n",
    "  inputs = tf.keras.Input(shape=(None,), name=\"inputs\")\n",
    "  dec_inputs = tf.keras.Input(shape=(None,), name=\"dec_inputs\")\n",
    "\n",
    "  # 인코더에서 패딩을 위한 마스크\n",
    "  enc_padding_mask = tf.keras.layers.Lambda(\n",
    "      create_padding_mask, output_shape=(1, 1, None),\n",
    "      name='enc_padding_mask')(inputs)\n",
    "\n",
    "  # 디코더에서 미래의 토큰을 마스크 하기 위해서 사용합니다.\n",
    "  # 내부적으로 패딩 마스크도 포함되어져 있습니다.\n",
    "  look_ahead_mask = tf.keras.layers.Lambda(\n",
    "      create_look_ahead_mask,\n",
    "      output_shape=(1, None, None),\n",
    "      name='look_ahead_mask')(dec_inputs)\n",
    "\n",
    "  # 두 번째 어텐션 블록에서 인코더의 벡터들을 마스킹\n",
    "  # 디코더에서 패딩을 위한 마스크\n",
    "  dec_padding_mask = tf.keras.layers.Lambda(\n",
    "      create_padding_mask, output_shape=(1, 1, None),\n",
    "      name='dec_padding_mask')(inputs)\n",
    "\n",
    "  # 인코더\n",
    "  enc_outputs = encoder(\n",
    "      vocab_size=vocab_size,\n",
    "      num_layers=num_layers,\n",
    "      units=units,\n",
    "      d_model=d_model,\n",
    "      num_heads=num_heads,\n",
    "      dropout=dropout,\n",
    "  )(inputs=[inputs, enc_padding_mask])\n",
    "\n",
    "  # 디코더\n",
    "  dec_outputs = decoder(\n",
    "      vocab_size=vocab_size,\n",
    "      num_layers=num_layers,\n",
    "      units=units,\n",
    "      d_model=d_model,\n",
    "      num_heads=num_heads,\n",
    "      dropout=dropout,\n",
    "  )(inputs=[dec_inputs, enc_outputs, look_ahead_mask, dec_padding_mask])\n",
    "\n",
    "  # 완전연결층\n",
    "  outputs = tf.keras.layers.Dense(units=vocab_size, name=\"outputs\")(dec_outputs)\n",
    "\n",
    "  return tf.keras.Model(inputs=[inputs, dec_inputs], outputs=outputs, name=name)\n",
    "print(\"모델 정의 및 학습 완료\")"
   ]
  },
  {
   "cell_type": "markdown",
   "id": "edbf6269",
   "metadata": {},
   "source": [
    "# Step 4. 모델 구성하기"
   ]
  },
  {
   "cell_type": "code",
   "execution_count": 29,
   "id": "8ae61343",
   "metadata": {},
   "outputs": [
    {
     "name": "stdout",
     "output_type": "stream",
     "text": [
      "Model: \"transformer\"\n",
      "__________________________________________________________________________________________________\n",
      "Layer (type)                    Output Shape         Param #     Connected to                     \n",
      "==================================================================================================\n",
      "inputs (InputLayer)             [(None, None)]       0                                            \n",
      "__________________________________________________________________________________________________\n",
      "dec_inputs (InputLayer)         [(None, None)]       0                                            \n",
      "__________________________________________________________________________________________________\n",
      "enc_padding_mask (Lambda)       (None, 1, 1, None)   0           inputs[0][0]                     \n",
      "__________________________________________________________________________________________________\n",
      "encoder (Functional)            (None, None, 256)    3144192     inputs[0][0]                     \n",
      "                                                                 enc_padding_mask[0][0]           \n",
      "__________________________________________________________________________________________________\n",
      "look_ahead_mask (Lambda)        (None, 1, None, None 0           dec_inputs[0][0]                 \n",
      "__________________________________________________________________________________________________\n",
      "dec_padding_mask (Lambda)       (None, 1, 1, None)   0           inputs[0][0]                     \n",
      "__________________________________________________________________________________________________\n",
      "decoder (Functional)            (None, None, 256)    3671552     dec_inputs[0][0]                 \n",
      "                                                                 encoder[0][0]                    \n",
      "                                                                 look_ahead_mask[0][0]            \n",
      "                                                                 dec_padding_mask[0][0]           \n",
      "__________________________________________________________________________________________________\n",
      "outputs (Dense)                 (None, None, 8164)   2098148     decoder[0][0]                    \n",
      "==================================================================================================\n",
      "Total params: 8,913,892\n",
      "Trainable params: 8,913,892\n",
      "Non-trainable params: 0\n",
      "__________________________________________________________________________________________________\n"
     ]
    }
   ],
   "source": [
    "tf.keras.backend.clear_session()\n",
    "\n",
    "# 하이퍼파라미터\n",
    "NUM_LAYERS = 2 # 인코더와 디코더의 층의 개수\n",
    "D_MODEL = 256 # 인코더와 디코더 내부의 입, 출력의 고정 차원\n",
    "NUM_HEADS = 8 # 멀티 헤드 어텐션에서의 헤드 수 \n",
    "UNITS = 512 # 피드 포워드 신경망의 은닉층의 크기\n",
    "DROPOUT = 0.1 # 드롭아웃의 비율\n",
    "\n",
    "model = transformer(\n",
    "    vocab_size=VOCAB_SIZE,\n",
    "    num_layers=NUM_LAYERS,\n",
    "    units=UNITS,\n",
    "    d_model=D_MODEL,\n",
    "    num_heads=NUM_HEADS,\n",
    "    dropout=DROPOUT)\n",
    "\n",
    "model.summary()"
   ]
  },
  {
   "cell_type": "code",
   "execution_count": 30,
   "id": "9515b996",
   "metadata": {},
   "outputs": [
    {
     "name": "stdout",
     "output_type": "stream",
     "text": [
      "손실함수\n"
     ]
    }
   ],
   "source": [
    "def loss_function(y_true, y_pred):\n",
    "  y_true = tf.reshape(y_true, shape=(-1, MAX_LENGTH - 1))\n",
    "  \n",
    "  loss = tf.keras.losses.SparseCategoricalCrossentropy(\n",
    "      from_logits=True, reduction='none')(y_true, y_pred)\n",
    "\n",
    "  mask = tf.cast(tf.not_equal(y_true, 0), tf.float32)\n",
    "  loss = tf.multiply(loss, mask)\n",
    "\n",
    "  return tf.reduce_mean(loss)\n",
    "print(\"손실함수\")"
   ]
  },
  {
   "cell_type": "code",
   "execution_count": 31,
   "id": "914ad3ad",
   "metadata": {},
   "outputs": [
    {
     "name": "stdout",
     "output_type": "stream",
     "text": [
      "커스텀된 학습률\n"
     ]
    }
   ],
   "source": [
    "class CustomSchedule(tf.keras.optimizers.schedules.LearningRateSchedule):\n",
    "\n",
    "  def __init__(self, d_model, warmup_steps=4000):\n",
    "    super(CustomSchedule, self).__init__()\n",
    "\n",
    "    self.d_model = d_model\n",
    "    self.d_model = tf.cast(self.d_model, tf.float32)\n",
    "\n",
    "    self.warmup_steps = warmup_steps\n",
    "\n",
    "  def __call__(self, step):\n",
    "    arg1 = tf.math.rsqrt(step)\n",
    "    arg2 = step * (self.warmup_steps**-1.5)\n",
    "\n",
    "    return tf.math.rsqrt(self.d_model) * tf.math.minimum(arg1, arg2)\n",
    "print(\"커스텀된 학습률\")"
   ]
  },
  {
   "cell_type": "code",
   "execution_count": 32,
   "id": "b9584659",
   "metadata": {},
   "outputs": [
    {
     "data": {
      "text/plain": [
       "Text(0.5, 0, 'Train Step')"
      ]
     },
     "execution_count": 32,
     "metadata": {},
     "output_type": "execute_result"
    },
    {
     "data": {
      "image/png": "[encoded data removed]",
      "text/plain": [
       "<Figure size 432x288 with 1 Axes>"
      ]
     },
     "metadata": {
      "needs_background": "light"
     },
     "output_type": "display_data"
    }
   ],
   "source": [
    "sample_learning_rate = CustomSchedule(d_model=128)\n",
    "\n",
    "plt.plot(sample_learning_rate(tf.range(200000, dtype=tf.float32)))\n",
    "plt.ylabel(\"Learning Rate\")\n",
    "plt.xlabel(\"Train Step\")"
   ]
  },
  {
   "cell_type": "code",
   "execution_count": 34,
   "id": "a642fea8",
   "metadata": {},
   "outputs": [
    {
     "name": "stdout",
     "output_type": "stream",
     "text": [
      "모델 컴파일\n"
     ]
    }
   ],
   "source": [
    "learning_rate = CustomSchedule(D_MODEL)\n",
    "\n",
    "optimizer = tf.keras.optimizers.Adam(\n",
    "    learning_rate, beta_1=0.9, beta_2=0.98, epsilon=1e-9)\n",
    "\n",
    "def accuracy(y_true, y_pred):\n",
    "  y_true = tf.reshape(y_true, shape=(-1, MAX_LENGTH - 1))\n",
    "  return tf.keras.metrics.sparse_categorical_accuracy(y_true, y_pred)\n",
    "\n",
    "model.compile(optimizer=optimizer, loss=loss_function, metrics=[accuracy])\n",
    "print(\"모델 컴파일\")"
   ]
  },
  {
   "cell_type": "code",
   "execution_count": 35,
   "id": "74e9552a",
   "metadata": {},
   "outputs": [
    {
     "name": "stdout",
     "output_type": "stream",
     "text": [
      "Epoch 1/70\n",
      "123/123 [==============================] - 9s 26ms/step - loss: 6.0670 - accuracy: 0.0966\n",
      "Epoch 2/70\n",
      "123/123 [==============================] - 3s 25ms/step - loss: 5.2089 - accuracy: 0.2104\n",
      "Epoch 3/70\n",
      "123/123 [==============================] - 3s 26ms/step - loss: 4.3695 - accuracy: 0.2400\n",
      "Epoch 4/70\n",
      "123/123 [==============================] - 3s 25ms/step - loss: 3.8468 - accuracy: 0.2429\n",
      "Epoch 5/70\n",
      "123/123 [==============================] - 3s 25ms/step - loss: 3.5596 - accuracy: 0.2499\n",
      "Epoch 6/70\n",
      "123/123 [==============================] - 3s 25ms/step - loss: 3.3584 - accuracy: 0.2607\n",
      "Epoch 7/70\n",
      "123/123 [==============================] - 3s 25ms/step - loss: 3.1646 - accuracy: 0.2737\n",
      "Epoch 8/70\n",
      "123/123 [==============================] - 3s 25ms/step - loss: 2.9646 - accuracy: 0.2921\n",
      "Epoch 9/70\n",
      "123/123 [==============================] - 3s 25ms/step - loss: 2.7497 - accuracy: 0.3187\n",
      "Epoch 10/70\n",
      "123/123 [==============================] - 3s 25ms/step - loss: 2.5095 - accuracy: 0.3479\n",
      "Epoch 11/70\n",
      "123/123 [==============================] - 3s 25ms/step - loss: 2.2479 - accuracy: 0.3806\n",
      "Epoch 12/70\n",
      "123/123 [==============================] - 3s 25ms/step - loss: 1.9766 - accuracy: 0.4145\n",
      "Epoch 13/70\n",
      "123/123 [==============================] - 3s 25ms/step - loss: 1.7001 - accuracy: 0.4490\n",
      "Epoch 14/70\n",
      "123/123 [==============================] - 3s 25ms/step - loss: 1.4276 - accuracy: 0.4861\n",
      "Epoch 15/70\n",
      "123/123 [==============================] - 3s 25ms/step - loss: 1.1680 - accuracy: 0.5236\n",
      "Epoch 16/70\n",
      "123/123 [==============================] - 3s 25ms/step - loss: 0.9270 - accuracy: 0.5615\n",
      "Epoch 17/70\n",
      "123/123 [==============================] - 3s 25ms/step - loss: 0.7142 - accuracy: 0.5952\n",
      "Epoch 18/70\n",
      "123/123 [==============================] - 3s 25ms/step - loss: 0.5346 - accuracy: 0.6251\n",
      "Epoch 19/70\n",
      "123/123 [==============================] - 3s 25ms/step - loss: 0.3837 - accuracy: 0.6515\n",
      "Epoch 20/70\n",
      "123/123 [==============================] - 3s 25ms/step - loss: 0.2757 - accuracy: 0.6704\n",
      "Epoch 21/70\n",
      "123/123 [==============================] - 3s 25ms/step - loss: 0.1933 - accuracy: 0.6849\n",
      "Epoch 22/70\n",
      "123/123 [==============================] - 3s 24ms/step - loss: 0.1464 - accuracy: 0.6915\n",
      "Epoch 23/70\n",
      "123/123 [==============================] - 3s 25ms/step - loss: 0.1153 - accuracy: 0.6948\n",
      "Epoch 24/70\n",
      "123/123 [==============================] - 3s 25ms/step - loss: 0.1028 - accuracy: 0.6958\n",
      "Epoch 25/70\n",
      "123/123 [==============================] - 3s 25ms/step - loss: 0.0887 - accuracy: 0.6972\n",
      "Epoch 26/70\n",
      "123/123 [==============================] - 3s 25ms/step - loss: 0.0823 - accuracy: 0.6977\n",
      "Epoch 27/70\n",
      "123/123 [==============================] - 3s 25ms/step - loss: 0.0799 - accuracy: 0.6983\n",
      "Epoch 28/70\n",
      "123/123 [==============================] - 3s 25ms/step - loss: 0.0762 - accuracy: 0.6986\n",
      "Epoch 29/70\n",
      "123/123 [==============================] - 3s 25ms/step - loss: 0.0749 - accuracy: 0.6983\n",
      "Epoch 30/70\n",
      "123/123 [==============================] - 3s 25ms/step - loss: 0.0728 - accuracy: 0.6981\n",
      "Epoch 31/70\n",
      "123/123 [==============================] - 3s 25ms/step - loss: 0.0733 - accuracy: 0.6981\n",
      "Epoch 32/70\n",
      "123/123 [==============================] - 3s 25ms/step - loss: 0.0739 - accuracy: 0.6983\n",
      "Epoch 33/70\n",
      "123/123 [==============================] - 3s 25ms/step - loss: 0.0699 - accuracy: 0.6990\n",
      "Epoch 34/70\n",
      "123/123 [==============================] - 3s 25ms/step - loss: 0.0667 - accuracy: 0.6997\n",
      "Epoch 35/70\n",
      "123/123 [==============================] - 3s 25ms/step - loss: 0.0608 - accuracy: 0.7006\n",
      "Epoch 36/70\n",
      "123/123 [==============================] - 3s 25ms/step - loss: 0.0548 - accuracy: 0.7024\n",
      "Epoch 37/70\n",
      "123/123 [==============================] - 3s 25ms/step - loss: 0.0528 - accuracy: 0.7027\n",
      "Epoch 38/70\n",
      "123/123 [==============================] - 3s 25ms/step - loss: 0.0487 - accuracy: 0.7039\n",
      "Epoch 39/70\n",
      "123/123 [==============================] - 3s 25ms/step - loss: 0.0423 - accuracy: 0.7054\n",
      "Epoch 40/70\n",
      "123/123 [==============================] - 3s 25ms/step - loss: 0.0419 - accuracy: 0.7052\n",
      "Epoch 41/70\n",
      "123/123 [==============================] - 3s 25ms/step - loss: 0.0417 - accuracy: 0.7054\n",
      "Epoch 42/70\n",
      "123/123 [==============================] - 3s 25ms/step - loss: 0.0355 - accuracy: 0.7069\n",
      "Epoch 43/70\n",
      "123/123 [==============================] - 3s 25ms/step - loss: 0.0362 - accuracy: 0.7069\n",
      "Epoch 44/70\n",
      "123/123 [==============================] - 3s 25ms/step - loss: 0.0324 - accuracy: 0.7082\n",
      "Epoch 45/70\n",
      "123/123 [==============================] - 3s 26ms/step - loss: 0.0308 - accuracy: 0.7082\n",
      "Epoch 46/70\n",
      "123/123 [==============================] - 3s 25ms/step - loss: 0.0289 - accuracy: 0.7089\n",
      "Epoch 47/70\n",
      "123/123 [==============================] - 3s 26ms/step - loss: 0.0302 - accuracy: 0.7086\n",
      "Epoch 48/70\n",
      "123/123 [==============================] - 3s 25ms/step - loss: 0.0254 - accuracy: 0.7094\n",
      "Epoch 49/70\n",
      "123/123 [==============================] - 3s 25ms/step - loss: 0.0266 - accuracy: 0.7093\n",
      "Epoch 50/70\n",
      "123/123 [==============================] - 3s 25ms/step - loss: 0.0261 - accuracy: 0.7090\n",
      "Epoch 51/70\n",
      "123/123 [==============================] - 3s 25ms/step - loss: 0.0240 - accuracy: 0.7099\n",
      "Epoch 52/70\n",
      "123/123 [==============================] - 3s 25ms/step - loss: 0.0233 - accuracy: 0.7099\n",
      "Epoch 53/70\n",
      "123/123 [==============================] - 3s 25ms/step - loss: 0.0238 - accuracy: 0.7098\n",
      "Epoch 54/70\n",
      "123/123 [==============================] - 3s 25ms/step - loss: 0.0209 - accuracy: 0.7103\n",
      "Epoch 55/70\n",
      "123/123 [==============================] - 3s 25ms/step - loss: 0.0194 - accuracy: 0.7107\n",
      "Epoch 56/70\n",
      "123/123 [==============================] - 3s 25ms/step - loss: 0.0197 - accuracy: 0.7109\n",
      "Epoch 57/70\n",
      "123/123 [==============================] - 3s 25ms/step - loss: 0.0205 - accuracy: 0.7105\n",
      "Epoch 58/70\n",
      "123/123 [==============================] - 3s 25ms/step - loss: 0.0176 - accuracy: 0.7113\n",
      "Epoch 59/70\n",
      "123/123 [==============================] - 3s 25ms/step - loss: 0.0167 - accuracy: 0.7114\n",
      "Epoch 60/70\n",
      "123/123 [==============================] - 3s 25ms/step - loss: 0.0181 - accuracy: 0.7111\n",
      "Epoch 61/70\n",
      "123/123 [==============================] - 3s 25ms/step - loss: 0.0187 - accuracy: 0.7110\n",
      "Epoch 62/70\n",
      "123/123 [==============================] - 3s 25ms/step - loss: 0.0161 - accuracy: 0.7112\n",
      "Epoch 63/70\n",
      "123/123 [==============================] - 3s 25ms/step - loss: 0.0176 - accuracy: 0.7113\n",
      "Epoch 64/70\n",
      "123/123 [==============================] - 3s 25ms/step - loss: 0.0153 - accuracy: 0.7117\n",
      "Epoch 65/70\n",
      "123/123 [==============================] - 3s 25ms/step - loss: 0.0143 - accuracy: 0.7117\n",
      "Epoch 66/70\n",
      "123/123 [==============================] - 3s 25ms/step - loss: 0.0143 - accuracy: 0.7120\n",
      "Epoch 67/70\n",
      "123/123 [==============================] - 3s 25ms/step - loss: 0.0140 - accuracy: 0.7120\n",
      "Epoch 68/70\n",
      "123/123 [==============================] - 3s 25ms/step - loss: 0.0140 - accuracy: 0.7121\n",
      "Epoch 69/70\n",
      "123/123 [==============================] - 3s 25ms/step - loss: 0.0137 - accuracy: 0.7119\n",
      "Epoch 70/70\n",
      "123/123 [==============================] - 3s 25ms/step - loss: 0.0142 - accuracy: 0.7120\n"
     ]
    },
    {
     "data": {
      "text/plain": [
       "<keras.callbacks.History at 0x7fe18c0c2220>"
      ]
     },
     "execution_count": 35,
     "metadata": {},
     "output_type": "execute_result"
    }
   ],
   "source": [
    "EPOCHS = 70\n",
    "model.fit(dataset, epochs=EPOCHS, verbose=1)"
   ]
  },
  {
   "cell_type": "markdown",
   "id": "6407bb12",
   "metadata": {},
   "source": [
    "# Step 5. 모델 평가하기"
   ]
  },
  {
   "cell_type": "code",
   "execution_count": 36,
   "id": "8f8fe819",
   "metadata": {},
   "outputs": [
    {
     "name": "stdout",
     "output_type": "stream",
     "text": [
      "챗봇 테스트하기1\n"
     ]
    }
   ],
   "source": [
    "def decoder_inference(sentence):\n",
    "  sentence = preprocess_sentence(sentence)\n",
    "\n",
    "  # 입력된 문장을 정수 인코딩 후, 시작 토큰과 종료 토큰을 앞뒤로 추가.\n",
    "  # ex) Where have you been? → [[8331   86   30    5 1059    7 8332]]\n",
    "  sentence = tf.expand_dims(\n",
    "      START_TOKEN + tokenizer.encode(sentence) + END_TOKEN, axis=0)\n",
    "\n",
    "  # 디코더의 현재까지의 예측한 출력 시퀀스가 지속적으로 저장되는 변수.\n",
    "  # 처음에는 예측한 내용이 없음으로 시작 토큰만 별도 저장. ex) 8331\n",
    "  output_sequence = tf.expand_dims(START_TOKEN, 0)\n",
    "\n",
    "  # 디코더의 인퍼런스 단계\n",
    "  for i in range(MAX_LENGTH):\n",
    "    # 디코더는 최대 MAX_LENGTH의 길이만큼 다음 단어 예측을 반복합니다.\n",
    "    predictions = model(inputs=[sentence, output_sequence], training=False)\n",
    "    predictions = predictions[:, -1:, :]\n",
    "\n",
    "    # 현재 예측한 단어의 정수\n",
    "    predicted_id = tf.cast(tf.argmax(predictions, axis=-1), tf.int32)\n",
    "\n",
    "    # 만약 현재 예측한 단어가 종료 토큰이라면 for문을 종료\n",
    "    if tf.equal(predicted_id, END_TOKEN[0]):\n",
    "      break\n",
    "\n",
    "    # 예측한 단어들은 지속적으로 output_sequence에 추가됩니다.\n",
    "    # 이 output_sequence는 다시 디코더의 입력이 됩니다.\n",
    "    output_sequence = tf.concat([output_sequence, predicted_id], axis=-1)\n",
    "\n",
    "  return tf.squeeze(output_sequence, axis=0)\n",
    "print(\"챗봇 테스트하기1\")"
   ]
  },
  {
   "cell_type": "code",
   "execution_count": 37,
   "id": "cc80885c",
   "metadata": {},
   "outputs": [
    {
     "name": "stdout",
     "output_type": "stream",
     "text": [
      "챗봇 테스트하기2\n"
     ]
    }
   ],
   "source": [
    "def sentence_generation(sentence):\n",
    "  # 입력 문장에 대해서 디코더를 동작 시켜 예측된 정수 시퀀스를 리턴받습니다.\n",
    "  prediction = decoder_inference(sentence)\n",
    "\n",
    "  # 정수 시퀀스를 다시 텍스트 시퀀스로 변환합니다.\n",
    "  predicted_sentence = tokenizer.decode(\n",
    "      [i for i in prediction if i < tokenizer.vocab_size])\n",
    "\n",
    "  print('입력 : {}'.format(sentence))\n",
    "  print('출력 : {}'.format(predicted_sentence))\n",
    "\n",
    "  return predicted_sentence\n",
    "print(\"챗봇 테스트하기2\")"
   ]
  },
  {
   "cell_type": "code",
   "execution_count": 38,
   "id": "9da72f9c",
   "metadata": {},
   "outputs": [
    {
     "name": "stdout",
     "output_type": "stream",
     "text": [
      "입력 : 오늘 날씨 어때?\n",
      "출력 : 날씨 어플에 물어보세요 .\n"
     ]
    },
    {
     "data": {
      "text/plain": [
       "'날씨 어플에 물어보세요 .'"
      ]
     },
     "execution_count": 38,
     "metadata": {},
     "output_type": "execute_result"
    }
   ],
   "source": [
    "sentence_generation('오늘 날씨 어때?')"
   ]
  },
  {
   "cell_type": "code",
   "execution_count": 39,
   "id": "3559bcfa",
   "metadata": {},
   "outputs": [
    {
     "name": "stdout",
     "output_type": "stream",
     "text": [
      "입력 : 오늘 숙제 뭐야?\n",
      "출력 : 지금도 늦지 않았어요 .\n"
     ]
    },
    {
     "data": {
      "text/plain": [
       "'지금도 늦지 않았어요 .'"
      ]
     },
     "execution_count": 39,
     "metadata": {},
     "output_type": "execute_result"
    }
   ],
   "source": [
    "sentence_generation('오늘 숙제 뭐야?')"
   ]
  },
  {
   "cell_type": "code",
   "execution_count": 40,
   "id": "bcc2d019",
   "metadata": {},
   "outputs": [
    {
     "name": "stdout",
     "output_type": "stream",
     "text": [
      "입력 : 오늘 뭐먹지?\n",
      "출력 : 색다른걸 드셔보세요 .\n"
     ]
    },
    {
     "data": {
      "text/plain": [
       "'색다른걸 드셔보세요 .'"
      ]
     },
     "execution_count": 40,
     "metadata": {},
     "output_type": "execute_result"
    }
   ],
   "source": [
    "sentence_generation('오늘 뭐먹지?')"
   ]
  },
  {
   "cell_type": "markdown",
   "id": "7246880d",
   "metadata": {},
   "source": [
    "#### 생각보다 답변이 잘나와서 놀랐다!\n",
    "#### 오늘 숙제 뭐야?라는 질문에 '지금도 늦지 않았어요'라는 대답은 조금 안 맞는 것 같아서, 모델 수정 다시하기!"
   ]
  },
  {
   "cell_type": "markdown",
   "id": "6d0f24e4",
   "metadata": {},
   "source": [
    "# Step 6. 모델 수정하기 01\n",
    "### EPOCHS = 120 / NUM_LAYERS = 4"
   ]
  },
  {
   "cell_type": "code",
   "execution_count": 43,
   "id": "53b8a9f7",
   "metadata": {},
   "outputs": [
    {
     "name": "stdout",
     "output_type": "stream",
     "text": [
      "Model: \"transformer\"\n",
      "__________________________________________________________________________________________________\n",
      "Layer (type)                    Output Shape         Param #     Connected to                     \n",
      "==================================================================================================\n",
      "inputs (InputLayer)             [(None, None)]       0                                            \n",
      "__________________________________________________________________________________________________\n",
      "dec_inputs (InputLayer)         [(None, None)]       0                                            \n",
      "__________________________________________________________________________________________________\n",
      "enc_padding_mask (Lambda)       (None, 1, 1, None)   0           inputs[0][0]                     \n",
      "__________________________________________________________________________________________________\n",
      "encoder (Functional)            (None, None, 256)    4198400     inputs[0][0]                     \n",
      "                                                                 enc_padding_mask[0][0]           \n",
      "__________________________________________________________________________________________________\n",
      "look_ahead_mask (Lambda)        (None, 1, None, None 0           dec_inputs[0][0]                 \n",
      "__________________________________________________________________________________________________\n",
      "dec_padding_mask (Lambda)       (None, 1, 1, None)   0           inputs[0][0]                     \n",
      "__________________________________________________________________________________________________\n",
      "decoder (Functional)            (None, None, 256)    5253120     dec_inputs[0][0]                 \n",
      "                                                                 encoder[0][0]                    \n",
      "                                                                 look_ahead_mask[0][0]            \n",
      "                                                                 dec_padding_mask[0][0]           \n",
      "__________________________________________________________________________________________________\n",
      "outputs (Dense)                 (None, None, 8164)   2098148     decoder[0][0]                    \n",
      "==================================================================================================\n",
      "Total params: 11,549,668\n",
      "Trainable params: 11,549,668\n",
      "Non-trainable params: 0\n",
      "__________________________________________________________________________________________________\n"
     ]
    }
   ],
   "source": [
    "tf.keras.backend.clear_session()\n",
    "\n",
    "# 하이퍼파라미터\n",
    "NUM_LAYERS = 4 # 인코더와 디코더의 층의 개수\n",
    "D_MODEL = 256 # 인코더와 디코더 내부의 입, 출력의 고정 차원\n",
    "NUM_HEADS = 8 # 멀티 헤드 어텐션에서의 헤드 수 \n",
    "UNITS = 512 # 피드 포워드 신경망의 은닉층의 크기\n",
    "DROPOUT = 0.1 # 드롭아웃의 비율\n",
    "\n",
    "model = transformer(\n",
    "    vocab_size=VOCAB_SIZE,\n",
    "    num_layers=NUM_LAYERS,\n",
    "    units=UNITS,\n",
    "    d_model=D_MODEL,\n",
    "    num_heads=NUM_HEADS,\n",
    "    dropout=DROPOUT)\n",
    "\n",
    "model.summary()"
   ]
  },
  {
   "cell_type": "code",
   "execution_count": 45,
   "id": "78381bd4",
   "metadata": {},
   "outputs": [
    {
     "name": "stdout",
     "output_type": "stream",
     "text": [
      "모델 컴파일\n"
     ]
    }
   ],
   "source": [
    "learning_rate = CustomSchedule(D_MODEL)\n",
    "\n",
    "optimizer = tf.keras.optimizers.Adam(\n",
    "    learning_rate, beta_1=0.9, beta_2=0.98, epsilon=1e-9)\n",
    "\n",
    "def accuracy(y_true, y_pred):\n",
    "  y_true = tf.reshape(y_true, shape=(-1, MAX_LENGTH - 1))\n",
    "  return tf.keras.metrics.sparse_categorical_accuracy(y_true, y_pred)\n",
    "\n",
    "model.compile(optimizer=optimizer, loss=loss_function, metrics=[accuracy])\n",
    "print(\"모델 컴파일\")"
   ]
  },
  {
   "cell_type": "code",
   "execution_count": 46,
   "id": "2c07fe41",
   "metadata": {},
   "outputs": [
    {
     "name": "stdout",
     "output_type": "stream",
     "text": [
      "Epoch 1/120\n",
      "123/123 [==============================] - 17s 46ms/step - loss: 5.9908 - accuracy: 0.1088\n",
      "Epoch 2/120\n",
      "123/123 [==============================] - 6s 46ms/step - loss: 5.1402 - accuracy: 0.2288\n",
      "Epoch 3/120\n",
      "123/123 [==============================] - 6s 47ms/step - loss: 4.3287 - accuracy: 0.2410\n",
      "Epoch 4/120\n",
      "123/123 [==============================] - 6s 46ms/step - loss: 3.8256 - accuracy: 0.2426\n",
      "Epoch 5/120\n",
      "123/123 [==============================] - 6s 46ms/step - loss: 3.5855 - accuracy: 0.2493\n",
      "Epoch 6/120\n",
      "123/123 [==============================] - 6s 46ms/step - loss: 3.4329 - accuracy: 0.2573\n",
      "Epoch 7/120\n",
      "123/123 [==============================] - 6s 46ms/step - loss: 3.2880 - accuracy: 0.2662\n",
      "Epoch 8/120\n",
      "123/123 [==============================] - 6s 46ms/step - loss: 3.1315 - accuracy: 0.2758\n",
      "Epoch 9/120\n",
      "123/123 [==============================] - 6s 46ms/step - loss: 2.9524 - accuracy: 0.2908\n",
      "Epoch 10/120\n",
      "123/123 [==============================] - 6s 47ms/step - loss: 2.7562 - accuracy: 0.3102\n",
      "Epoch 11/120\n",
      "123/123 [==============================] - 6s 46ms/step - loss: 2.5379 - accuracy: 0.3358\n",
      "Epoch 12/120\n",
      "123/123 [==============================] - 6s 46ms/step - loss: 2.3049 - accuracy: 0.3636\n",
      "Epoch 13/120\n",
      "123/123 [==============================] - 6s 45ms/step - loss: 2.0616 - accuracy: 0.3937\n",
      "Epoch 14/120\n",
      "123/123 [==============================] - 6s 45ms/step - loss: 1.8181 - accuracy: 0.4263\n",
      "Epoch 15/120\n",
      "123/123 [==============================] - 5s 44ms/step - loss: 1.5765 - accuracy: 0.4575\n",
      "Epoch 16/120\n",
      "123/123 [==============================] - 5s 43ms/step - loss: 1.3494 - accuracy: 0.4887\n",
      "Epoch 17/120\n",
      "123/123 [==============================] - 5s 42ms/step - loss: 1.1412 - accuracy: 0.5171\n",
      "Epoch 18/120\n",
      "123/123 [==============================] - 5s 42ms/step - loss: 0.9486 - accuracy: 0.5449\n",
      "Epoch 19/120\n",
      "123/123 [==============================] - 5s 42ms/step - loss: 0.7806 - accuracy: 0.5703\n",
      "Epoch 20/120\n",
      "123/123 [==============================] - 5s 42ms/step - loss: 0.6353 - accuracy: 0.5956\n",
      "Epoch 21/120\n",
      "123/123 [==============================] - 5s 42ms/step - loss: 0.5130 - accuracy: 0.6163\n",
      "Epoch 22/120\n",
      "123/123 [==============================] - 5s 42ms/step - loss: 0.4115 - accuracy: 0.6341\n",
      "Epoch 23/120\n",
      "123/123 [==============================] - 5s 42ms/step - loss: 0.3384 - accuracy: 0.6478\n",
      "Epoch 24/120\n",
      "123/123 [==============================] - 5s 42ms/step - loss: 0.2863 - accuracy: 0.6555\n",
      "Epoch 25/120\n",
      "123/123 [==============================] - 5s 42ms/step - loss: 0.2418 - accuracy: 0.6636\n",
      "Epoch 26/120\n",
      "123/123 [==============================] - 5s 41ms/step - loss: 0.2108 - accuracy: 0.6693\n",
      "Epoch 27/120\n",
      "123/123 [==============================] - 5s 42ms/step - loss: 0.1980 - accuracy: 0.6708\n",
      "Epoch 28/120\n",
      "123/123 [==============================] - 5s 41ms/step - loss: 0.1881 - accuracy: 0.6715\n",
      "Epoch 29/120\n",
      "123/123 [==============================] - 5s 43ms/step - loss: 0.1734 - accuracy: 0.6742\n",
      "Epoch 30/120\n",
      "123/123 [==============================] - 5s 41ms/step - loss: 0.1582 - accuracy: 0.6771\n",
      "Epoch 31/120\n",
      "123/123 [==============================] - 5s 41ms/step - loss: 0.1711 - accuracy: 0.6733\n",
      "Epoch 32/120\n",
      "123/123 [==============================] - 5s 41ms/step - loss: 0.1572 - accuracy: 0.6764\n",
      "Epoch 33/120\n",
      "123/123 [==============================] - 5s 42ms/step - loss: 0.1542 - accuracy: 0.6763\n",
      "Epoch 34/120\n",
      "123/123 [==============================] - 5s 41ms/step - loss: 0.1443 - accuracy: 0.6784\n",
      "Epoch 35/120\n",
      "123/123 [==============================] - 5s 41ms/step - loss: 0.1330 - accuracy: 0.6816\n",
      "Epoch 36/120\n",
      "123/123 [==============================] - 5s 41ms/step - loss: 0.1193 - accuracy: 0.6853\n",
      "Epoch 37/120\n",
      "123/123 [==============================] - 5s 41ms/step - loss: 0.1096 - accuracy: 0.6880\n",
      "Epoch 38/120\n",
      "123/123 [==============================] - 5s 41ms/step - loss: 0.1048 - accuracy: 0.6886\n",
      "Epoch 39/120\n",
      "123/123 [==============================] - 5s 42ms/step - loss: 0.0951 - accuracy: 0.6910\n",
      "Epoch 40/120\n",
      "123/123 [==============================] - 5s 42ms/step - loss: 0.0916 - accuracy: 0.6918\n",
      "Epoch 41/120\n",
      "123/123 [==============================] - 5s 41ms/step - loss: 0.0846 - accuracy: 0.6941\n",
      "Epoch 42/120\n",
      "123/123 [==============================] - 5s 42ms/step - loss: 0.0797 - accuracy: 0.6947\n",
      "Epoch 43/120\n",
      "123/123 [==============================] - 5s 42ms/step - loss: 0.0728 - accuracy: 0.6966\n",
      "Epoch 44/120\n",
      "123/123 [==============================] - 5s 43ms/step - loss: 0.0705 - accuracy: 0.6974\n",
      "Epoch 45/120\n",
      "123/123 [==============================] - 5s 42ms/step - loss: 0.0664 - accuracy: 0.6980\n",
      "Epoch 46/120\n",
      "123/123 [==============================] - 5s 42ms/step - loss: 0.0645 - accuracy: 0.6988\n",
      "Epoch 47/120\n",
      "123/123 [==============================] - 5s 42ms/step - loss: 0.0575 - accuracy: 0.7013\n",
      "Epoch 48/120\n",
      "123/123 [==============================] - 5s 42ms/step - loss: 0.0535 - accuracy: 0.7024\n",
      "Epoch 49/120\n",
      "123/123 [==============================] - 5s 42ms/step - loss: 0.0526 - accuracy: 0.7021\n",
      "Epoch 50/120\n",
      "123/123 [==============================] - 5s 43ms/step - loss: 0.0509 - accuracy: 0.7029\n",
      "Epoch 51/120\n",
      "123/123 [==============================] - 5s 43ms/step - loss: 0.0475 - accuracy: 0.7037\n",
      "Epoch 52/120\n",
      "123/123 [==============================] - 5s 42ms/step - loss: 0.0494 - accuracy: 0.7031\n",
      "Epoch 53/120\n",
      "123/123 [==============================] - 5s 41ms/step - loss: 0.0427 - accuracy: 0.7045\n",
      "Epoch 54/120\n",
      "123/123 [==============================] - 5s 42ms/step - loss: 0.0417 - accuracy: 0.7047\n",
      "Epoch 55/120\n",
      "123/123 [==============================] - 5s 42ms/step - loss: 0.0414 - accuracy: 0.7050\n",
      "Epoch 56/120\n",
      "123/123 [==============================] - 5s 42ms/step - loss: 0.0414 - accuracy: 0.7048\n",
      "Epoch 57/120\n",
      "123/123 [==============================] - 5s 41ms/step - loss: 0.0402 - accuracy: 0.7054\n",
      "Epoch 58/120\n",
      "123/123 [==============================] - 5s 42ms/step - loss: 0.0372 - accuracy: 0.7058\n",
      "Epoch 59/120\n",
      "123/123 [==============================] - 5s 41ms/step - loss: 0.0370 - accuracy: 0.7064\n",
      "Epoch 60/120\n",
      "123/123 [==============================] - 5s 42ms/step - loss: 0.0362 - accuracy: 0.7063\n",
      "Epoch 61/120\n",
      "123/123 [==============================] - 5s 41ms/step - loss: 0.0353 - accuracy: 0.7069\n",
      "Epoch 62/120\n",
      "123/123 [==============================] - 5s 42ms/step - loss: 0.0324 - accuracy: 0.7075\n",
      "Epoch 63/120\n",
      "123/123 [==============================] - 5s 41ms/step - loss: 0.0312 - accuracy: 0.7076\n",
      "Epoch 64/120\n",
      "123/123 [==============================] - 5s 42ms/step - loss: 0.0300 - accuracy: 0.7079\n",
      "Epoch 65/120\n",
      "123/123 [==============================] - 5s 42ms/step - loss: 0.0286 - accuracy: 0.7087\n",
      "Epoch 66/120\n",
      "123/123 [==============================] - 5s 42ms/step - loss: 0.0285 - accuracy: 0.7085\n",
      "Epoch 67/120\n",
      "123/123 [==============================] - 5s 42ms/step - loss: 0.0305 - accuracy: 0.7079\n",
      "Epoch 68/120\n",
      "123/123 [==============================] - 5s 42ms/step - loss: 0.0265 - accuracy: 0.7093\n",
      "Epoch 69/120\n",
      "123/123 [==============================] - 5s 42ms/step - loss: 0.0274 - accuracy: 0.7089\n",
      "Epoch 70/120\n",
      "123/123 [==============================] - 5s 42ms/step - loss: 0.0271 - accuracy: 0.7083\n",
      "Epoch 71/120\n",
      "123/123 [==============================] - 5s 42ms/step - loss: 0.0282 - accuracy: 0.7084\n",
      "Epoch 72/120\n",
      "123/123 [==============================] - 5s 41ms/step - loss: 0.0232 - accuracy: 0.7099\n",
      "Epoch 73/120\n",
      "123/123 [==============================] - 5s 42ms/step - loss: 0.0245 - accuracy: 0.7094\n",
      "Epoch 74/120\n",
      "123/123 [==============================] - 5s 41ms/step - loss: 0.0238 - accuracy: 0.7093\n",
      "Epoch 75/120\n",
      "123/123 [==============================] - 5s 42ms/step - loss: 0.0222 - accuracy: 0.7098\n",
      "Epoch 76/120\n",
      "123/123 [==============================] - 5s 41ms/step - loss: 0.0233 - accuracy: 0.7095\n",
      "Epoch 77/120\n",
      "123/123 [==============================] - 5s 42ms/step - loss: 0.0209 - accuracy: 0.7101\n",
      "Epoch 78/120\n",
      "123/123 [==============================] - 5s 41ms/step - loss: 0.0220 - accuracy: 0.7102\n",
      "Epoch 79/120\n",
      "123/123 [==============================] - 5s 42ms/step - loss: 0.0205 - accuracy: 0.7105\n",
      "Epoch 80/120\n",
      "123/123 [==============================] - 5s 42ms/step - loss: 0.0192 - accuracy: 0.7109\n",
      "Epoch 81/120\n",
      "123/123 [==============================] - 5s 42ms/step - loss: 0.0209 - accuracy: 0.7100\n",
      "Epoch 82/120\n",
      "123/123 [==============================] - 5s 41ms/step - loss: 0.0190 - accuracy: 0.7109\n",
      "Epoch 83/120\n",
      "123/123 [==============================] - 5s 41ms/step - loss: 0.0197 - accuracy: 0.7106\n",
      "Epoch 84/120\n",
      "123/123 [==============================] - 5s 41ms/step - loss: 0.0194 - accuracy: 0.7107\n",
      "Epoch 85/120\n",
      "123/123 [==============================] - 5s 41ms/step - loss: 0.0188 - accuracy: 0.7107\n",
      "Epoch 86/120\n",
      "123/123 [==============================] - 5s 41ms/step - loss: 0.0171 - accuracy: 0.7109\n",
      "Epoch 87/120\n",
      "123/123 [==============================] - 5s 42ms/step - loss: 0.0174 - accuracy: 0.7107\n",
      "Epoch 88/120\n",
      "123/123 [==============================] - 5s 40ms/step - loss: 0.0160 - accuracy: 0.7115\n",
      "Epoch 89/120\n",
      "123/123 [==============================] - 5s 41ms/step - loss: 0.0164 - accuracy: 0.7116\n",
      "Epoch 90/120\n",
      "123/123 [==============================] - 5s 41ms/step - loss: 0.0177 - accuracy: 0.7110\n",
      "Epoch 91/120\n",
      "123/123 [==============================] - 5s 42ms/step - loss: 0.0190 - accuracy: 0.7107\n",
      "Epoch 92/120\n",
      "123/123 [==============================] - 5s 41ms/step - loss: 0.0158 - accuracy: 0.7116\n",
      "Epoch 93/120\n",
      "123/123 [==============================] - 5s 41ms/step - loss: 0.0186 - accuracy: 0.7110\n",
      "Epoch 94/120\n",
      "123/123 [==============================] - 5s 41ms/step - loss: 0.0171 - accuracy: 0.7109\n",
      "Epoch 95/120\n",
      "123/123 [==============================] - 5s 42ms/step - loss: 0.0156 - accuracy: 0.7115\n",
      "Epoch 96/120\n",
      "123/123 [==============================] - 5s 41ms/step - loss: 0.0161 - accuracy: 0.7113\n",
      "Epoch 97/120\n",
      "123/123 [==============================] - 5s 41ms/step - loss: 0.0156 - accuracy: 0.7114\n",
      "Epoch 98/120\n",
      "123/123 [==============================] - 5s 40ms/step - loss: 0.0157 - accuracy: 0.7112\n",
      "Epoch 99/120\n",
      "123/123 [==============================] - 5s 41ms/step - loss: 0.0142 - accuracy: 0.7117\n",
      "Epoch 100/120\n",
      "123/123 [==============================] - 5s 41ms/step - loss: 0.0138 - accuracy: 0.7118\n",
      "Epoch 101/120\n",
      "123/123 [==============================] - 5s 41ms/step - loss: 0.0138 - accuracy: 0.7119\n",
      "Epoch 102/120\n",
      "123/123 [==============================] - 5s 41ms/step - loss: 0.0145 - accuracy: 0.7116\n",
      "Epoch 103/120\n",
      "123/123 [==============================] - 5s 42ms/step - loss: 0.0151 - accuracy: 0.7116\n",
      "Epoch 104/120\n",
      "123/123 [==============================] - 5s 41ms/step - loss: 0.0121 - accuracy: 0.7119\n",
      "Epoch 105/120\n",
      "123/123 [==============================] - 5s 41ms/step - loss: 0.0153 - accuracy: 0.7116\n",
      "Epoch 106/120\n",
      "123/123 [==============================] - 5s 41ms/step - loss: 0.0157 - accuracy: 0.7114\n",
      "Epoch 107/120\n",
      "123/123 [==============================] - 5s 40ms/step - loss: 0.0124 - accuracy: 0.7119\n",
      "Epoch 108/120\n",
      "123/123 [==============================] - 5s 41ms/step - loss: 0.0131 - accuracy: 0.7120\n",
      "Epoch 109/120\n",
      "123/123 [==============================] - 5s 42ms/step - loss: 0.0139 - accuracy: 0.7117\n",
      "Epoch 110/120\n",
      "123/123 [==============================] - 5s 42ms/step - loss: 0.0127 - accuracy: 0.7121\n",
      "Epoch 111/120\n",
      "123/123 [==============================] - 5s 42ms/step - loss: 0.0129 - accuracy: 0.7120\n",
      "Epoch 112/120\n",
      "123/123 [==============================] - 5s 41ms/step - loss: 0.0131 - accuracy: 0.7123\n",
      "Epoch 113/120\n",
      "123/123 [==============================] - 5s 41ms/step - loss: 0.0121 - accuracy: 0.7122\n",
      "Epoch 114/120\n",
      "123/123 [==============================] - 5s 41ms/step - loss: 0.0129 - accuracy: 0.7120\n",
      "Epoch 115/120\n",
      "123/123 [==============================] - 5s 41ms/step - loss: 0.0108 - accuracy: 0.7125\n",
      "Epoch 116/120\n",
      "123/123 [==============================] - 5s 41ms/step - loss: 0.0114 - accuracy: 0.7125\n",
      "Epoch 117/120\n",
      "123/123 [==============================] - 5s 41ms/step - loss: 0.0123 - accuracy: 0.7120\n",
      "Epoch 118/120\n",
      "123/123 [==============================] - 5s 41ms/step - loss: 0.0122 - accuracy: 0.7119\n",
      "Epoch 119/120\n",
      "123/123 [==============================] - 5s 41ms/step - loss: 0.0114 - accuracy: 0.7124\n",
      "Epoch 120/120\n",
      "123/123 [==============================] - 5s 41ms/step - loss: 0.0125 - accuracy: 0.7120\n"
     ]
    },
    {
     "data": {
      "text/plain": [
       "<keras.callbacks.History at 0x7fe10459b970>"
      ]
     },
     "execution_count": 46,
     "metadata": {},
     "output_type": "execute_result"
    }
   ],
   "source": [
    "EPOCHS = 120\n",
    "model.fit(dataset, epochs=EPOCHS, verbose=1)"
   ]
  },
  {
   "cell_type": "code",
   "execution_count": 47,
   "id": "d8166763",
   "metadata": {},
   "outputs": [
    {
     "name": "stdout",
     "output_type": "stream",
     "text": [
      "챗봇 테스트하기1\n"
     ]
    }
   ],
   "source": [
    "def decoder_inference(sentence):\n",
    "  sentence = preprocess_sentence(sentence)\n",
    "\n",
    "  sentence = tf.expand_dims(\n",
    "      START_TOKEN + tokenizer.encode(sentence) + END_TOKEN, axis=0)\n",
    "\n",
    "  output_sequence = tf.expand_dims(START_TOKEN, 0)\n",
    "\n",
    "  for i in range(MAX_LENGTH):\n",
    "    predictions = model(inputs=[sentence, output_sequence], training=False)\n",
    "    predictions = predictions[:, -1:, :]\n",
    "\n",
    "    predicted_id = tf.cast(tf.argmax(predictions, axis=-1), tf.int32)\n",
    "\n",
    "    if tf.equal(predicted_id, END_TOKEN[0]):\n",
    "      break\n",
    "\n",
    "    output_sequence = tf.concat([output_sequence, predicted_id], axis=-1)\n",
    "\n",
    "  return tf.squeeze(output_sequence, axis=0)\n",
    "print(\"챗봇 테스트하기1\")"
   ]
  },
  {
   "cell_type": "code",
   "execution_count": 48,
   "id": "94773cae",
   "metadata": {},
   "outputs": [
    {
     "name": "stdout",
     "output_type": "stream",
     "text": [
      "챗봇 테스트하기2\n"
     ]
    }
   ],
   "source": [
    "def sentence_generation(sentence):\n",
    "  prediction = decoder_inference(sentence)\n",
    "\n",
    "  predicted_sentence = tokenizer.decode(\n",
    "      [i for i in prediction if i < tokenizer.vocab_size])\n",
    "\n",
    "  print('입력 : {}'.format(sentence))\n",
    "  print('출력 : {}'.format(predicted_sentence))\n",
    "\n",
    "  return predicted_sentence\n",
    "print(\"챗봇 테스트하기2\")"
   ]
  },
  {
   "cell_type": "code",
   "execution_count": 49,
   "id": "a892d5c0",
   "metadata": {},
   "outputs": [
    {
     "name": "stdout",
     "output_type": "stream",
     "text": [
      "입력 : 오늘 날씨 어때?\n",
      "출력 : 고생 많았어요 .\n"
     ]
    },
    {
     "data": {
      "text/plain": [
       "'고생 많았어요 .'"
      ]
     },
     "execution_count": 49,
     "metadata": {},
     "output_type": "execute_result"
    }
   ],
   "source": [
    "sentence_generation('오늘 날씨 어때?')"
   ]
  },
  {
   "cell_type": "code",
   "execution_count": 50,
   "id": "4b6467e7",
   "metadata": {},
   "outputs": [
    {
     "name": "stdout",
     "output_type": "stream",
     "text": [
      "입력 : 오늘 숙제 뭐야?\n",
      "출력 : 미리미리 해야죠 .\n"
     ]
    },
    {
     "data": {
      "text/plain": [
       "'미리미리 해야죠 .'"
      ]
     },
     "execution_count": 50,
     "metadata": {},
     "output_type": "execute_result"
    }
   ],
   "source": [
    "sentence_generation('오늘 숙제 뭐야?')"
   ]
  },
  {
   "cell_type": "code",
   "execution_count": 51,
   "id": "ad07e3d8",
   "metadata": {},
   "outputs": [
    {
     "name": "stdout",
     "output_type": "stream",
     "text": [
      "입력 : 오늘 뭐먹지?\n",
      "출력 : 색다른걸 드셔보세요 .\n"
     ]
    },
    {
     "data": {
      "text/plain": [
       "'색다른걸 드셔보세요 .'"
      ]
     },
     "execution_count": 51,
     "metadata": {},
     "output_type": "execute_result"
    }
   ],
   "source": [
    "sentence_generation('오늘 뭐먹지?')"
   ]
  },
  {
   "cell_type": "code",
   "execution_count": 53,
   "id": "d212f197",
   "metadata": {},
   "outputs": [
    {
     "name": "stdout",
     "output_type": "stream",
     "text": [
      "입력 : 우울해\n",
      "출력 : 많이 힘들었죠 .\n"
     ]
    },
    {
     "data": {
      "text/plain": [
       "'많이 힘들었죠 .'"
      ]
     },
     "execution_count": 53,
     "metadata": {},
     "output_type": "execute_result"
    }
   ],
   "source": [
    "sentence_generation('우울해')"
   ]
  },
  {
   "cell_type": "code",
   "execution_count": 56,
   "id": "0a3a3f65",
   "metadata": {},
   "outputs": [
    {
     "name": "stdout",
     "output_type": "stream",
     "text": [
      "입력 : 너무 귀엽다\n",
      "출력 : 친구가 보는 눈이 있네요 .\n"
     ]
    },
    {
     "data": {
      "text/plain": [
       "'친구가 보는 눈이 있네요 .'"
      ]
     },
     "execution_count": 56,
     "metadata": {},
     "output_type": "execute_result"
    }
   ],
   "source": [
    "sentence_generation('너무 귀엽다')"
   ]
  },
  {
   "cell_type": "markdown",
   "id": "d95d6e44",
   "metadata": {},
   "source": [
    "#### EPOCHS = 120 / NUM_LAYERS = 4로 했지만, 정확도도 그렇게 높아지지 않았다.\n",
    "#### 정확도를 보면 EPOCHS가 도는 동안 올라갔다 내려갔다 해서 그렇게 잘 훈련이 된 것 같지 않았다.\n",
    "#### 또한, 오늘 날씨 어때?라는 질문에 '고생 많았어요 .'라는 답변은 좀 이상하다. 아까 EPOCHS = 70일때의 답변이 더 낫다"
   ]
  },
  {
   "cell_type": "markdown",
   "id": "188de62d",
   "metadata": {},
   "source": [
    "# Step 6. 모델 수정하기 02\n",
    "### EPOCHS = 100 / NUM_LAYERS = 2"
   ]
  },
  {
   "cell_type": "code",
   "execution_count": 59,
   "id": "e371d614",
   "metadata": {},
   "outputs": [
    {
     "name": "stdout",
     "output_type": "stream",
     "text": [
      "Model: \"transformer\"\n",
      "__________________________________________________________________________________________________\n",
      "Layer (type)                    Output Shape         Param #     Connected to                     \n",
      "==================================================================================================\n",
      "inputs (InputLayer)             [(None, None)]       0                                            \n",
      "__________________________________________________________________________________________________\n",
      "dec_inputs (InputLayer)         [(None, None)]       0                                            \n",
      "__________________________________________________________________________________________________\n",
      "enc_padding_mask (Lambda)       (None, 1, 1, None)   0           inputs[0][0]                     \n",
      "__________________________________________________________________________________________________\n",
      "encoder (Functional)            (None, None, 256)    3144192     inputs[0][0]                     \n",
      "                                                                 enc_padding_mask[0][0]           \n",
      "__________________________________________________________________________________________________\n",
      "look_ahead_mask (Lambda)        (None, 1, None, None 0           dec_inputs[0][0]                 \n",
      "__________________________________________________________________________________________________\n",
      "dec_padding_mask (Lambda)       (None, 1, 1, None)   0           inputs[0][0]                     \n",
      "__________________________________________________________________________________________________\n",
      "decoder (Functional)            (None, None, 256)    3671552     dec_inputs[0][0]                 \n",
      "                                                                 encoder[0][0]                    \n",
      "                                                                 look_ahead_mask[0][0]            \n",
      "                                                                 dec_padding_mask[0][0]           \n",
      "__________________________________________________________________________________________________\n",
      "outputs (Dense)                 (None, None, 8164)   2098148     decoder[0][0]                    \n",
      "==================================================================================================\n",
      "Total params: 8,913,892\n",
      "Trainable params: 8,913,892\n",
      "Non-trainable params: 0\n",
      "__________________________________________________________________________________________________\n"
     ]
    }
   ],
   "source": [
    "tf.keras.backend.clear_session()\n",
    "\n",
    "# 하이퍼파라미터\n",
    "NUM_LAYERS = 2 # 인코더와 디코더의 층의 개수\n",
    "D_MODEL = 256 # 인코더와 디코더 내부의 입, 출력의 고정 차원\n",
    "NUM_HEADS = 8 # 멀티 헤드 어텐션에서의 헤드 수 \n",
    "UNITS = 512 # 피드 포워드 신경망의 은닉층의 크기\n",
    "DROPOUT = 0.1 # 드롭아웃의 비율\n",
    "\n",
    "model = transformer(\n",
    "    vocab_size=VOCAB_SIZE,\n",
    "    num_layers=NUM_LAYERS,\n",
    "    units=UNITS,\n",
    "    d_model=D_MODEL,\n",
    "    num_heads=NUM_HEADS,\n",
    "    dropout=DROPOUT)\n",
    "\n",
    "model.summary()"
   ]
  },
  {
   "cell_type": "code",
   "execution_count": 60,
   "id": "47e2f196",
   "metadata": {},
   "outputs": [
    {
     "name": "stdout",
     "output_type": "stream",
     "text": [
      "모델 컴파일\n"
     ]
    }
   ],
   "source": [
    "learning_rate = CustomSchedule(D_MODEL)\n",
    "\n",
    "optimizer = tf.keras.optimizers.Adam(\n",
    "    learning_rate, beta_1=0.9, beta_2=0.98, epsilon=1e-9)\n",
    "\n",
    "def accuracy(y_true, y_pred):\n",
    "  y_true = tf.reshape(y_true, shape=(-1, MAX_LENGTH - 1))\n",
    "  return tf.keras.metrics.sparse_categorical_accuracy(y_true, y_pred)\n",
    "\n",
    "model.compile(optimizer=optimizer, loss=loss_function, metrics=[accuracy])\n",
    "print(\"모델 컴파일\")"
   ]
  },
  {
   "cell_type": "code",
   "execution_count": 61,
   "id": "d7f638c5",
   "metadata": {},
   "outputs": [
    {
     "name": "stdout",
     "output_type": "stream",
     "text": [
      "Epoch 1/100\n",
      "123/123 [==============================] - 9s 25ms/step - loss: 6.0830 - accuracy: 0.0913\n",
      "Epoch 2/100\n",
      "123/123 [==============================] - 3s 25ms/step - loss: 5.2095 - accuracy: 0.2120\n",
      "Epoch 3/100\n",
      "123/123 [==============================] - 3s 25ms/step - loss: 4.3549 - accuracy: 0.2411\n",
      "Epoch 4/100\n",
      "123/123 [==============================] - 3s 25ms/step - loss: 3.8259 - accuracy: 0.2432\n",
      "Epoch 5/100\n",
      "123/123 [==============================] - 3s 25ms/step - loss: 3.5489 - accuracy: 0.2514\n",
      "Epoch 6/100\n",
      "123/123 [==============================] - 3s 25ms/step - loss: 3.3505 - accuracy: 0.2617\n",
      "Epoch 7/100\n",
      "123/123 [==============================] - 3s 25ms/step - loss: 3.1590 - accuracy: 0.2739\n",
      "Epoch 8/100\n",
      "123/123 [==============================] - 3s 24ms/step - loss: 2.9578 - accuracy: 0.2921\n",
      "Epoch 9/100\n",
      "123/123 [==============================] - 3s 25ms/step - loss: 2.7419 - accuracy: 0.3158\n",
      "Epoch 10/100\n",
      "123/123 [==============================] - 3s 24ms/step - loss: 2.5006 - accuracy: 0.3467\n",
      "Epoch 11/100\n",
      "123/123 [==============================] - 3s 25ms/step - loss: 2.2392 - accuracy: 0.3806\n",
      "Epoch 12/100\n",
      "123/123 [==============================] - 3s 25ms/step - loss: 1.9666 - accuracy: 0.4131\n",
      "Epoch 13/100\n",
      "123/123 [==============================] - 3s 25ms/step - loss: 1.6861 - accuracy: 0.4507\n",
      "Epoch 14/100\n",
      "123/123 [==============================] - 3s 25ms/step - loss: 1.4129 - accuracy: 0.4881\n",
      "Epoch 15/100\n",
      "123/123 [==============================] - 3s 25ms/step - loss: 1.1535 - accuracy: 0.5272\n",
      "Epoch 16/100\n",
      "123/123 [==============================] - 3s 25ms/step - loss: 0.9158 - accuracy: 0.5631\n",
      "Epoch 17/100\n",
      "123/123 [==============================] - 3s 24ms/step - loss: 0.7039 - accuracy: 0.5970\n",
      "Epoch 18/100\n",
      "123/123 [==============================] - 3s 24ms/step - loss: 0.5235 - accuracy: 0.6277\n",
      "Epoch 19/100\n",
      "123/123 [==============================] - 3s 25ms/step - loss: 0.3772 - accuracy: 0.6530\n",
      "Epoch 20/100\n",
      "123/123 [==============================] - 3s 25ms/step - loss: 0.2675 - accuracy: 0.6731\n",
      "Epoch 21/100\n",
      "123/123 [==============================] - 3s 25ms/step - loss: 0.1894 - accuracy: 0.6855\n",
      "Epoch 22/100\n",
      "123/123 [==============================] - 3s 25ms/step - loss: 0.1435 - accuracy: 0.6913\n",
      "Epoch 23/100\n",
      "123/123 [==============================] - 3s 25ms/step - loss: 0.1135 - accuracy: 0.6949\n",
      "Epoch 24/100\n",
      "123/123 [==============================] - 3s 24ms/step - loss: 0.0968 - accuracy: 0.6972\n",
      "Epoch 25/100\n",
      "123/123 [==============================] - 3s 25ms/step - loss: 0.0881 - accuracy: 0.6973\n",
      "Epoch 26/100\n",
      "123/123 [==============================] - 3s 25ms/step - loss: 0.0842 - accuracy: 0.6973\n",
      "Epoch 27/100\n",
      "123/123 [==============================] - 3s 25ms/step - loss: 0.0760 - accuracy: 0.6989\n",
      "Epoch 28/100\n",
      "123/123 [==============================] - 3s 25ms/step - loss: 0.0751 - accuracy: 0.6987\n",
      "Epoch 29/100\n",
      "123/123 [==============================] - 3s 25ms/step - loss: 0.0752 - accuracy: 0.6987\n",
      "Epoch 30/100\n",
      "123/123 [==============================] - 3s 25ms/step - loss: 0.0717 - accuracy: 0.6995\n",
      "Epoch 31/100\n",
      "123/123 [==============================] - 3s 26ms/step - loss: 0.0722 - accuracy: 0.6988\n",
      "Epoch 32/100\n",
      "123/123 [==============================] - 3s 25ms/step - loss: 0.0751 - accuracy: 0.6975\n",
      "Epoch 33/100\n",
      "123/123 [==============================] - 3s 25ms/step - loss: 0.0740 - accuracy: 0.6978\n",
      "Epoch 34/100\n",
      "123/123 [==============================] - 3s 25ms/step - loss: 0.0655 - accuracy: 0.6996\n",
      "Epoch 35/100\n",
      "123/123 [==============================] - 3s 25ms/step - loss: 0.0645 - accuracy: 0.7007\n",
      "Epoch 36/100\n",
      "123/123 [==============================] - 3s 25ms/step - loss: 0.0523 - accuracy: 0.7028\n",
      "Epoch 37/100\n",
      "123/123 [==============================] - 3s 25ms/step - loss: 0.0535 - accuracy: 0.7023\n",
      "Epoch 38/100\n",
      "123/123 [==============================] - 3s 25ms/step - loss: 0.0492 - accuracy: 0.7036\n",
      "Epoch 39/100\n",
      "123/123 [==============================] - 3s 25ms/step - loss: 0.0455 - accuracy: 0.7043\n",
      "Epoch 40/100\n",
      "123/123 [==============================] - 3s 25ms/step - loss: 0.0431 - accuracy: 0.7053\n",
      "Epoch 41/100\n",
      "123/123 [==============================] - 3s 25ms/step - loss: 0.0402 - accuracy: 0.7057\n",
      "Epoch 42/100\n",
      "123/123 [==============================] - 3s 25ms/step - loss: 0.0378 - accuracy: 0.7066\n",
      "Epoch 43/100\n",
      "123/123 [==============================] - 3s 24ms/step - loss: 0.0354 - accuracy: 0.7071\n",
      "Epoch 44/100\n",
      "123/123 [==============================] - 3s 24ms/step - loss: 0.0345 - accuracy: 0.7077\n",
      "Epoch 45/100\n",
      "123/123 [==============================] - 3s 25ms/step - loss: 0.0317 - accuracy: 0.7083\n",
      "Epoch 46/100\n",
      "123/123 [==============================] - 3s 25ms/step - loss: 0.0310 - accuracy: 0.7079\n",
      "Epoch 47/100\n",
      "123/123 [==============================] - 3s 25ms/step - loss: 0.0280 - accuracy: 0.7090\n",
      "Epoch 48/100\n",
      "123/123 [==============================] - 3s 25ms/step - loss: 0.0281 - accuracy: 0.7091\n",
      "Epoch 49/100\n",
      "123/123 [==============================] - 3s 25ms/step - loss: 0.0284 - accuracy: 0.7087\n",
      "Epoch 50/100\n",
      "123/123 [==============================] - 3s 25ms/step - loss: 0.0248 - accuracy: 0.7095\n",
      "Epoch 51/100\n",
      "123/123 [==============================] - 3s 25ms/step - loss: 0.0238 - accuracy: 0.7100\n",
      "Epoch 52/100\n",
      "123/123 [==============================] - 3s 25ms/step - loss: 0.0242 - accuracy: 0.7095\n",
      "Epoch 53/100\n",
      "123/123 [==============================] - 3s 25ms/step - loss: 0.0222 - accuracy: 0.7102\n",
      "Epoch 54/100\n",
      "123/123 [==============================] - 3s 25ms/step - loss: 0.0234 - accuracy: 0.7098\n",
      "Epoch 55/100\n",
      "123/123 [==============================] - 3s 25ms/step - loss: 0.0223 - accuracy: 0.7100\n",
      "Epoch 56/100\n",
      "123/123 [==============================] - 3s 24ms/step - loss: 0.0214 - accuracy: 0.7105\n",
      "Epoch 57/100\n",
      "123/123 [==============================] - 3s 25ms/step - loss: 0.0202 - accuracy: 0.7104\n",
      "Epoch 58/100\n",
      "123/123 [==============================] - 3s 25ms/step - loss: 0.0206 - accuracy: 0.7105\n",
      "Epoch 59/100\n",
      "123/123 [==============================] - 3s 25ms/step - loss: 0.0188 - accuracy: 0.7111\n",
      "Epoch 60/100\n",
      "123/123 [==============================] - 3s 25ms/step - loss: 0.0188 - accuracy: 0.7112\n",
      "Epoch 61/100\n",
      "123/123 [==============================] - 3s 25ms/step - loss: 0.0170 - accuracy: 0.7113\n",
      "Epoch 62/100\n",
      "123/123 [==============================] - 3s 25ms/step - loss: 0.0174 - accuracy: 0.7112\n",
      "Epoch 63/100\n",
      "123/123 [==============================] - 3s 25ms/step - loss: 0.0155 - accuracy: 0.7116\n",
      "Epoch 64/100\n",
      "123/123 [==============================] - 3s 25ms/step - loss: 0.0164 - accuracy: 0.7115\n",
      "Epoch 65/100\n",
      "123/123 [==============================] - 3s 25ms/step - loss: 0.0153 - accuracy: 0.7115\n",
      "Epoch 66/100\n",
      "123/123 [==============================] - 3s 25ms/step - loss: 0.0161 - accuracy: 0.7113\n",
      "Epoch 67/100\n",
      "123/123 [==============================] - 3s 25ms/step - loss: 0.0152 - accuracy: 0.7119\n",
      "Epoch 68/100\n",
      "123/123 [==============================] - 3s 25ms/step - loss: 0.0140 - accuracy: 0.7119\n",
      "Epoch 69/100\n",
      "123/123 [==============================] - 3s 25ms/step - loss: 0.0158 - accuracy: 0.7114\n",
      "Epoch 70/100\n",
      "123/123 [==============================] - 3s 25ms/step - loss: 0.0152 - accuracy: 0.7117\n",
      "Epoch 71/100\n",
      "123/123 [==============================] - 3s 25ms/step - loss: 0.0131 - accuracy: 0.7120\n",
      "Epoch 72/100\n",
      "123/123 [==============================] - 3s 25ms/step - loss: 0.0131 - accuracy: 0.7119\n",
      "Epoch 73/100\n",
      "123/123 [==============================] - 3s 25ms/step - loss: 0.0135 - accuracy: 0.7119\n",
      "Epoch 74/100\n",
      "123/123 [==============================] - 3s 24ms/step - loss: 0.0142 - accuracy: 0.7118\n",
      "Epoch 75/100\n",
      "123/123 [==============================] - 3s 24ms/step - loss: 0.0122 - accuracy: 0.7121\n",
      "Epoch 76/100\n",
      "123/123 [==============================] - 3s 25ms/step - loss: 0.0123 - accuracy: 0.7123\n",
      "Epoch 77/100\n",
      "123/123 [==============================] - 3s 25ms/step - loss: 0.0123 - accuracy: 0.7121\n",
      "Epoch 78/100\n",
      "123/123 [==============================] - 3s 26ms/step - loss: 0.0120 - accuracy: 0.7121\n",
      "Epoch 79/100\n",
      "123/123 [==============================] - 3s 25ms/step - loss: 0.0126 - accuracy: 0.7121\n",
      "Epoch 80/100\n",
      "123/123 [==============================] - 3s 25ms/step - loss: 0.0121 - accuracy: 0.7123\n",
      "Epoch 81/100\n",
      "123/123 [==============================] - 3s 25ms/step - loss: 0.0116 - accuracy: 0.7120\n",
      "Epoch 82/100\n",
      "123/123 [==============================] - 3s 24ms/step - loss: 0.0115 - accuracy: 0.7123\n",
      "Epoch 83/100\n",
      "123/123 [==============================] - 3s 24ms/step - loss: 0.0117 - accuracy: 0.7123\n",
      "Epoch 84/100\n",
      "123/123 [==============================] - 3s 25ms/step - loss: 0.0117 - accuracy: 0.7121\n",
      "Epoch 85/100\n",
      "123/123 [==============================] - 3s 25ms/step - loss: 0.0119 - accuracy: 0.7122\n",
      "Epoch 86/100\n",
      "123/123 [==============================] - 3s 25ms/step - loss: 0.0085 - accuracy: 0.7129\n",
      "Epoch 87/100\n",
      "123/123 [==============================] - 3s 25ms/step - loss: 0.0111 - accuracy: 0.7123\n",
      "Epoch 88/100\n",
      "123/123 [==============================] - 3s 24ms/step - loss: 0.0099 - accuracy: 0.7125\n",
      "Epoch 89/100\n",
      "123/123 [==============================] - 3s 25ms/step - loss: 0.0085 - accuracy: 0.7129\n",
      "Epoch 90/100\n",
      "123/123 [==============================] - 3s 25ms/step - loss: 0.0094 - accuracy: 0.7124\n",
      "Epoch 91/100\n",
      "123/123 [==============================] - 3s 25ms/step - loss: 0.0093 - accuracy: 0.7128\n",
      "Epoch 92/100\n",
      "123/123 [==============================] - 3s 25ms/step - loss: 0.0089 - accuracy: 0.7127\n",
      "Epoch 93/100\n",
      "123/123 [==============================] - 3s 25ms/step - loss: 0.0084 - accuracy: 0.7128\n",
      "Epoch 94/100\n",
      "123/123 [==============================] - 3s 25ms/step - loss: 0.0077 - accuracy: 0.7130\n",
      "Epoch 95/100\n",
      "123/123 [==============================] - 3s 24ms/step - loss: 0.0104 - accuracy: 0.7125\n",
      "Epoch 96/100\n",
      "123/123 [==============================] - 3s 24ms/step - loss: 0.0076 - accuracy: 0.7129\n",
      "Epoch 97/100\n",
      "123/123 [==============================] - 3s 24ms/step - loss: 0.0078 - accuracy: 0.7129\n",
      "Epoch 98/100\n",
      "123/123 [==============================] - 3s 25ms/step - loss: 0.0082 - accuracy: 0.7127\n",
      "Epoch 99/100\n",
      "123/123 [==============================] - 3s 25ms/step - loss: 0.0097 - accuracy: 0.7125\n",
      "Epoch 100/100\n",
      "123/123 [==============================] - 3s 25ms/step - loss: 0.0082 - accuracy: 0.7126\n"
     ]
    },
    {
     "data": {
      "text/plain": [
       "<keras.callbacks.History at 0x7fe0f077f310>"
      ]
     },
     "execution_count": 61,
     "metadata": {},
     "output_type": "execute_result"
    }
   ],
   "source": [
    "EPOCHS = 100\n",
    "model.fit(dataset, epochs=EPOCHS, verbose=1)"
   ]
  },
  {
   "cell_type": "code",
   "execution_count": 62,
   "id": "35098ec8",
   "metadata": {},
   "outputs": [
    {
     "name": "stdout",
     "output_type": "stream",
     "text": [
      "챗봇 테스트하기1\n"
     ]
    }
   ],
   "source": [
    "def decoder_inference(sentence):\n",
    "  sentence = preprocess_sentence(sentence)\n",
    "\n",
    "  sentence = tf.expand_dims(\n",
    "      START_TOKEN + tokenizer.encode(sentence) + END_TOKEN, axis=0)\n",
    "\n",
    "  output_sequence = tf.expand_dims(START_TOKEN, 0)\n",
    "\n",
    "  for i in range(MAX_LENGTH):\n",
    "    predictions = model(inputs=[sentence, output_sequence], training=False)\n",
    "    predictions = predictions[:, -1:, :]\n",
    "\n",
    "    predicted_id = tf.cast(tf.argmax(predictions, axis=-1), tf.int32)\n",
    "\n",
    "    if tf.equal(predicted_id, END_TOKEN[0]):\n",
    "      break\n",
    "\n",
    "    output_sequence = tf.concat([output_sequence, predicted_id], axis=-1)\n",
    "\n",
    "  return tf.squeeze(output_sequence, axis=0)\n",
    "print(\"챗봇 테스트하기1\")"
   ]
  },
  {
   "cell_type": "code",
   "execution_count": 63,
   "id": "242b8e9f",
   "metadata": {},
   "outputs": [
    {
     "name": "stdout",
     "output_type": "stream",
     "text": [
      "챗봇 테스트하기2\n"
     ]
    }
   ],
   "source": [
    "def sentence_generation(sentence):\n",
    "  prediction = decoder_inference(sentence)\n",
    "\n",
    "  predicted_sentence = tokenizer.decode(\n",
    "      [i for i in prediction if i < tokenizer.vocab_size])\n",
    "\n",
    "  print('입력 : {}'.format(sentence))\n",
    "  print('출력 : {}'.format(predicted_sentence))\n",
    "\n",
    "  return predicted_sentence\n",
    "print(\"챗봇 테스트하기2\")"
   ]
  },
  {
   "cell_type": "code",
   "execution_count": 64,
   "id": "5eb80312",
   "metadata": {},
   "outputs": [
    {
     "name": "stdout",
     "output_type": "stream",
     "text": [
      "입력 : 오늘 날씨 어때?\n",
      "출력 : 날씨 어플에 물어보세요 .\n"
     ]
    },
    {
     "data": {
      "text/plain": [
       "'날씨 어플에 물어보세요 .'"
      ]
     },
     "execution_count": 64,
     "metadata": {},
     "output_type": "execute_result"
    }
   ],
   "source": [
    "sentence_generation('오늘 날씨 어때?')"
   ]
  },
  {
   "cell_type": "code",
   "execution_count": 65,
   "id": "ecd630d0",
   "metadata": {},
   "outputs": [
    {
     "name": "stdout",
     "output_type": "stream",
     "text": [
      "입력 : 오늘 숙제 뭐야?\n",
      "출력 : 미리미리 해야죠 .\n"
     ]
    },
    {
     "data": {
      "text/plain": [
       "'미리미리 해야죠 .'"
      ]
     },
     "execution_count": 65,
     "metadata": {},
     "output_type": "execute_result"
    }
   ],
   "source": [
    "sentence_generation('오늘 숙제 뭐야?')"
   ]
  },
  {
   "cell_type": "code",
   "execution_count": 66,
   "id": "7dde8b35",
   "metadata": {},
   "outputs": [
    {
     "name": "stdout",
     "output_type": "stream",
     "text": [
      "입력 : 오늘 뭐먹지?\n",
      "출력 : 색다른걸 드셔보세요 .\n"
     ]
    },
    {
     "data": {
      "text/plain": [
       "'색다른걸 드셔보세요 .'"
      ]
     },
     "execution_count": 66,
     "metadata": {},
     "output_type": "execute_result"
    }
   ],
   "source": [
    "sentence_generation('오늘 뭐먹지?')"
   ]
  },
  {
   "cell_type": "code",
   "execution_count": 68,
   "id": "53a0fcc2",
   "metadata": {},
   "outputs": [
    {
     "name": "stdout",
     "output_type": "stream",
     "text": [
      "입력 : 우울해\n",
      "출력 : 많이 힘들었죠 .\n"
     ]
    },
    {
     "data": {
      "text/plain": [
       "'많이 힘들었죠 .'"
      ]
     },
     "execution_count": 68,
     "metadata": {},
     "output_type": "execute_result"
    }
   ],
   "source": [
    "sentence_generation('우울해')"
   ]
  },
  {
   "cell_type": "code",
   "execution_count": 71,
   "id": "e122b92a",
   "metadata": {},
   "outputs": [
    {
     "name": "stdout",
     "output_type": "stream",
     "text": [
      "입력 : 너무 귀엽다\n",
      "출력 : 친구가 보는 눈이 있네요 .\n"
     ]
    },
    {
     "data": {
      "text/plain": [
       "'친구가 보는 눈이 있네요 .'"
      ]
     },
     "execution_count": 71,
     "metadata": {},
     "output_type": "execute_result"
    }
   ],
   "source": [
    "sentence_generation('너무 귀엽다')"
   ]
  },
  {
   "cell_type": "code",
   "execution_count": 73,
   "id": "c005a8a4",
   "metadata": {},
   "outputs": [
    {
     "name": "stdout",
     "output_type": "stream",
     "text": [
      "입력 : 안녕?\n",
      "출력 : 안녕하세요 .\n"
     ]
    },
    {
     "data": {
      "text/plain": [
       "'안녕하세요 .'"
      ]
     },
     "execution_count": 73,
     "metadata": {},
     "output_type": "execute_result"
    }
   ],
   "source": [
    "sentence_generation('안녕?')"
   ]
  },
  {
   "cell_type": "code",
   "execution_count": 74,
   "id": "9f39e59c",
   "metadata": {},
   "outputs": [
    {
     "name": "stdout",
     "output_type": "stream",
     "text": [
      "입력 : 사랑해\n",
      "출력 : 하늘 만큼 땅 만큼 사랑해요 .\n"
     ]
    },
    {
     "data": {
      "text/plain": [
       "'하늘 만큼 땅 만큼 사랑해요 .'"
      ]
     },
     "execution_count": 74,
     "metadata": {},
     "output_type": "execute_result"
    }
   ],
   "source": [
    "sentence_generation('사랑해')"
   ]
  },
  {
   "cell_type": "code",
   "execution_count": 78,
   "id": "6a858d55",
   "metadata": {},
   "outputs": [
    {
     "name": "stdout",
     "output_type": "stream",
     "text": [
      "입력 : 입을 옷이 없어\n",
      "출력 : 옷은 사도 사도 모자라요 .\n"
     ]
    },
    {
     "data": {
      "text/plain": [
       "'옷은 사도 사도 모자라요 .'"
      ]
     },
     "execution_count": 78,
     "metadata": {},
     "output_type": "execute_result"
    }
   ],
   "source": [
    "sentence_generation('입을 옷이 없어')"
   ]
  },
  {
   "cell_type": "code",
   "execution_count": 83,
   "id": "ceab245f",
   "metadata": {},
   "outputs": [
    {
     "name": "stdout",
     "output_type": "stream",
     "text": [
      "입력 : 게임하고 싶어\n",
      "출력 : 게임하세요 !\n"
     ]
    },
    {
     "data": {
      "text/plain": [
       "'게임하세요 !'"
      ]
     },
     "execution_count": 83,
     "metadata": {},
     "output_type": "execute_result"
    }
   ],
   "source": [
    "sentence_generation('게임하고 싶어')"
   ]
  },
  {
   "cell_type": "code",
   "execution_count": 85,
   "id": "e2926b3a",
   "metadata": {},
   "outputs": [
    {
     "name": "stdout",
     "output_type": "stream",
     "text": [
      "입력 : 공부하는 시간이 너무 길어\n",
      "출력 : 공부 도와달라고 해보세요 .\n"
     ]
    },
    {
     "data": {
      "text/plain": [
       "'공부 도와달라고 해보세요 .'"
      ]
     },
     "execution_count": 85,
     "metadata": {},
     "output_type": "execute_result"
    }
   ],
   "source": [
    "sentence_generation('공부하는 시간이 너무 길어')"
   ]
  },
  {
   "cell_type": "code",
   "execution_count": 86,
   "id": "1a0248ab",
   "metadata": {},
   "outputs": [
    {
     "name": "stdout",
     "output_type": "stream",
     "text": [
      "입력 : 항상 고마워\n",
      "출력 : 감사합니다 .\n"
     ]
    },
    {
     "data": {
      "text/plain": [
       "'감사합니다 .'"
      ]
     },
     "execution_count": 86,
     "metadata": {},
     "output_type": "execute_result"
    }
   ],
   "source": [
    "sentence_generation('항상 고마워')"
   ]
  },
  {
   "cell_type": "code",
   "execution_count": 87,
   "id": "7875c577",
   "metadata": {},
   "outputs": [
    {
     "name": "stdout",
     "output_type": "stream",
     "text": [
      "입력 : 어제 아빠가 뭐라고 하셨어?\n",
      "출력 : 사회생활로 힘드신가봐요 .\n"
     ]
    },
    {
     "data": {
      "text/plain": [
       "'사회생활로 힘드신가봐요 .'"
      ]
     },
     "execution_count": 87,
     "metadata": {},
     "output_type": "execute_result"
    }
   ],
   "source": [
    "sentence_generation('어제 아빠가 뭐라고 하셨어?')"
   ]
  },
  {
   "cell_type": "markdown",
   "id": "504046eb",
   "metadata": {},
   "source": [
    "#### 다들 하이퍼파라미터를 수정하는 건 결과물이 좋지 않다고 해서 다시 원래대로 돌리고, 대신에 EPOCHS = 100으로 바꾸었다.\n",
    "#### 100인 이유는 그게 제일 정확도가 높은 것 같아서 였다.\n",
    "#### 이것저것 질문을 해봤지만 생각보다 답변이 잘나와서 좋았다.\n",
    "#### 수정은 안해도 될것 같다"
   ]
  },
  {
   "cell_type": "markdown",
   "id": "7f130f5f",
   "metadata": {},
   "source": [
    "# REPORT\n",
    "#### 이번에는 루브릭 3개를 다 통과할꺼 같다!!!\n",
    "#### 공백과 특수문자 처리, 토크나이징, 병렬데이터 구축의 과정이 적절히 진행했고,\n",
    "#### 구현한 트랜스포머 모델이 한국어 병렬 데이터 학습 시 안정적으로 수렴했고,\n",
    "#### 한국어 입력문장에 그럴듯한 한국어로 답변을 리턴했다!!\n",
    "#### 사실 이번 프로젝트에서 제일 힘들었던 것은.. 다름아닌,\n",
    "#### 전처리 부분이었다.\n",
    "#### 분명히 제대로 작성을 했는데 이상하게 '데이터와 구두점 사이의 거리'에 공백이 생기질 않았다.\n",
    "#### 성돈님, 아람님, 동휘님, 지영님이 같이 머리 싸매고 같이 고민해주셔서 해결할 수 있었다.\n",
    "#### 아마 train_data['Q'].values[i] <-이렇게 작성해야 되는데 train_data['Q'[i]] 이렇게 작성해서 안된 것 같았다.\n",
    "#### 이후에 막대 그래프를 그릴때 'numpy.ndarray' object has no attribute 'split'라는 오류가 떠서 구글도 찾아보고 그랬는데 뭔가 개운하게 답변을 찾을 수 없었다.\n",
    "#### 성돈님이 한번 다시 돌려보는게 어떻냐고 하셔서 다시 돌렸더니 해결이 되었다... (이상하게 그 전에는 몇번이나 다시 했지만 안됐었다) 이렇게 잘 해결해서 노드도 잘 끝냈다!!\n",
    "\n",
    "\n"
   ]
  },
  {
   "cell_type": "code",
   "execution_count": null,
   "id": "5f29dbac",
   "metadata": {},
   "outputs": [],
   "source": []
  }
 ],
 "metadata": {
  "kernelspec": {
   "display_name": "Python 3 (ipykernel)",
   "language": "python",
   "name": "python3"
  },
  "language_info": {
   "codemirror_mode": {
    "name": "ipython",
    "version": 3
   },
   "file_extension": ".py",
   "mimetype": "text/x-python",
   "name": "python",
   "nbconvert_exporter": "python",
   "pygments_lexer": "ipython3",
   "version": "3.9.7"
  }
 },
 "nbformat": 4,
 "nbformat_minor": 5
}
