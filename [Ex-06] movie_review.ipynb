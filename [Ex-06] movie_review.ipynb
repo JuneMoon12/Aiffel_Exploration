{
 "cells": [
  {
   "cell_type": "markdown",
   "id": "1ba40dcd",
   "metadata": {},
   "source": [
    "# [EX-06] 네이버 영화리뷰 감성분석\n",
    "## 오늘의 루브릭\n",
    "### 1. 다양한 방법으로 Text Classification 태스크를 성공적으로 구현하였다. - 3가지 이상의 모델이 성공적으로 시도됨\n",
    "### 2. gensim을 활용하여 자체학습된 혹은 사전학습된 임베딩 레이어를 분석하였다. - gensim의 유사단어 찾기를 활용하여 자체학습한 임베딩과 사전학습 임베딩을 적절히 분석함\n",
    "### 3. 한국어 Word2Vec을 활용하여 가시적인 성능향상을 달성했다. - 네이버 영화리뷰 데이터 감성분석 정확도를 85% 이상 달성함"
   ]
  },
  {
   "cell_type": "markdown",
   "id": "774dd5c2",
   "metadata": {},
   "source": [
    "### 심볼릭 링크 연결하기\n",
    "ln -s ~/data/*.txt ~/aiffel/sentiment_classification/data"
   ]
  },
  {
   "cell_type": "code",
   "execution_count": 1,
   "id": "4f05afc9",
   "metadata": {},
   "outputs": [
    {
     "name": "stdout",
     "output_type": "stream",
     "text": [
      "필요한 import 완료!\n"
     ]
    }
   ],
   "source": [
    "import pandas as pd\n",
    "\n",
    "from konlpy.tag import Mecab\n",
    "import numpy as np\n",
    "from collections import Counter\n",
    "\n",
    "import tensorflow as tf\n",
    "\n",
    "import matplotlib.pyplot as plt\n",
    "\n",
    "import os\n",
    "\n",
    "from gensim.models.keyedvectors import Word2VecKeyedVectors\n",
    "\n",
    "import gensim\n",
    "from gensim.models import KeyedVectors\n",
    "\n",
    "from tensorflow.keras.initializers import Constant\n",
    "\n",
    "print(\"필요한 import 완료!\")"
   ]
  },
  {
   "cell_type": "markdown",
   "id": "dd1930b9",
   "metadata": {},
   "source": [
    "## 1) 데이터 준비와 확인"
   ]
  },
  {
   "cell_type": "code",
   "execution_count": 2,
   "id": "f9e59f9c",
   "metadata": {},
   "outputs": [
    {
     "name": "stdout",
     "output_type": "stream",
     "text": [
      "데이터 읽기 완료!\n"
     ]
    }
   ],
   "source": [
    "train_data = pd.read_table('~/aiffel/sentiment_classification/data/ratings_train.txt')\n",
    "test_data = pd.read_table('~/aiffel/sentiment_classification/data/ratings_test.txt')\n",
    "\n",
    "print(\"데이터 읽기 완료!\")"
   ]
  },
  {
   "cell_type": "code",
   "execution_count": 3,
   "id": "a9cf36e9",
   "metadata": {},
   "outputs": [
    {
     "data": {
      "text/html": [
       "<div>\n",
       "<style scoped>\n",
       "    .dataframe tbody tr th:only-of-type {\n",
       "        vertical-align: middle;\n",
       "    }\n",
       "\n",
       "    .dataframe tbody tr th {\n",
       "        vertical-align: top;\n",
       "    }\n",
       "\n",
       "    .dataframe thead th {\n",
       "        text-align: right;\n",
       "    }\n",
       "</style>\n",
       "<table border=\"1\" class=\"dataframe\">\n",
       "  <thead>\n",
       "    <tr style=\"text-align: right;\">\n",
       "      <th></th>\n",
       "      <th>id</th>\n",
       "      <th>document</th>\n",
       "      <th>label</th>\n",
       "    </tr>\n",
       "  </thead>\n",
       "  <tbody>\n",
       "    <tr>\n",
       "      <th>0</th>\n",
       "      <td>9976970</td>\n",
       "      <td>아 더빙.. 진짜 짜증나네요 목소리</td>\n",
       "      <td>0</td>\n",
       "    </tr>\n",
       "    <tr>\n",
       "      <th>1</th>\n",
       "      <td>3819312</td>\n",
       "      <td>흠...포스터보고 초딩영화줄....오버연기조차 가볍지 않구나</td>\n",
       "      <td>1</td>\n",
       "    </tr>\n",
       "    <tr>\n",
       "      <th>2</th>\n",
       "      <td>10265843</td>\n",
       "      <td>너무재밓었다그래서보는것을추천한다</td>\n",
       "      <td>0</td>\n",
       "    </tr>\n",
       "    <tr>\n",
       "      <th>3</th>\n",
       "      <td>9045019</td>\n",
       "      <td>교도소 이야기구먼 ..솔직히 재미는 없다..평점 조정</td>\n",
       "      <td>0</td>\n",
       "    </tr>\n",
       "    <tr>\n",
       "      <th>4</th>\n",
       "      <td>6483659</td>\n",
       "      <td>사이몬페그의 익살스런 연기가 돋보였던 영화!스파이더맨에서 늙어보이기만 했던 커스틴 ...</td>\n",
       "      <td>1</td>\n",
       "    </tr>\n",
       "  </tbody>\n",
       "</table>\n",
       "</div>"
      ],
      "text/plain": [
       "         id                                           document  label\n",
       "0   9976970                                아 더빙.. 진짜 짜증나네요 목소리      0\n",
       "1   3819312                  흠...포스터보고 초딩영화줄....오버연기조차 가볍지 않구나      1\n",
       "2  10265843                                  너무재밓었다그래서보는것을추천한다      0\n",
       "3   9045019                      교도소 이야기구먼 ..솔직히 재미는 없다..평점 조정      0\n",
       "4   6483659  사이몬페그의 익살스런 연기가 돋보였던 영화!스파이더맨에서 늙어보이기만 했던 커스틴 ...      1"
      ]
     },
     "execution_count": 3,
     "metadata": {},
     "output_type": "execute_result"
    }
   ],
   "source": [
    "#학습 데이터 확인!\n",
    "train_data.head()"
   ]
  },
  {
   "cell_type": "code",
   "execution_count": 4,
   "id": "1625a3ea",
   "metadata": {},
   "outputs": [
    {
     "data": {
      "text/html": [
       "<div>\n",
       "<style scoped>\n",
       "    .dataframe tbody tr th:only-of-type {\n",
       "        vertical-align: middle;\n",
       "    }\n",
       "\n",
       "    .dataframe tbody tr th {\n",
       "        vertical-align: top;\n",
       "    }\n",
       "\n",
       "    .dataframe thead th {\n",
       "        text-align: right;\n",
       "    }\n",
       "</style>\n",
       "<table border=\"1\" class=\"dataframe\">\n",
       "  <thead>\n",
       "    <tr style=\"text-align: right;\">\n",
       "      <th></th>\n",
       "      <th>id</th>\n",
       "      <th>document</th>\n",
       "      <th>label</th>\n",
       "    </tr>\n",
       "  </thead>\n",
       "  <tbody>\n",
       "    <tr>\n",
       "      <th>0</th>\n",
       "      <td>6270596</td>\n",
       "      <td>굳 ㅋ</td>\n",
       "      <td>1</td>\n",
       "    </tr>\n",
       "    <tr>\n",
       "      <th>1</th>\n",
       "      <td>9274899</td>\n",
       "      <td>GDNTOPCLASSINTHECLUB</td>\n",
       "      <td>0</td>\n",
       "    </tr>\n",
       "    <tr>\n",
       "      <th>2</th>\n",
       "      <td>8544678</td>\n",
       "      <td>뭐야 이 평점들은.... 나쁘진 않지만 10점 짜리는 더더욱 아니잖아</td>\n",
       "      <td>0</td>\n",
       "    </tr>\n",
       "    <tr>\n",
       "      <th>3</th>\n",
       "      <td>6825595</td>\n",
       "      <td>지루하지는 않은데 완전 막장임... 돈주고 보기에는....</td>\n",
       "      <td>0</td>\n",
       "    </tr>\n",
       "    <tr>\n",
       "      <th>4</th>\n",
       "      <td>6723715</td>\n",
       "      <td>3D만 아니었어도 별 다섯 개 줬을텐데.. 왜 3D로 나와서 제 심기를 불편하게 하죠??</td>\n",
       "      <td>0</td>\n",
       "    </tr>\n",
       "  </tbody>\n",
       "</table>\n",
       "</div>"
      ],
      "text/plain": [
       "        id                                           document  label\n",
       "0  6270596                                                굳 ㅋ      1\n",
       "1  9274899                               GDNTOPCLASSINTHECLUB      0\n",
       "2  8544678             뭐야 이 평점들은.... 나쁘진 않지만 10점 짜리는 더더욱 아니잖아      0\n",
       "3  6825595                   지루하지는 않은데 완전 막장임... 돈주고 보기에는....      0\n",
       "4  6723715  3D만 아니었어도 별 다섯 개 줬을텐데.. 왜 3D로 나와서 제 심기를 불편하게 하죠??      0"
      ]
     },
     "execution_count": 4,
     "metadata": {},
     "output_type": "execute_result"
    }
   ],
   "source": [
    "#시험 데이터 완료!\n",
    "test_data.head()"
   ]
  },
  {
   "cell_type": "code",
   "execution_count": 5,
   "id": "2cef98de",
   "metadata": {},
   "outputs": [
    {
     "name": "stdout",
     "output_type": "stream",
     "text": [
      "150000\n",
      "50000\n"
     ]
    }
   ],
   "source": [
    "#학습 데이터와 시험 데이터의 갯수 확인!\n",
    "print(len(train_data))\n",
    "print(len(test_data))"
   ]
  },
  {
   "cell_type": "markdown",
   "id": "125db415",
   "metadata": {},
   "source": [
    "## 2) 데이터로더 구성"
   ]
  },
  {
   "cell_type": "code",
   "execution_count": 6,
   "id": "7e7c86be",
   "metadata": {},
   "outputs": [],
   "source": [
    "tokenizer = Mecab()\n",
    "stopwords = ['의','가','이','은','들','는','좀','잘','걍','과','도','를','으로','자','에','와','한','하다']\n",
    "\n",
    "def load_data(train_data, test_data, num_words=10000):\n",
    "    train_data.drop_duplicates(subset=['document'], inplace=True)\n",
    "    train_data = train_data.dropna(how = 'any') \n",
    "    test_data.drop_duplicates(subset=['document'], inplace=True)\n",
    "    test_data = test_data.dropna(how = 'any') \n",
    "    \n",
    "    X_train = []\n",
    "    for sentence in train_data['document']:\n",
    "        temp_X = tokenizer.morphs(sentence) #한국어 토크나이저로 토큰화\n",
    "        temp_X = [word for word in temp_X if not word in stopwords] #불용어 제거\n",
    "        X_train.append(temp_X)\n",
    "\n",
    "    X_test = []\n",
    "    for sentence in test_data['document']:\n",
    "        temp_X = tokenizer.morphs(sentence) #한국어 토크나이저로 토큰화\n",
    "        temp_X = [word for word in temp_X if not word in stopwords] #불용어 제거\n",
    "        X_test.append(temp_X)\n",
    "    \n",
    "    words = np.concatenate(X_train).tolist()\n",
    "    counter = Counter(words)\n",
    "    counter = counter.most_common(10000-4)\n",
    "    vocab = ['<PAD>', '<BOS>', '<UNK>', '<UNUSED>'] + [key for key, _ in counter]\n",
    "    word_to_index = {word:index for index, word in enumerate(vocab)}\n",
    "        \n",
    "    def wordlist_to_indexlist(wordlist):\n",
    "        return [word_to_index[word] if word in word_to_index else word_to_index['<PAD>'] for word in wordlist]\n",
    "        \n",
    "    X_train = list(map(wordlist_to_indexlist, X_train))\n",
    "    X_test = list(map(wordlist_to_indexlist, X_test))\n",
    "        \n",
    "    return X_train, np.array(list(train_data['label'])), X_test, np.array(list(test_data['label'])), word_to_index\n",
    "\n",
    "X_train, y_train, X_test, y_test, word_to_index = load_data(train_data, test_data)"
   ]
  },
  {
   "cell_type": "code",
   "execution_count": 7,
   "id": "0de51e50",
   "metadata": {},
   "outputs": [
    {
     "name": "stdout",
     "output_type": "stream",
     "text": [
      "훈련 샘플 개수: 146182, 테스트 개수: 49157\n"
     ]
    }
   ],
   "source": [
    "print(\"훈련 샘플 개수: {}, 테스트 개수: {}\".format(len(X_train), len(X_test)))"
   ]
  },
  {
   "cell_type": "code",
   "execution_count": 8,
   "id": "6e997167",
   "metadata": {},
   "outputs": [],
   "source": [
    "index_to_word = {index:word for word, index in word_to_index.items()}"
   ]
  },
  {
   "cell_type": "code",
   "execution_count": 9,
   "id": "78713bb7",
   "metadata": {},
   "outputs": [],
   "source": [
    "# 문장 1개를 활용할 딕셔너리와 함께 주면, 단어 인덱스 리스트 벡터로 변환해 주는 함수입니다. \n",
    "# 단, 모든 문장은 <BOS>로 시작하는 것으로 합니다. \n",
    "def get_encoded_sentence(sentence, word_to_index):\n",
    "    return [word_to_index['<BOS>']]+[word_to_index[word] if word in word_to_index else word_to_index['<UNK>'] for word in sentence.split()]\n",
    "\n",
    "# 여러 개의 문장 리스트를 한꺼번에 단어 인덱스 리스트 벡터로 encode해 주는 함수입니다. \n",
    "def get_encoded_sentences(sentences, word_to_index):\n",
    "    return [get_encoded_sentence(sentence, word_to_index) for sentence in sentences]\n",
    "\n",
    "# 숫자 벡터로 encode된 문장을 원래대로 decode하는 함수입니다. \n",
    "def get_decoded_sentence(encoded_sentence, index_to_word):\n",
    "    return ' '.join(index_to_word[index] if index in index_to_word else '<UNK>' for index in encoded_sentence[1:])  #[1:]를 통해 <BOS>를 제외\n",
    "\n",
    "# 여러 개의 숫자 벡터로 encode된 문장을 한꺼번에 원래대로 decode하는 함수입니다. \n",
    "def get_decoded_sentences(encoded_sentences, index_to_word):\n",
    "    return [get_decoded_sentence(encoded_sentence, index_to_word) for encoded_sentence in encoded_sentences]"
   ]
  },
  {
   "cell_type": "code",
   "execution_count": 10,
   "id": "b57d999d",
   "metadata": {},
   "outputs": [
    {
     "name": "stdout",
     "output_type": "stream",
     "text": [
      "더 빙 . . 진짜 짜증 나 네요 목소리\n",
      "라벨:  0\n"
     ]
    }
   ],
   "source": [
    "#1번째 리뷰데이터의 라벨 확인하기\n",
    "print(get_decoded_sentence(X_train[0], index_to_word))\n",
    "print('라벨: ', y_train[0])  "
   ]
  },
  {
   "cell_type": "markdown",
   "id": "a37234e2",
   "metadata": {},
   "source": [
    "## 3) 모델 구성을 위한 데이터 분석 및 가공"
   ]
  },
  {
   "cell_type": "code",
   "execution_count": 11,
   "id": "ca286c92",
   "metadata": {},
   "outputs": [
    {
     "name": "stdout",
     "output_type": "stream",
     "text": [
      "문장길이 평균 :  15.96940191154864\n",
      "문장길이 최대 :  116\n",
      "문장길이 표준편차 :  12.843571191092\n",
      "pad_sequences maxlen :  41\n",
      "전체 문장의 0.9342988343341575%가 maxlen 설정값 이내에 포함됩니다. \n"
     ]
    }
   ],
   "source": [
    "total_data_text = list(X_train) + list(X_test)\n",
    "\n",
    "num_tokens = [len(tokens) for tokens in total_data_text]\n",
    "num_tokens = np.array(num_tokens)\n",
    "\n",
    "print('문장길이 평균 : ', np.mean(num_tokens))\n",
    "print('문장길이 최대 : ', np.max(num_tokens))\n",
    "print('문장길이 표준편차 : ', np.std(num_tokens))\n",
    "\n",
    "# 예를들어, 최대 길이를 (평균 + 2*표준편차)로 한다면,  \n",
    "max_tokens = np.mean(num_tokens) + 2 * np.std(num_tokens)\n",
    "maxlen = int(max_tokens)\n",
    "print('pad_sequences maxlen : ', maxlen)\n",
    "print('전체 문장의 {}%가 maxlen 설정값 이내에 포함됩니다. '.format(np.sum(num_tokens < max_tokens) / len(num_tokens)))"
   ]
  },
  {
   "cell_type": "code",
   "execution_count": 12,
   "id": "043d5634",
   "metadata": {},
   "outputs": [
    {
     "name": "stdout",
     "output_type": "stream",
     "text": [
      "(146182, 41)\n"
     ]
    }
   ],
   "source": [
    "#keras.preprocessing.sequence.pad_sequences 을 활용한 패딩 추가\n",
    "x_train = tf.keras.preprocessing.sequence.pad_sequences(X_train,\n",
    "                                                        value=word_to_index[\"<PAD>\"],\n",
    "                                                        padding='post', # 혹은 'pre'\n",
    "                                                        maxlen=maxlen)\n",
    "\n",
    "x_test = tf.keras.preprocessing.sequence.pad_sequences(X_test,\n",
    "                                                       value=word_to_index[\"<PAD>\"],\n",
    "                                                       padding='post', # 혹은 'pre'\n",
    "                                                       maxlen=maxlen)\n",
    "\n",
    "print(x_train.shape)"
   ]
  },
  {
   "cell_type": "markdown",
   "id": "a3fb4196",
   "metadata": {},
   "source": [
    "## 4) 모델 구성 및 validation set 구성\n",
    "## 5) 모델 훈련 개시\n",
    "## 6) Loss, Accuracy 그래프 시각화\n",
    "## 7) 학습된 Embedding 레이어 분석"
   ]
  },
  {
   "cell_type": "markdown",
   "id": "92107349",
   "metadata": {},
   "source": [
    "## 1.RNN모델 사용"
   ]
  },
  {
   "cell_type": "code",
   "execution_count": 13,
   "id": "5a6ff51c",
   "metadata": {},
   "outputs": [
    {
     "name": "stdout",
     "output_type": "stream",
     "text": [
      "Model: \"sequential\"\n",
      "_________________________________________________________________\n",
      "Layer (type)                 Output Shape              Param #   \n",
      "=================================================================\n",
      "embedding (Embedding)        (None, None, 200)         2000000   \n",
      "_________________________________________________________________\n",
      "lstm (LSTM)                  (None, 8)                 6688      \n",
      "_________________________________________________________________\n",
      "dense (Dense)                (None, 8)                 72        \n",
      "_________________________________________________________________\n",
      "dense_1 (Dense)              (None, 1)                 9         \n",
      "=================================================================\n",
      "Total params: 2,006,769\n",
      "Trainable params: 2,006,769\n",
      "Non-trainable params: 0\n",
      "_________________________________________________________________\n"
     ]
    }
   ],
   "source": [
    "vocab_size = 10000  # 어휘 사전의 크기입니다\n",
    "word_vector_dim = 200\n",
    "\n",
    "model = tf.keras.Sequential()\n",
    "model.add(tf.keras.layers.Embedding(vocab_size, word_vector_dim, input_shape=(None,)))\n",
    "model.add(tf.keras.layers.LSTM(8))  \n",
    "model.add(tf.keras.layers.Dense(8, activation='relu'))\n",
    "model.add(tf.keras.layers.Dense(1, activation='sigmoid'))  # 최종 출력은 긍정/부정을 나타내는 1dim 입니다.\n",
    "\n",
    "model.summary()"
   ]
  },
  {
   "cell_type": "code",
   "execution_count": 14,
   "id": "ace7e440",
   "metadata": {},
   "outputs": [
    {
     "name": "stdout",
     "output_type": "stream",
     "text": [
      "(136182, 41)\n",
      "(136182,)\n"
     ]
    }
   ],
   "source": [
    "# validation set 10000건 분리\n",
    "\n",
    "x_val = x_train[:10000]   \n",
    "y_val = y_train[:10000]\n",
    "\n",
    "# validation set을 제외한 나머지 15000건\n",
    "partial_x_train = x_train[10000:]  \n",
    "partial_y_train = y_train[10000:]\n",
    "\n",
    "print(partial_x_train.shape)\n",
    "print(partial_y_train.shape)"
   ]
  },
  {
   "cell_type": "code",
   "execution_count": 15,
   "id": "1e988676",
   "metadata": {},
   "outputs": [
    {
     "name": "stdout",
     "output_type": "stream",
     "text": [
      "Epoch 1/5\n",
      "266/266 [==============================] - 5s 8ms/step - loss: 0.5081 - accuracy: 0.7262 - val_loss: 0.3602 - val_accuracy: 0.8449\n",
      "Epoch 2/5\n",
      "266/266 [==============================] - 2s 6ms/step - loss: 0.3335 - accuracy: 0.8595 - val_loss: 0.3367 - val_accuracy: 0.8546\n",
      "Epoch 3/5\n",
      "266/266 [==============================] - 2s 6ms/step - loss: 0.2996 - accuracy: 0.8738 - val_loss: 0.3383 - val_accuracy: 0.8549\n",
      "Epoch 4/5\n",
      "266/266 [==============================] - 2s 6ms/step - loss: 0.2739 - accuracy: 0.8852 - val_loss: 0.3446 - val_accuracy: 0.8546\n",
      "Epoch 5/5\n",
      "266/266 [==============================] - 2s 6ms/step - loss: 0.2504 - accuracy: 0.8962 - val_loss: 0.3524 - val_accuracy: 0.8570\n"
     ]
    }
   ],
   "source": [
    "model.compile(optimizer='adam',\n",
    "              loss='binary_crossentropy',\n",
    "              metrics=['accuracy'])\n",
    "              \n",
    "epochs=5\n",
    "\n",
    "history = model.fit(partial_x_train,\n",
    "                    partial_y_train,\n",
    "                    epochs=epochs,\n",
    "                    batch_size=512,\n",
    "                    validation_data=(x_val, y_val),\n",
    "                    verbose=1)"
   ]
  },
  {
   "cell_type": "code",
   "execution_count": 16,
   "id": "0e30e35b",
   "metadata": {},
   "outputs": [
    {
     "name": "stdout",
     "output_type": "stream",
     "text": [
      "1537/1537 - 3s - loss: 0.3536 - accuracy: 0.8531\n",
      "[0.3535741865634918, 0.8531439900398254]\n"
     ]
    }
   ],
   "source": [
    "results = model.evaluate(x_test,  y_test, verbose=2)\n",
    "\n",
    "print(results)"
   ]
  },
  {
   "cell_type": "code",
   "execution_count": 17,
   "id": "2e10e259",
   "metadata": {},
   "outputs": [
    {
     "name": "stdout",
     "output_type": "stream",
     "text": [
      "dict_keys(['loss', 'accuracy', 'val_loss', 'val_accuracy'])\n"
     ]
    }
   ],
   "source": [
    "history_dict = history.history\n",
    "print(history_dict.keys())"
   ]
  },
  {
   "cell_type": "code",
   "execution_count": 18,
   "id": "03052338",
   "metadata": {},
   "outputs": [
    {
     "data": {
      "image/png": "[encoded data removed]",
      "text/plain": [
       "<Figure size 432x288 with 1 Axes>"
      ]
     },
     "metadata": {
      "needs_background": "light"
     },
     "output_type": "display_data"
    }
   ],
   "source": [
    "import matplotlib.pyplot as plt\n",
    "\n",
    "acc = history_dict['accuracy']\n",
    "val_acc = history_dict['val_accuracy']\n",
    "loss = history_dict['loss']\n",
    "val_loss = history_dict['val_loss']\n",
    "\n",
    "epochs = range(1, len(acc) + 1)\n",
    "\n",
    "plt.plot(epochs, loss, 'r', label='Loss')\n",
    "plt.plot(epochs, val_loss, 'g', label='Val_loss')\n",
    "plt.title('RNN_Loss and RNN_Val_loss')\n",
    "plt.xlabel('Epochs')\n",
    "plt.ylabel('Loss')\n",
    "plt.legend()\n",
    "\n",
    "plt.show()"
   ]
  },
  {
   "cell_type": "code",
   "execution_count": 19,
   "id": "c59e4ab1",
   "metadata": {},
   "outputs": [
    {
     "data": {
      "image/png": "[encoded data removed]",
      "text/plain": [
       "<Figure size 432x288 with 1 Axes>"
      ]
     },
     "metadata": {
      "needs_background": "light"
     },
     "output_type": "display_data"
    }
   ],
   "source": [
    "plt.clf()#그림을 초기화합니다\n",
    "\n",
    "plt.plot(epochs, acc, 'y', label='Accuracy')\n",
    "plt.plot(epochs, val_acc, 'b', label='Val_accuracy')\n",
    "plt.title('RNN_Accuracy and RNN_Val_accuracy')\n",
    "plt.xlabel('Epochs')\n",
    "plt.ylabel('Accuracy')\n",
    "plt.legend()\n",
    "\n",
    "plt.show()"
   ]
  },
  {
   "cell_type": "markdown",
   "id": "e3fb32d1",
   "metadata": {},
   "source": [
    "## 2.1-D CNN 모델 사용"
   ]
  },
  {
   "cell_type": "code",
   "execution_count": 20,
   "id": "558e49f7",
   "metadata": {},
   "outputs": [
    {
     "name": "stdout",
     "output_type": "stream",
     "text": [
      "Model: \"sequential_1\"\n",
      "_________________________________________________________________\n",
      "Layer (type)                 Output Shape              Param #   \n",
      "=================================================================\n",
      "embedding_1 (Embedding)      (None, None, 200)         2000000   \n",
      "_________________________________________________________________\n",
      "conv1d (Conv1D)              (None, None, 16)          22416     \n",
      "_________________________________________________________________\n",
      "max_pooling1d (MaxPooling1D) (None, None, 16)          0         \n",
      "_________________________________________________________________\n",
      "conv1d_1 (Conv1D)            (None, None, 16)          1808      \n",
      "_________________________________________________________________\n",
      "global_max_pooling1d (Global (None, 16)                0         \n",
      "_________________________________________________________________\n",
      "dense_2 (Dense)              (None, 8)                 136       \n",
      "_________________________________________________________________\n",
      "dense_3 (Dense)              (None, 1)                 9         \n",
      "=================================================================\n",
      "Total params: 2,024,369\n",
      "Trainable params: 2,024,369\n",
      "Non-trainable params: 0\n",
      "_________________________________________________________________\n"
     ]
    }
   ],
   "source": [
    "vocab_size = 10000\n",
    "word_vector_dim = 200\n",
    "\n",
    "model = tf.keras.Sequential()\n",
    "model.add(tf.keras.layers.Embedding(vocab_size, word_vector_dim, input_shape=(None,)))\n",
    "model.add(tf.keras.layers.Conv1D(16, 7, activation='relu'))\n",
    "model.add(tf.keras.layers.MaxPooling1D(5))\n",
    "model.add(tf.keras.layers.Conv1D(16, 7, activation='relu'))\n",
    "model.add(tf.keras.layers.GlobalMaxPooling1D())\n",
    "model.add(tf.keras.layers.Dense(8, activation='relu'))\n",
    "model.add(tf.keras.layers.Dense(1, activation='sigmoid'))  # 최종 출력은 긍정/부정을 나타내는 1dim 입니다.\n",
    "\n",
    "model.summary()"
   ]
  },
  {
   "cell_type": "code",
   "execution_count": 21,
   "id": "66cd64a8",
   "metadata": {},
   "outputs": [
    {
     "name": "stdout",
     "output_type": "stream",
     "text": [
      "(136182, 41)\n",
      "(136182,)\n"
     ]
    }
   ],
   "source": [
    "x_val = x_train[:10000]   \n",
    "y_val = y_train[:10000]\n",
    "\n",
    "partial_x_train = x_train[10000:]  \n",
    "partial_y_train = y_train[10000:]\n",
    "\n",
    "print(partial_x_train.shape)\n",
    "print(partial_y_train.shape)"
   ]
  },
  {
   "cell_type": "code",
   "execution_count": 22,
   "id": "ea57e87f",
   "metadata": {},
   "outputs": [
    {
     "name": "stdout",
     "output_type": "stream",
     "text": [
      "Epoch 1/5\n",
      "266/266 [==============================] - 4s 8ms/step - loss: 0.4515 - accuracy: 0.7712 - val_loss: 0.3373 - val_accuracy: 0.8527\n",
      "Epoch 2/5\n",
      "266/266 [==============================] - 2s 6ms/step - loss: 0.3058 - accuracy: 0.8727 - val_loss: 0.3235 - val_accuracy: 0.8604\n",
      "Epoch 3/5\n",
      "266/266 [==============================] - 2s 6ms/step - loss: 0.2496 - accuracy: 0.9007 - val_loss: 0.3334 - val_accuracy: 0.8597\n",
      "Epoch 4/5\n",
      "266/266 [==============================] - 2s 6ms/step - loss: 0.1846 - accuracy: 0.9312 - val_loss: 0.3739 - val_accuracy: 0.8508\n",
      "Epoch 5/5\n",
      "266/266 [==============================] - 2s 6ms/step - loss: 0.1249 - accuracy: 0.9571 - val_loss: 0.4305 - val_accuracy: 0.8469\n"
     ]
    }
   ],
   "source": [
    "model.compile(optimizer='adam',\n",
    "              loss='binary_crossentropy',\n",
    "              metrics=['accuracy'])\n",
    "              \n",
    "epochs=5\n",
    "\n",
    "history = model.fit(partial_x_train,\n",
    "                    partial_y_train,\n",
    "                    epochs=epochs,\n",
    "                    batch_size=512,\n",
    "                    validation_data=(x_val, y_val),\n",
    "                    verbose=1)"
   ]
  },
  {
   "cell_type": "code",
   "execution_count": 23,
   "id": "d1c7a90d",
   "metadata": {},
   "outputs": [
    {
     "name": "stdout",
     "output_type": "stream",
     "text": [
      "1537/1537 - 3s - loss: 0.4444 - accuracy: 0.8423\n",
      "[0.444351464509964, 0.842321515083313]\n"
     ]
    }
   ],
   "source": [
    "results = model.evaluate(x_test,  y_test, verbose=2)\n",
    "\n",
    "print(results)"
   ]
  },
  {
   "cell_type": "code",
   "execution_count": 24,
   "id": "ec0e65f8",
   "metadata": {},
   "outputs": [
    {
     "data": {
      "image/png": "[encoded data removed]",
      "text/plain": [
       "<Figure size 432x288 with 1 Axes>"
      ]
     },
     "metadata": {
      "needs_background": "light"
     },
     "output_type": "display_data"
    },
    {
     "data": {
      "image/png": "[encoded data removed]",
      "text/plain": [
       "<Figure size 432x288 with 1 Axes>"
      ]
     },
     "metadata": {
      "needs_background": "light"
     },
     "output_type": "display_data"
    }
   ],
   "source": [
    "acc = history_dict['accuracy']\n",
    "val_acc = history_dict['val_accuracy']\n",
    "loss = history_dict['loss']\n",
    "val_loss = history_dict['val_loss']\n",
    "\n",
    "epochs = range(1, len(acc) + 1)\n",
    "\n",
    "plt.plot(epochs, loss, 'r', label='Loss')\n",
    "plt.plot(epochs, val_loss, 'g', label='loss')\n",
    "plt.title('1-D CNN_Loss and Val_loss')\n",
    "plt.xlabel('1-D CNN_Epochs')\n",
    "plt.ylabel('1-D CNN_Loss')\n",
    "plt.legend()\n",
    "plt.show()\n",
    "\n",
    "plt.plot(epochs, acc, 'y', label='Accuracy')\n",
    "plt.plot(epochs, val_acc, 'b', label='Val_accuracy')\n",
    "plt.title('1-D CNN_Accuracy and 1-D CNN_Val_accuracy')\n",
    "plt.xlabel('1-D CNN_Epochs')\n",
    "plt.ylabel('1-D CNN_Accuracy')\n",
    "plt.legend()\n",
    "\n",
    "plt.show()"
   ]
  },
  {
   "cell_type": "markdown",
   "id": "8f1f9e6c",
   "metadata": {},
   "source": [
    "## 3.GlobalMaxPooling1D 레이어 1개 있는 모델"
   ]
  },
  {
   "cell_type": "code",
   "execution_count": 25,
   "id": "c21ede0f",
   "metadata": {},
   "outputs": [
    {
     "name": "stdout",
     "output_type": "stream",
     "text": [
      "Model: \"sequential_2\"\n",
      "_________________________________________________________________\n",
      "Layer (type)                 Output Shape              Param #   \n",
      "=================================================================\n",
      "embedding_2 (Embedding)      (None, None, 200)         2000000   \n",
      "_________________________________________________________________\n",
      "global_max_pooling1d_1 (Glob (None, 200)               0         \n",
      "_________________________________________________________________\n",
      "dense_4 (Dense)              (None, 8)                 1608      \n",
      "_________________________________________________________________\n",
      "dense_5 (Dense)              (None, 1)                 9         \n",
      "=================================================================\n",
      "Total params: 2,001,617\n",
      "Trainable params: 2,001,617\n",
      "Non-trainable params: 0\n",
      "_________________________________________________________________\n"
     ]
    }
   ],
   "source": [
    "vocab_size = 10000\n",
    "word_vector_dim = 200\n",
    "\n",
    "model = tf.keras.Sequential()\n",
    "model.add(tf.keras.layers.Embedding(vocab_size, word_vector_dim, input_shape=(None,)))\n",
    "model.add(tf.keras.layers.GlobalMaxPooling1D())\n",
    "model.add(tf.keras.layers.Dense(8, activation='relu'))\n",
    "model.add(tf.keras.layers.Dense(1, activation='sigmoid'))  # 최종 출력은 긍정/부정을 나타내는 1dim 입니다.\n",
    "\n",
    "model.summary()"
   ]
  },
  {
   "cell_type": "code",
   "execution_count": 26,
   "id": "3223a533",
   "metadata": {},
   "outputs": [
    {
     "name": "stdout",
     "output_type": "stream",
     "text": [
      "(136182, 41)\n",
      "(136182,)\n"
     ]
    }
   ],
   "source": [
    "x_val = x_train[:10000]   \n",
    "y_val = y_train[:10000]\n",
    "\n",
    "partial_x_train = x_train[10000:]  \n",
    "partial_y_train = y_train[10000:]\n",
    "\n",
    "print(partial_x_train.shape)\n",
    "print(partial_y_train.shape)"
   ]
  },
  {
   "cell_type": "code",
   "execution_count": 27,
   "id": "8ecc5333",
   "metadata": {},
   "outputs": [
    {
     "name": "stdout",
     "output_type": "stream",
     "text": [
      "Epoch 1/5\n",
      "266/266 [==============================] - 2s 5ms/step - loss: 0.4582 - accuracy: 0.8120 - val_loss: 0.3427 - val_accuracy: 0.8501\n",
      "Epoch 2/5\n",
      "266/266 [==============================] - 1s 4ms/step - loss: 0.3104 - accuracy: 0.8689 - val_loss: 0.3297 - val_accuracy: 0.8562\n",
      "Epoch 3/5\n",
      "266/266 [==============================] - 1s 4ms/step - loss: 0.2655 - accuracy: 0.8917 - val_loss: 0.3366 - val_accuracy: 0.8563\n",
      "Epoch 4/5\n",
      "266/266 [==============================] - 1s 4ms/step - loss: 0.2261 - accuracy: 0.9117 - val_loss: 0.3485 - val_accuracy: 0.8544\n",
      "Epoch 5/5\n",
      "266/266 [==============================] - 1s 4ms/step - loss: 0.1859 - accuracy: 0.9313 - val_loss: 0.3735 - val_accuracy: 0.8527\n"
     ]
    }
   ],
   "source": [
    "model.compile(optimizer='adam',\n",
    "              loss='binary_crossentropy',\n",
    "              metrics=['accuracy'])\n",
    "              \n",
    "epochs=5  # 몇 epoch를 훈련하면 좋을지 결과를 보면서 바꾸어 봅시다. \n",
    "\n",
    "history = model.fit(partial_x_train,\n",
    "                    partial_y_train,\n",
    "                    epochs=epochs,\n",
    "                    batch_size=512,\n",
    "                    validation_data=(x_val, y_val),\n",
    "                    verbose=1)"
   ]
  },
  {
   "cell_type": "code",
   "execution_count": 28,
   "id": "4e2217c8",
   "metadata": {},
   "outputs": [
    {
     "name": "stdout",
     "output_type": "stream",
     "text": [
      "1537/1537 - 2s - loss: 0.3852 - accuracy: 0.8480\n",
      "[0.3851524889469147, 0.8480175733566284]\n"
     ]
    }
   ],
   "source": [
    "results = model.evaluate(x_test,  y_test, verbose=2)\n",
    "\n",
    "print(results)"
   ]
  },
  {
   "cell_type": "code",
   "execution_count": 29,
   "id": "17766c75",
   "metadata": {},
   "outputs": [
    {
     "data": {
      "image/png": "[encoded data removed]",
      "text/plain": [
       "<Figure size 432x288 with 1 Axes>"
      ]
     },
     "metadata": {
      "needs_background": "light"
     },
     "output_type": "display_data"
    },
    {
     "data": {
      "image/png": "[encoded data removed]",
      "text/plain": [
       "<Figure size 432x288 with 1 Axes>"
      ]
     },
     "metadata": {
      "needs_background": "light"
     },
     "output_type": "display_data"
    }
   ],
   "source": [
    "epochs = range(1, len(acc) + 1)\n",
    "\n",
    "plt.plot(epochs, loss, 'r', label='Loss')\n",
    "plt.plot(epochs, val_loss, 'g', label='Val_loss')\n",
    "plt.title('GMP1D_Loss and GMP1D_Val_loss')\n",
    "plt.xlabel('GMP1D_Epochs')\n",
    "plt.ylabel('GMP1D_Loss')\n",
    "plt.legend()\n",
    "\n",
    "plt.show()\n",
    "\n",
    "plt.plot(epochs, acc, 'y', label='Accuracy')\n",
    "plt.plot(epochs, val_acc, 'b', label='Val_accuracy')\n",
    "plt.title('GMP1D_Accuracy and GMP1D_Val_accuracy')\n",
    "plt.xlabel('GMP1D_Epochs')\n",
    "plt.ylabel('GMP1D_Accuracy')\n",
    "plt.legend()\n",
    "\n",
    "plt.show()"
   ]
  },
  {
   "cell_type": "code",
   "execution_count": 30,
   "id": "1efb40f2",
   "metadata": {},
   "outputs": [
    {
     "name": "stdout",
     "output_type": "stream",
     "text": [
      "(10000, 200)\n"
     ]
    }
   ],
   "source": [
    "embedding_layer = model.layers[0]\n",
    "weights = embedding_layer.get_weights()[0]\n",
    "print(weights.shape)    # shape: (vocab_size, embedding_dim)"
   ]
  },
  {
   "cell_type": "code",
   "execution_count": 31,
   "id": "4dd84175",
   "metadata": {},
   "outputs": [],
   "source": [
    "# 학습한 Embedding 파라미터를 파일에 써서 저장합니다. \n",
    "word2vec_file_path = os.getenv('HOME')+'/aiffel/sentiment_classification/data/word2vec.txt'\n",
    "f = open(word2vec_file_path, 'w')\n",
    "f.write('{} {}\\n'.format(vocab_size-4, word_vector_dim))  # 몇개의 벡터를 얼마 사이즈로 기재할지 타이틀을 씁니다.\n",
    "\n",
    "# 단어 개수(에서 특수문자 4개는 제외하고)만큼의 워드 벡터를 파일에 기록합니다. \n",
    "vectors = model.get_weights()[0]\n",
    "for i in range(4,vocab_size):\n",
    "    f.write('{} {}\\n'.format(index_to_word[i], ' '.join(map(str, list(vectors[i, :])))))\n",
    "f.close()"
   ]
  },
  {
   "cell_type": "code",
   "execution_count": 32,
   "id": "bcf5b550",
   "metadata": {},
   "outputs": [
    {
     "data": {
      "text/plain": [
       "[('오랜만', 0.44224095344543457),\n",
       " ('켄', 0.3874504864215851),\n",
       " ('좋', 0.38610148429870605),\n",
       " ('비행기', 0.3600085377693176),\n",
       " ('샘', 0.35769686102867126),\n",
       " ('맛있', 0.35602015256881714),\n",
       " ('만족', 0.35341235995292664),\n",
       " ('여운', 0.35154688358306885),\n",
       " ('뮤', 0.34515324234962463),\n",
       " ('웃', 0.34483602643013)]"
      ]
     },
     "execution_count": 32,
     "metadata": {},
     "output_type": "execute_result"
    }
   ],
   "source": [
    "word_vectors = Word2VecKeyedVectors.load_word2vec_format(word2vec_file_path, binary=False)\n",
    "word_vectors.similar_by_word(\"사랑\")"
   ]
  },
  {
   "cell_type": "markdown",
   "id": "3a2a2e15",
   "metadata": {},
   "source": [
    "## 8) 한국어 Word2Vec 임베딩 활용하여 성능 개선"
   ]
  },
  {
   "cell_type": "code",
   "execution_count": 33,
   "id": "0aa484fc",
   "metadata": {},
   "outputs": [
    {
     "data": {
      "text/plain": [
       "'3.8.3'"
      ]
     },
     "execution_count": 33,
     "metadata": {},
     "output_type": "execute_result"
    }
   ],
   "source": [
    "#버전확인 #지금은 3.8.3으로 뜨지만 처음에 돌렸을때는 4.몇이었다.\n",
    "gensim.__version__"
   ]
  },
  {
   "cell_type": "code",
   "execution_count": 34,
   "id": "34c293a6",
   "metadata": {
    "scrolled": false
   },
   "outputs": [],
   "source": [
    "#버전 낮추기 #지금은 이미 3.8.3이라서 오류가 뜬다\n",
    "\n",
    "#pip install --upgrade gensim==3.8.3"
   ]
  },
  {
   "cell_type": "code",
   "execution_count": 35,
   "id": "7b79547b",
   "metadata": {},
   "outputs": [
    {
     "name": "stderr",
     "output_type": "stream",
     "text": [
      "/tmp/ipykernel_3633/1370727866.py:4: DeprecationWarning: Call to deprecated `__getitem__` (Method will be removed in 4.0.0, use self.wv.__getitem__() instead).\n",
      "  vector = word2vec[\"사랑\"]\n"
     ]
    },
    {
     "data": {
      "text/plain": [
       "array([-1.3740246 , -1.7353463 ,  3.3915305 , -2.569253  , -1.4016607 ,\n",
       "        1.4556127 ,  0.9414557 ,  1.9207907 ,  0.16471806,  0.4838317 ,\n",
       "       -0.8547181 ,  2.0879807 ,  0.86741775,  0.87539405, -0.09962013,\n",
       "        0.22928311, -1.1858722 ,  0.00858838,  1.4999928 , -0.16196461,\n",
       "       -0.35184434, -0.92390764,  1.0849575 ,  0.3025011 ,  2.7021565 ,\n",
       "       -1.0263684 ,  0.32864776, -0.76589465, -2.510981  , -0.66225356,\n",
       "        2.8434615 ,  0.50130975, -1.021874  , -1.4366034 ,  1.1110784 ,\n",
       "        0.5812605 , -0.5830406 , -0.5785423 ,  1.3634988 ,  2.3074338 ,\n",
       "       -1.4314893 ,  0.45745876,  1.1073523 , -3.2135262 , -0.2898375 ,\n",
       "       -1.1622221 ,  1.2369208 , -0.7622987 , -0.37757635,  1.1376442 ,\n",
       "        0.01065568, -0.69105595,  1.5159112 ,  1.1534518 , -1.0119992 ,\n",
       "       -0.5757404 ,  1.1349088 , -1.1289831 ,  0.13004152,  2.0451715 ,\n",
       "       -0.23940353,  1.3604902 ,  0.72700524,  0.32545742,  1.0612459 ,\n",
       "        0.42252553,  1.1442151 ,  2.8774905 ,  2.4377263 , -1.340305  ,\n",
       "        0.12629706, -0.07772489, -0.59053177, -0.19007324,  0.1396541 ,\n",
       "       -1.8655105 ,  0.9401054 ,  0.5150856 ,  0.7795373 , -0.86505556,\n",
       "        0.11842118, -1.8303713 ,  1.337177  , -1.0102932 , -0.37180334,\n",
       "        0.00893255, -0.49141577, -1.05802   , -2.5987291 ,  0.9731856 ,\n",
       "        0.34080654, -2.5973568 ,  1.0046519 , -1.3914212 , -0.6504351 ,\n",
       "       -0.9010805 , -1.1341541 ,  0.75565654,  1.2941337 ,  0.0880572 ,\n",
       "       -1.0341461 , -0.1750075 , -0.01880708, -1.0835075 , -2.0333962 ,\n",
       "        1.1372623 ,  1.0626172 , -1.8369784 , -2.2662086 , -3.382057  ,\n",
       "        1.6751666 , -0.2988223 , -0.25563756, -1.5594274 ,  0.6313433 ,\n",
       "       -1.2667153 , -1.6857744 , -1.0949599 ,  0.7742313 , -0.6095523 ,\n",
       "        3.19503   ,  0.13200459,  1.7937473 , -2.8782516 ,  1.3821276 ,\n",
       "        2.2895143 ,  0.0741943 , -0.41046414,  1.438796  ,  0.19373988,\n",
       "        1.4294034 ,  1.5025262 ,  1.4849502 ,  1.5754777 ,  2.7793512 ,\n",
       "       -0.6885003 , -0.30154693, -1.708323  ,  1.1030879 , -2.2597387 ,\n",
       "        1.1909146 ,  2.4399316 ,  0.3990314 ,  0.904154  ,  0.5454401 ,\n",
       "       -1.3235748 , -0.64812386,  0.22390233,  0.9657619 , -0.47360668,\n",
       "       -0.10278235, -1.0679734 , -0.91414386,  0.92069   ,  0.3549338 ,\n",
       "        0.32858834,  0.84870636,  3.596926  , -1.6651102 ,  0.23658653,\n",
       "        1.0515738 ,  0.40531915, -0.773514  , -0.93460965, -0.3946274 ,\n",
       "       -1.5657727 ,  1.183652  ,  2.5277    ,  0.57700926,  1.7051374 ,\n",
       "       -1.8249958 , -2.0328498 ,  0.6617798 ,  0.85747904,  0.31782728,\n",
       "       -1.1660796 ,  0.32923874,  2.2055087 , -0.12782003,  2.0455444 ,\n",
       "       -0.1724252 ,  0.46001154,  1.559042  , -1.6152996 , -0.84242785,\n",
       "        0.7553168 ,  0.39734274,  0.07714175,  0.05610155,  0.32837135,\n",
       "        1.0220716 ,  1.3816743 ,  0.8049544 ,  0.28728685, -0.97610044,\n",
       "        0.8861181 , -0.01250968, -1.4845604 , -1.5236791 , -1.5451258 ],\n",
       "      dtype=float32)"
      ]
     },
     "execution_count": 35,
     "metadata": {},
     "output_type": "execute_result"
    }
   ],
   "source": [
    "#다운받은 파일 연결하기\n",
    "word2vec_path = os.getenv('HOME')+'/aiffel/sentiment_classification/data/ko.bin'\n",
    "word2vec = gensim.models.Word2Vec.load(word2vec_path)\n",
    "vector = word2vec[\"사랑\"]\n",
    "vector     # 무려 300dim의 워드 벡터입니다."
   ]
  },
  {
   "cell_type": "code",
   "execution_count": 36,
   "id": "5ace15da",
   "metadata": {
    "scrolled": true
   },
   "outputs": [
    {
     "name": "stderr",
     "output_type": "stream",
     "text": [
      "/tmp/ipykernel_3633/2654163817.py:2: DeprecationWarning: Call to deprecated `__getitem__` (Method will be removed in 4.0.0, use self.wv.__getitem__() instead).\n",
      "  word2vec[\"사랑\"].shape\n"
     ]
    },
    {
     "data": {
      "text/plain": [
       "(200,)"
      ]
     },
     "execution_count": 36,
     "metadata": {},
     "output_type": "execute_result"
    }
   ],
   "source": [
    "#크기 확인하기\n",
    "word2vec[\"사랑\"].shape"
   ]
  },
  {
   "cell_type": "markdown",
   "id": "bd387c3c",
   "metadata": {},
   "source": [
    "## 1.성능개선 버전_RNN모델 사용"
   ]
  },
  {
   "cell_type": "code",
   "execution_count": 37,
   "id": "e94ad3fa",
   "metadata": {},
   "outputs": [
    {
     "name": "stderr",
     "output_type": "stream",
     "text": [
      "/tmp/ipykernel_3633/3796460438.py:7: DeprecationWarning: Call to deprecated `__contains__` (Method will be removed in 4.0.0, use self.wv.__contains__() instead).\n",
      "  if index_to_word[i] in word2vec:\n",
      "/tmp/ipykernel_3633/3796460438.py:8: DeprecationWarning: Call to deprecated `__getitem__` (Method will be removed in 4.0.0, use self.wv.__getitem__() instead).\n",
      "  embedding_matrix[i] = word2vec[index_to_word[i]]\n"
     ]
    }
   ],
   "source": [
    "vocab_size = 10000\n",
    "word_vector_dim = 200\n",
    "embedding_matrix = np.random.rand(vocab_size, word_vector_dim)\n",
    "\n",
    "# embedding_matrix에 Word2Vec 워드 벡터를 단어 하나씩마다 차례차례 카피한다.\n",
    "for i in range(4,vocab_size):\n",
    "    if index_to_word[i] in word2vec:\n",
    "        embedding_matrix[i] = word2vec[index_to_word[i]]"
   ]
  },
  {
   "cell_type": "code",
   "execution_count": 38,
   "id": "d92aa524",
   "metadata": {},
   "outputs": [
    {
     "name": "stdout",
     "output_type": "stream",
     "text": [
      "Model: \"sequential_3\"\n",
      "_________________________________________________________________\n",
      "Layer (type)                 Output Shape              Param #   \n",
      "=================================================================\n",
      "embedding_3 (Embedding)      (None, 41, 200)           2000000   \n",
      "_________________________________________________________________\n",
      "conv1d_2 (Conv1D)            (None, 35, 32)            44832     \n",
      "_________________________________________________________________\n",
      "max_pooling1d_1 (MaxPooling1 (None, 7, 32)             0         \n",
      "_________________________________________________________________\n",
      "conv1d_3 (Conv1D)            (None, 1, 128)            28800     \n",
      "_________________________________________________________________\n",
      "global_max_pooling1d_2 (Glob (None, 128)               0         \n",
      "_________________________________________________________________\n",
      "dense_6 (Dense)              (None, 32)                4128      \n",
      "_________________________________________________________________\n",
      "dense_7 (Dense)              (None, 1)                 33        \n",
      "=================================================================\n",
      "Total params: 2,077,793\n",
      "Trainable params: 2,077,793\n",
      "Non-trainable params: 0\n",
      "_________________________________________________________________\n"
     ]
    }
   ],
   "source": [
    "vocab_size = 10000\n",
    "word_vector_dim = 200\n",
    "\n",
    "model = tf.keras.Sequential()\n",
    "model.add(tf.keras.layers.Embedding(vocab_size, \n",
    "                                 word_vector_dim, \n",
    "                                 embeddings_initializer=Constant(embedding_matrix),  # 카피한 임베딩을 여기서 활용\n",
    "                                 input_length=maxlen, \n",
    "                                 trainable=True))   # trainable을 True로 주면 Fine-tuning\n",
    "model.add(tf.keras.layers.Conv1D(32, 7, activation='relu'))\n",
    "model.add(tf.keras.layers.MaxPooling1D(5))\n",
    "model.add(tf.keras.layers.Conv1D(128, 7, activation='relu'))\n",
    "model.add(tf.keras.layers.GlobalMaxPooling1D())\n",
    "model.add(tf.keras.layers.Dense(32, activation='relu'))\n",
    "model.add(tf.keras.layers.Dense(1, activation='sigmoid')) \n",
    "\n",
    "model.summary()"
   ]
  },
  {
   "cell_type": "code",
   "execution_count": 39,
   "id": "b95ac0b8",
   "metadata": {},
   "outputs": [
    {
     "name": "stdout",
     "output_type": "stream",
     "text": [
      "(136182, 41)\n",
      "(136182,)\n"
     ]
    }
   ],
   "source": [
    "x_val = x_train[:10000]   \n",
    "y_val = y_train[:10000]\n",
    "\n",
    "partial_x_train = x_train[10000:]  \n",
    "partial_y_train = y_train[10000:]\n",
    "\n",
    "print(partial_x_train.shape)\n",
    "print(partial_y_train.shape)"
   ]
  },
  {
   "cell_type": "code",
   "execution_count": 40,
   "id": "b288061a",
   "metadata": {},
   "outputs": [
    {
     "name": "stdout",
     "output_type": "stream",
     "text": [
      "Epoch 1/23\n",
      "266/266 [==============================] - 3s 9ms/step - loss: 0.5086 - accuracy: 0.7409 - val_loss: 0.3995 - val_accuracy: 0.8181\n",
      "Epoch 2/23\n",
      "266/266 [==============================] - 2s 7ms/step - loss: 0.3584 - accuracy: 0.8427 - val_loss: 0.3491 - val_accuracy: 0.8423\n",
      "Epoch 3/23\n",
      "266/266 [==============================] - 2s 7ms/step - loss: 0.3043 - accuracy: 0.8703 - val_loss: 0.3389 - val_accuracy: 0.8488\n",
      "Epoch 4/23\n",
      "266/266 [==============================] - 2s 7ms/step - loss: 0.2684 - accuracy: 0.8891 - val_loss: 0.3422 - val_accuracy: 0.8493\n",
      "Epoch 5/23\n",
      "266/266 [==============================] - 2s 7ms/step - loss: 0.2405 - accuracy: 0.9028 - val_loss: 0.3515 - val_accuracy: 0.8482\n",
      "Epoch 6/23\n",
      "266/266 [==============================] - 2s 7ms/step - loss: 0.2143 - accuracy: 0.9152 - val_loss: 0.3658 - val_accuracy: 0.8505\n",
      "Epoch 7/23\n",
      "266/266 [==============================] - 2s 7ms/step - loss: 0.1873 - accuracy: 0.9274 - val_loss: 0.3937 - val_accuracy: 0.8480\n",
      "Epoch 8/23\n",
      "266/266 [==============================] - 2s 7ms/step - loss: 0.1620 - accuracy: 0.9385 - val_loss: 0.4438 - val_accuracy: 0.8432\n",
      "Epoch 9/23\n",
      "266/266 [==============================] - 2s 7ms/step - loss: 0.1409 - accuracy: 0.9471 - val_loss: 0.4862 - val_accuracy: 0.8433\n",
      "Epoch 10/23\n",
      "266/266 [==============================] - 2s 7ms/step - loss: 0.1227 - accuracy: 0.9541 - val_loss: 0.5093 - val_accuracy: 0.8436\n",
      "Epoch 11/23\n",
      "266/266 [==============================] - 2s 7ms/step - loss: 0.1049 - accuracy: 0.9613 - val_loss: 0.5580 - val_accuracy: 0.8421\n",
      "Epoch 12/23\n",
      "266/266 [==============================] - 2s 7ms/step - loss: 0.0946 - accuracy: 0.9651 - val_loss: 0.6417 - val_accuracy: 0.8401\n",
      "Epoch 13/23\n",
      "266/266 [==============================] - 2s 7ms/step - loss: 0.0811 - accuracy: 0.9707 - val_loss: 0.6736 - val_accuracy: 0.8389\n",
      "Epoch 14/23\n",
      "266/266 [==============================] - 2s 7ms/step - loss: 0.0723 - accuracy: 0.9739 - val_loss: 0.7115 - val_accuracy: 0.8394\n",
      "Epoch 15/23\n",
      "266/266 [==============================] - 2s 7ms/step - loss: 0.0635 - accuracy: 0.9766 - val_loss: 0.7713 - val_accuracy: 0.8363\n",
      "Epoch 16/23\n",
      "266/266 [==============================] - 2s 7ms/step - loss: 0.0584 - accuracy: 0.9781 - val_loss: 0.8081 - val_accuracy: 0.8371\n",
      "Epoch 17/23\n",
      "266/266 [==============================] - 2s 7ms/step - loss: 0.0567 - accuracy: 0.9791 - val_loss: 0.8440 - val_accuracy: 0.8395\n",
      "Epoch 18/23\n",
      "266/266 [==============================] - 2s 7ms/step - loss: 0.0477 - accuracy: 0.9825 - val_loss: 0.8892 - val_accuracy: 0.8348\n",
      "Epoch 19/23\n",
      "266/266 [==============================] - 2s 7ms/step - loss: 0.0465 - accuracy: 0.9828 - val_loss: 0.9377 - val_accuracy: 0.8307\n",
      "Epoch 20/23\n",
      "266/266 [==============================] - 2s 7ms/step - loss: 0.0433 - accuracy: 0.9843 - val_loss: 0.9754 - val_accuracy: 0.8333\n",
      "Epoch 21/23\n",
      "266/266 [==============================] - 2s 7ms/step - loss: 0.0405 - accuracy: 0.9850 - val_loss: 0.9820 - val_accuracy: 0.8340\n",
      "Epoch 22/23\n",
      "266/266 [==============================] - 2s 7ms/step - loss: 0.0410 - accuracy: 0.9844 - val_loss: 0.9927 - val_accuracy: 0.8393\n",
      "Epoch 23/23\n",
      "266/266 [==============================] - 2s 7ms/step - loss: 0.0358 - accuracy: 0.9863 - val_loss: 1.0400 - val_accuracy: 0.8370\n"
     ]
    }
   ],
   "source": [
    "model.compile(optimizer='adam',\n",
    "              loss='binary_crossentropy',\n",
    "              metrics=['accuracy'])\n",
    "              \n",
    "epochs=23\n",
    "\n",
    "history = model.fit(partial_x_train,\n",
    "                    partial_y_train,\n",
    "                    epochs=epochs,\n",
    "                    batch_size=512,\n",
    "                    validation_data=(x_val, y_val),\n",
    "                    verbose=1)"
   ]
  },
  {
   "cell_type": "code",
   "execution_count": 41,
   "id": "b6e35149",
   "metadata": {},
   "outputs": [
    {
     "name": "stdout",
     "output_type": "stream",
     "text": [
      "1537/1537 - 3s - loss: 1.1102 - accuracy: 0.8320\n",
      "[1.1101921796798706, 0.832007646560669]\n"
     ]
    }
   ],
   "source": [
    "results = model.evaluate(x_test,  y_test, verbose=2)\n",
    "\n",
    "print(results)"
   ]
  },
  {
   "cell_type": "markdown",
   "id": "4a0c435b",
   "metadata": {},
   "source": [
    "## 2.성능개선 버전_1-D CNN 모델 사용"
   ]
  },
  {
   "cell_type": "code",
   "execution_count": 42,
   "id": "18f0644b",
   "metadata": {},
   "outputs": [
    {
     "name": "stdout",
     "output_type": "stream",
     "text": [
      "Model: \"sequential_4\"\n",
      "_________________________________________________________________\n",
      "Layer (type)                 Output Shape              Param #   \n",
      "=================================================================\n",
      "embedding_4 (Embedding)      (None, 41, 200)           2000000   \n",
      "_________________________________________________________________\n",
      "lstm_1 (LSTM)                (None, 128)               168448    \n",
      "_________________________________________________________________\n",
      "dense_8 (Dense)              (None, 8)                 1032      \n",
      "_________________________________________________________________\n",
      "dense_9 (Dense)              (None, 1)                 9         \n",
      "=================================================================\n",
      "Total params: 2,169,489\n",
      "Trainable params: 2,169,489\n",
      "Non-trainable params: 0\n",
      "_________________________________________________________________\n"
     ]
    }
   ],
   "source": [
    "vocab_size = 10000\n",
    "word_vector_dim = 200\n",
    "\n",
    "model = tf.keras.Sequential()\n",
    "model.add(tf.keras.layers.Embedding(vocab_size, \n",
    "                                 word_vector_dim, \n",
    "                                 embeddings_initializer=Constant(embedding_matrix),  # 카피한 임베딩을 여기서 활용\n",
    "                                 input_length=maxlen, \n",
    "                                 trainable=True))\n",
    "model.add(tf.keras.layers.LSTM(128))   # 가장 널리 쓰이는 RNN인 LSTM 레이어를 사용하였습니다. 이때 LSTM state 벡터의 차원수는 8로 하였습니다. (변경 가능)\n",
    "model.add(tf.keras.layers.Dense(8, activation='relu'))\n",
    "model.add(tf.keras.layers.Dense(1, activation='sigmoid'))  # 최종 출력은 긍정/부정을 나타내는 1dim 입니다.\n",
    "\n",
    "model.summary()"
   ]
  },
  {
   "cell_type": "code",
   "execution_count": 43,
   "id": "918d5437",
   "metadata": {},
   "outputs": [
    {
     "name": "stdout",
     "output_type": "stream",
     "text": [
      "(136182, 41)\n",
      "(136182,)\n"
     ]
    }
   ],
   "source": [
    "x_val = x_train[:10000]   \n",
    "y_val = y_train[:10000]\n",
    "\n",
    "partial_x_train = x_train[10000:]  \n",
    "partial_y_train = y_train[10000:]\n",
    "\n",
    "print(partial_x_train.shape)\n",
    "print(partial_y_train.shape)"
   ]
  },
  {
   "cell_type": "code",
   "execution_count": 44,
   "id": "c5b2a680",
   "metadata": {},
   "outputs": [
    {
     "name": "stdout",
     "output_type": "stream",
     "text": [
      "Epoch 1/23\n",
      "266/266 [==============================] - 5s 14ms/step - loss: 0.5619 - accuracy: 0.6657 - val_loss: 0.3844 - val_accuracy: 0.8285\n",
      "Epoch 2/23\n",
      "266/266 [==============================] - 3s 13ms/step - loss: 0.3478 - accuracy: 0.8484 - val_loss: 0.3401 - val_accuracy: 0.8497\n",
      "Epoch 3/23\n",
      "266/266 [==============================] - 3s 13ms/step - loss: 0.2961 - accuracy: 0.8741 - val_loss: 0.3312 - val_accuracy: 0.8553\n",
      "Epoch 4/23\n",
      "266/266 [==============================] - 3s 13ms/step - loss: 0.2672 - accuracy: 0.8884 - val_loss: 0.3149 - val_accuracy: 0.8622\n",
      "Epoch 5/23\n",
      "266/266 [==============================] - 3s 13ms/step - loss: 0.2396 - accuracy: 0.9015 - val_loss: 0.3276 - val_accuracy: 0.8662\n",
      "Epoch 6/23\n",
      "266/266 [==============================] - 3s 13ms/step - loss: 0.2166 - accuracy: 0.9124 - val_loss: 0.3206 - val_accuracy: 0.8650\n",
      "Epoch 7/23\n",
      "266/266 [==============================] - 3s 13ms/step - loss: 0.1940 - accuracy: 0.9231 - val_loss: 0.3523 - val_accuracy: 0.8599\n",
      "Epoch 8/23\n",
      "266/266 [==============================] - 3s 13ms/step - loss: 0.1742 - accuracy: 0.9322 - val_loss: 0.3714 - val_accuracy: 0.8618\n",
      "Epoch 9/23\n",
      "266/266 [==============================] - 3s 13ms/step - loss: 0.1532 - accuracy: 0.9420 - val_loss: 0.4039 - val_accuracy: 0.8607\n",
      "Epoch 10/23\n",
      "266/266 [==============================] - 3s 13ms/step - loss: 0.1341 - accuracy: 0.9507 - val_loss: 0.4225 - val_accuracy: 0.8614\n",
      "Epoch 11/23\n",
      "266/266 [==============================] - 3s 13ms/step - loss: 0.1192 - accuracy: 0.9566 - val_loss: 0.4467 - val_accuracy: 0.8587\n",
      "Epoch 12/23\n",
      "266/266 [==============================] - 3s 13ms/step - loss: 0.1052 - accuracy: 0.9629 - val_loss: 0.4683 - val_accuracy: 0.8579\n",
      "Epoch 13/23\n",
      "266/266 [==============================] - 3s 13ms/step - loss: 0.0922 - accuracy: 0.9680 - val_loss: 0.5187 - val_accuracy: 0.8532\n",
      "Epoch 14/23\n",
      "266/266 [==============================] - 3s 13ms/step - loss: 0.0859 - accuracy: 0.9704 - val_loss: 0.5155 - val_accuracy: 0.8535\n",
      "Epoch 15/23\n",
      "266/266 [==============================] - 3s 13ms/step - loss: 0.0773 - accuracy: 0.9742 - val_loss: 0.5438 - val_accuracy: 0.8535\n",
      "Epoch 16/23\n",
      "266/266 [==============================] - 3s 13ms/step - loss: 0.0705 - accuracy: 0.9765 - val_loss: 0.5930 - val_accuracy: 0.8533\n",
      "Epoch 17/23\n",
      "266/266 [==============================] - 3s 13ms/step - loss: 0.0634 - accuracy: 0.9787 - val_loss: 0.6460 - val_accuracy: 0.8536\n",
      "Epoch 18/23\n",
      "266/266 [==============================] - 3s 13ms/step - loss: 0.0576 - accuracy: 0.9808 - val_loss: 0.6734 - val_accuracy: 0.8537\n",
      "Epoch 19/23\n",
      "266/266 [==============================] - 3s 13ms/step - loss: 0.0568 - accuracy: 0.9811 - val_loss: 0.6599 - val_accuracy: 0.8516\n",
      "Epoch 20/23\n",
      "266/266 [==============================] - 3s 13ms/step - loss: 0.0508 - accuracy: 0.9832 - val_loss: 0.6999 - val_accuracy: 0.8481\n",
      "Epoch 21/23\n",
      "266/266 [==============================] - 3s 13ms/step - loss: 0.0487 - accuracy: 0.9837 - val_loss: 0.6801 - val_accuracy: 0.8542\n",
      "Epoch 22/23\n",
      "266/266 [==============================] - 3s 13ms/step - loss: 0.0458 - accuracy: 0.9849 - val_loss: 0.6945 - val_accuracy: 0.8532\n",
      "Epoch 23/23\n",
      "266/266 [==============================] - 3s 13ms/step - loss: 0.0413 - accuracy: 0.9862 - val_loss: 0.7258 - val_accuracy: 0.8504\n"
     ]
    }
   ],
   "source": [
    "model.compile(optimizer='adam',\n",
    "              loss='binary_crossentropy',\n",
    "              metrics=['accuracy'])\n",
    "              \n",
    "epochs=23  # 몇 epoch를 훈련하면 좋을지 결과를 보면서 바꾸어 봅시다. \n",
    "\n",
    "history = model.fit(partial_x_train,\n",
    "                    partial_y_train,\n",
    "                    epochs=epochs,\n",
    "                    batch_size=512,\n",
    "                    validation_data=(x_val, y_val),\n",
    "                    verbose=1)"
   ]
  },
  {
   "cell_type": "code",
   "execution_count": 45,
   "id": "dd5c8bf0",
   "metadata": {},
   "outputs": [
    {
     "name": "stdout",
     "output_type": "stream",
     "text": [
      "1537/1537 - 3s - loss: 0.7318 - accuracy: 0.8504\n",
      "[0.7318143248558044, 0.8504180312156677]\n"
     ]
    }
   ],
   "source": [
    "results = model.evaluate(x_test,  y_test, verbose=2)\n",
    "\n",
    "print(results)"
   ]
  },
  {
   "cell_type": "markdown",
   "id": "8709a4bb",
   "metadata": {},
   "source": [
    "## 3.GlobalMaxPooling1D 레이어 1개 있는 모델"
   ]
  },
  {
   "cell_type": "code",
   "execution_count": 46,
   "id": "6df3b894",
   "metadata": {},
   "outputs": [
    {
     "name": "stdout",
     "output_type": "stream",
     "text": [
      "Model: \"sequential_5\"\n",
      "_________________________________________________________________\n",
      "Layer (type)                 Output Shape              Param #   \n",
      "=================================================================\n",
      "embedding_5 (Embedding)      (None, 41, 200)           2000000   \n",
      "_________________________________________________________________\n",
      "global_max_pooling1d_3 (Glob (None, 200)               0         \n",
      "_________________________________________________________________\n",
      "dense_10 (Dense)             (None, 128)               25728     \n",
      "_________________________________________________________________\n",
      "dense_11 (Dense)             (None, 1)                 129       \n",
      "=================================================================\n",
      "Total params: 2,025,857\n",
      "Trainable params: 2,025,857\n",
      "Non-trainable params: 0\n",
      "_________________________________________________________________\n"
     ]
    }
   ],
   "source": [
    "vocab_size = 10000\n",
    "word_vector_dim = 200\n",
    "\n",
    "model = tf.keras.Sequential()\n",
    "model.add(tf.keras.layers.Embedding(vocab_size, \n",
    "                                 word_vector_dim, \n",
    "                                 embeddings_initializer=Constant(embedding_matrix),  # 카피한 임베딩을 여기서 활용\n",
    "                                 input_length=maxlen, \n",
    "                                 trainable=True))\n",
    "model.add(tf.keras.layers.GlobalMaxPooling1D())\n",
    "model.add(tf.keras.layers.Dense(128, activation='relu'))\n",
    "model.add(tf.keras.layers.Dense(1, activation='sigmoid'))  # 최종 출력은 긍정/부정을 나타내는 1dim 입니다.\n",
    "\n",
    "model.summary()"
   ]
  },
  {
   "cell_type": "code",
   "execution_count": 47,
   "id": "2110f963",
   "metadata": {},
   "outputs": [
    {
     "name": "stdout",
     "output_type": "stream",
     "text": [
      "(136182, 41)\n",
      "(136182,)\n"
     ]
    }
   ],
   "source": [
    "x_val = x_train[:10000]   \n",
    "y_val = y_train[:10000]\n",
    "\n",
    "partial_x_train = x_train[10000:]  \n",
    "partial_y_train = y_train[10000:]\n",
    "\n",
    "print(partial_x_train.shape)\n",
    "print(partial_y_train.shape)"
   ]
  },
  {
   "cell_type": "code",
   "execution_count": 48,
   "id": "5a9aa605",
   "metadata": {},
   "outputs": [
    {
     "name": "stdout",
     "output_type": "stream",
     "text": [
      "Epoch 1/23\n",
      "266/266 [==============================] - 2s 5ms/step - loss: 0.6327 - accuracy: 0.6446 - val_loss: 0.5618 - val_accuracy: 0.7104\n",
      "Epoch 2/23\n",
      "266/266 [==============================] - 1s 4ms/step - loss: 0.5269 - accuracy: 0.7381 - val_loss: 0.5094 - val_accuracy: 0.7521\n",
      "Epoch 3/23\n",
      "266/266 [==============================] - 1s 4ms/step - loss: 0.4756 - accuracy: 0.7730 - val_loss: 0.4661 - val_accuracy: 0.7789\n",
      "Epoch 4/23\n",
      "266/266 [==============================] - 1s 4ms/step - loss: 0.4384 - accuracy: 0.7960 - val_loss: 0.4510 - val_accuracy: 0.7906\n",
      "Epoch 5/23\n",
      "266/266 [==============================] - 1s 4ms/step - loss: 0.4092 - accuracy: 0.8142 - val_loss: 0.4247 - val_accuracy: 0.8055\n",
      "Epoch 6/23\n",
      "266/266 [==============================] - 1s 4ms/step - loss: 0.3865 - accuracy: 0.8267 - val_loss: 0.4169 - val_accuracy: 0.8134\n",
      "Epoch 7/23\n",
      "266/266 [==============================] - 1s 4ms/step - loss: 0.3630 - accuracy: 0.8400 - val_loss: 0.4066 - val_accuracy: 0.8180\n",
      "Epoch 8/23\n",
      "266/266 [==============================] - 1s 4ms/step - loss: 0.3483 - accuracy: 0.8474 - val_loss: 0.3991 - val_accuracy: 0.8202\n",
      "Epoch 9/23\n",
      "266/266 [==============================] - 1s 4ms/step - loss: 0.3317 - accuracy: 0.8573 - val_loss: 0.4120 - val_accuracy: 0.8153\n",
      "Epoch 10/23\n",
      "266/266 [==============================] - 1s 4ms/step - loss: 0.3199 - accuracy: 0.8627 - val_loss: 0.4011 - val_accuracy: 0.8251\n",
      "Epoch 11/23\n",
      "266/266 [==============================] - 1s 4ms/step - loss: 0.3030 - accuracy: 0.8715 - val_loss: 0.3957 - val_accuracy: 0.8256\n",
      "Epoch 12/23\n",
      "266/266 [==============================] - 1s 4ms/step - loss: 0.2917 - accuracy: 0.8784 - val_loss: 0.3982 - val_accuracy: 0.8297\n",
      "Epoch 13/23\n",
      "266/266 [==============================] - 1s 4ms/step - loss: 0.2784 - accuracy: 0.8847 - val_loss: 0.4298 - val_accuracy: 0.8209\n",
      "Epoch 14/23\n",
      "266/266 [==============================] - 1s 4ms/step - loss: 0.2691 - accuracy: 0.8886 - val_loss: 0.4344 - val_accuracy: 0.8204\n",
      "Epoch 15/23\n",
      "266/266 [==============================] - 1s 4ms/step - loss: 0.2570 - accuracy: 0.8946 - val_loss: 0.4157 - val_accuracy: 0.8289\n",
      "Epoch 16/23\n",
      "266/266 [==============================] - 1s 4ms/step - loss: 0.2451 - accuracy: 0.9001 - val_loss: 0.4097 - val_accuracy: 0.8307\n",
      "Epoch 17/23\n",
      "266/266 [==============================] - 1s 4ms/step - loss: 0.2352 - accuracy: 0.9053 - val_loss: 0.4155 - val_accuracy: 0.8321\n",
      "Epoch 18/23\n",
      "266/266 [==============================] - 1s 4ms/step - loss: 0.2256 - accuracy: 0.9095 - val_loss: 0.4237 - val_accuracy: 0.8307\n",
      "Epoch 19/23\n",
      "266/266 [==============================] - 1s 4ms/step - loss: 0.2149 - accuracy: 0.9144 - val_loss: 0.4557 - val_accuracy: 0.8267\n",
      "Epoch 20/23\n",
      "266/266 [==============================] - 1s 4ms/step - loss: 0.2065 - accuracy: 0.9184 - val_loss: 0.4768 - val_accuracy: 0.8135\n",
      "Epoch 21/23\n",
      "266/266 [==============================] - 1s 4ms/step - loss: 0.1972 - accuracy: 0.9221 - val_loss: 0.4774 - val_accuracy: 0.8286\n",
      "Epoch 22/23\n",
      "266/266 [==============================] - 1s 4ms/step - loss: 0.1860 - accuracy: 0.9277 - val_loss: 0.4662 - val_accuracy: 0.8276\n",
      "Epoch 23/23\n",
      "266/266 [==============================] - 1s 4ms/step - loss: 0.1788 - accuracy: 0.9309 - val_loss: 0.4841 - val_accuracy: 0.8242\n"
     ]
    }
   ],
   "source": [
    "# 학습의 진행\n",
    "model.compile(optimizer='adam',\n",
    "              loss='binary_crossentropy',\n",
    "              metrics=['accuracy'])\n",
    "              \n",
    "epochs=23  # 몇 epoch를 훈련하면 좋을지 결과를 보면서 바꾸어 봅시다. \n",
    "\n",
    "history = model.fit(partial_x_train,\n",
    "                    partial_y_train,\n",
    "                    epochs=epochs,\n",
    "                    batch_size=512,\n",
    "                    validation_data=(x_val, y_val),\n",
    "                    verbose=1)"
   ]
  },
  {
   "cell_type": "code",
   "execution_count": 49,
   "id": "ff7c3d1e",
   "metadata": {},
   "outputs": [
    {
     "name": "stdout",
     "output_type": "stream",
     "text": [
      "1537/1537 - 2s - loss: 0.4905 - accuracy: 0.8187\n",
      "[0.49045923352241516, 0.8187033534049988]\n"
     ]
    }
   ],
   "source": [
    "# 테스트셋을 통한 모델 평가\n",
    "results = model.evaluate(x_test,  y_test, verbose=2)\n",
    "\n",
    "print(results)"
   ]
  },
  {
   "cell_type": "markdown",
   "id": "b4e8c90a",
   "metadata": {},
   "source": [
    "# REPORT\n",
    "### 성능개선 버전_1-D CNN 모델에서 드디어 정확도가 0.8504180312156677로 85%를 달성했다. 야호!\n",
    "### 어려웠던 것이 많은 프로젝트였다..\n",
    "### 헷갈리는 것도 많고, 이해가 안되는 것이 많아서 몇번씩이나 다시 읽어봤다.\n",
    "### 또한, 중간에 오류가 많이 떴다.\n",
    "AttributeError: Can't get attribute 'Vocab' on <module 'gensim.models.word2vec' from '/opt/conda/lib/python3.9/site-packages/gensim/models/word2vec.py'> -> gensim의 버전의 문제. 버전을 다운 시키는 것으로 해결.\n",
    "\n",
    "_pickle.UnpicklingError: pickle data was truncated -> 찾아보니 파일이 깨져서 그렇다는데, 코딩을 실행시키다가 중간에 멈추면 자주 뜬다...\n",
    "### 그외에 해결은 했지만 왜 생겼는지도, 왜 사라졌는지도 모르는 오류 : 실행을 다 시켜보고 보기 쉽게 만들려고 그래프 만드는 부분에서 몇몇 변수의 이름을 바꾸려고 했는데, 그래프 모양이 바뀌었다. 다시 원래대로 돌려놔도 해결되지 않았는데, 조금있다가 다시 실행시키니 원래대로 돌아왔다. 왜 그런거지..?"
   ]
  },
  {
   "cell_type": "code",
   "execution_count": null,
   "id": "9aaea9a2",
   "metadata": {},
   "outputs": [],
   "source": []
  }
 ],
 "metadata": {
  "kernelspec": {
   "display_name": "Python 3 (ipykernel)",
   "language": "python",
   "name": "python3"
  },
  "language_info": {
   "codemirror_mode": {
    "name": "ipython",
    "version": 3
   },
   "file_extension": ".py",
   "mimetype": "text/x-python",
   "name": "python",
   "nbconvert_exporter": "python",
   "pygments_lexer": "ipython3",
   "version": "3.9.7"
  }
 },
 "nbformat": 4,
 "nbformat_minor": 5
}
