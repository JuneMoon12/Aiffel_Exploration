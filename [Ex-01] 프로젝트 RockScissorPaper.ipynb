{
 "cells": [
  {
   "cell_type": "markdown",
   "id": "a5cd61de",
   "metadata": {},
   "source": [
    "# 미니 프로젝트 : 가위바위보 분류기를 만들자!"
   ]
  },
  {
   "cell_type": "markdown",
   "id": "c54daacb",
   "metadata": {},
   "source": [
    "## 데이터 불러오기 + Resize 하기"
   ]
  },
  {
   "cell_type": "code",
   "execution_count": 1,
   "id": "34bfe97a",
   "metadata": {},
   "outputs": [
    {
     "name": "stdout",
     "output_type": "stream",
     "text": [
      "PIL 라이브러리 import를 완료했습니다.\n"
     ]
    }
   ],
   "source": [
    "from PIL import Image\n",
    "import glob, os\n",
    "import matplotlib.pyplot as plt\n",
    "\n",
    "\n",
    "print(\"PIL 라이브러리 import를 완료했습니다.\")"
   ]
  },
  {
   "cell_type": "markdown",
   "id": "134598b2",
   "metadata": {},
   "source": [
    "### 학습데이터 가위 이미지 조정하기"
   ]
  },
  {
   "cell_type": "code",
   "execution_count": 2,
   "id": "4c802769",
   "metadata": {
    "scrolled": true
   },
   "outputs": [
    {
     "name": "stdout",
     "output_type": "stream",
     "text": [
      "932 개의 이미지 크기를 조정하겠습니다.\n",
      "932 개의 이미지 크기를 조정했습니다.\n",
      "학습데이터 가위 이미지 조정 완료!\n"
     ]
    }
   ],
   "source": [
    "def resize_images(img_path):\n",
    "    images=glob.glob(img_path + \"/*.jpg\")\n",
    "    \n",
    "    print(len(images), \"개의 이미지 크기를 조정하겠습니다.\")\n",
    "\n",
    "#사진 파일을 100x100 사이즈로 바꾸기\n",
    "    target_size=(100,100)\n",
    "    for img in images:\n",
    "        old_img=Image.open(img)\n",
    "        new_img=old_img.resize(target_size, Image.ANTIALIAS)\n",
    "        new_img.save(img, \"JPEG\")\n",
    "    \n",
    "    print(len(images), \"개의 이미지 크기를 조정했습니다.\")\n",
    "\n",
    "image_dir_path = os.getenv(\"HOME\") + \"/aiffel/rock_scissor_paper/scissor\"\n",
    "resize_images(image_dir_path)\n",
    "\n",
    "print(\"학습데이터 가위 이미지 조정 완료!\")"
   ]
  },
  {
   "cell_type": "markdown",
   "id": "bea79af7",
   "metadata": {},
   "source": [
    "### 학습데이터 바위 이미지 조정하기"
   ]
  },
  {
   "cell_type": "code",
   "execution_count": 3,
   "id": "e7a0c047",
   "metadata": {},
   "outputs": [
    {
     "name": "stdout",
     "output_type": "stream",
     "text": [
      "932 개의 이미지 크기를 조정하겠습니다.\n",
      "932 개의 이미지 크기를 조정했습니다.\n",
      "학습데이터 바위 이미지 조정 완료!\n"
     ]
    }
   ],
   "source": [
    "def resize_images(img_path):\n",
    "    images=glob.glob(img_path + \"/*.jpg\")\n",
    "    \n",
    "    print(len(images), \"개의 이미지 크기를 조정하겠습니다.\")\n",
    "\n",
    "#사진 파일을 100x100 사이즈로 바꾸기\n",
    "    target_size=(100,100)\n",
    "    for img in images:\n",
    "        old_img=Image.open(img)\n",
    "        new_img=old_img.resize(target_size, Image.ANTIALIAS)\n",
    "        new_img.save(img, \"JPEG\")\n",
    "    \n",
    "    print(len(images), \"개의 이미지 크기를 조정했습니다.\")\n",
    "\n",
    "image_dir_path = os.getenv(\"HOME\") + \"/aiffel/rock_scissor_paper/rock\"\n",
    "resize_images(image_dir_path)\n",
    "\n",
    "print(\"학습데이터 바위 이미지 조정 완료!\")"
   ]
  },
  {
   "cell_type": "markdown",
   "id": "ed3c6c3d",
   "metadata": {},
   "source": [
    "### 학습데이터 보 이미지 조정하기"
   ]
  },
  {
   "cell_type": "code",
   "execution_count": 4,
   "id": "9a3732ee",
   "metadata": {},
   "outputs": [
    {
     "name": "stdout",
     "output_type": "stream",
     "text": [
      "932 개의 이미지 크기를 조정하겠습니다.\n",
      "932 개의 이미지 크기를 조정했습니다.\n",
      "학습데이터 보 이미지 조정 완료!\n"
     ]
    }
   ],
   "source": [
    "def resize_images(img_path):\n",
    "    images=glob.glob(img_path + \"/*.jpg\")\n",
    "    \n",
    "    print(len(images), \"개의 이미지 크기를 조정하겠습니다.\")\n",
    "\n",
    "#사진 파일을 100x100 사이즈로 바꾸기\n",
    "    target_size=(100,100)\n",
    "    for img in images:\n",
    "        old_img=Image.open(img)\n",
    "        new_img=old_img.resize(target_size, Image.ANTIALIAS)\n",
    "        new_img.save(img, \"JPEG\")\n",
    "    \n",
    "    print(len(images), \"개의 이미지 크기를 조정했습니다.\")\n",
    "\n",
    "image_dir_path = os.getenv(\"HOME\") + \"/aiffel/rock_scissor_paper/paper\"\n",
    "resize_images(image_dir_path)\n",
    "\n",
    "print(\"학습데이터 보 이미지 조정 완료!\")"
   ]
  },
  {
   "cell_type": "markdown",
   "id": "28b5a894",
   "metadata": {},
   "source": [
    "## 데이터 읽는 함수 쓰기"
   ]
  },
  {
   "cell_type": "code",
   "execution_count": 5,
   "id": "91052692",
   "metadata": {},
   "outputs": [
    {
     "name": "stdout",
     "output_type": "stream",
     "text": [
      "학습데이터(x_train)의 이미지 개수는 2796 입니다.\n",
      "x_train shape: (2796, 100, 100, 3)\n",
      "y_train shape: (2796,)\n"
     ]
    }
   ],
   "source": [
    "import numpy as np\n",
    "\n",
    "def load_data(img_path, no_data=2796):\n",
    "    # 가위 : 0, 바위 : 1, 보 : 2\n",
    "    img_size=100\n",
    "    color=3\n",
    "    imgs=np.zeros(no_data*img_size*img_size*color,dtype=np.int32).reshape(no_data,img_size,img_size,color)\n",
    "    labels=np.zeros(no_data,dtype=np.int32)\n",
    "\n",
    "    idx=0\n",
    "    for file in glob.iglob(img_path+'/scissor/*.jpg'):\n",
    "        img = np.array(Image.open(file),dtype=np.int32)\n",
    "        imgs[idx,:,:,:]=img\n",
    "        labels[idx]=0\n",
    "        idx=idx+1\n",
    "\n",
    "    for file in glob.iglob(img_path+'/rock/*.jpg'):\n",
    "        img = np.array(Image.open(file),dtype=np.int32)\n",
    "        imgs[idx,:,:,:]=img\n",
    "        labels[idx]=1\n",
    "        idx=idx+1  \n",
    "    \n",
    "    for file in glob.iglob(img_path+'/paper/*.jpg'):\n",
    "        img = np.array(Image.open(file),dtype=np.int32)\n",
    "        imgs[idx,:,:,:]=img\n",
    "        labels[idx]=2\n",
    "        idx=idx+1\n",
    "        \n",
    "    print(\"학습데이터(x_train)의 이미지 개수는\", idx,\"입니다.\")\n",
    "    return imgs, labels\n",
    "\n",
    "image_dir_path = os.getenv(\"HOME\") + \"/aiffel/rock_scissor_paper\"\n",
    "(x_train, y_train)=load_data(image_dir_path)\n",
    "x_train_norm = x_train/255.0\n",
    "\n",
    "print(\"x_train shape: {}\".format(x_train.shape))\n",
    "print(\"y_train shape: {}\".format(y_train.shape))"
   ]
  },
  {
   "cell_type": "code",
   "execution_count": 6,
   "id": "84b68796",
   "metadata": {},
   "outputs": [
    {
     "name": "stdout",
     "output_type": "stream",
     "text": [
      "라벨:  0\n"
     ]
    },
    {
     "data": {
      "image/png": "[encoded data removed]",
      "text/plain": [
       "<Figure size 432x288 with 1 Axes>"
      ]
     },
     "metadata": {
      "needs_background": "light"
     },
     "output_type": "display_data"
    }
   ],
   "source": [
    "plt.imshow(x_train[0])\n",
    "print('라벨: ', y_train[0])"
   ]
  },
  {
   "cell_type": "markdown",
   "id": "a51b21ef",
   "metadata": {},
   "source": [
    "## 딥러닝 네트워크 설계하기"
   ]
  },
  {
   "cell_type": "code",
   "execution_count": 7,
   "id": "fa7345e1",
   "metadata": {},
   "outputs": [
    {
     "name": "stdout",
     "output_type": "stream",
     "text": [
      "Model: \"sequential\"\n",
      "_________________________________________________________________\n",
      "Layer (type)                 Output Shape              Param #   \n",
      "=================================================================\n",
      "conv2d (Conv2D)              (None, 98, 98, 16)        448       \n",
      "_________________________________________________________________\n",
      "max_pooling2d (MaxPooling2D) (None, 49, 49, 16)        0         \n",
      "_________________________________________________________________\n",
      "conv2d_1 (Conv2D)            (None, 47, 47, 32)        4640      \n",
      "_________________________________________________________________\n",
      "max_pooling2d_1 (MaxPooling2 (None, 23, 23, 32)        0         \n",
      "_________________________________________________________________\n",
      "conv2d_2 (Conv2D)            (None, 21, 21, 64)        18496     \n",
      "_________________________________________________________________\n",
      "max_pooling2d_2 (MaxPooling2 (None, 10, 10, 64)        0         \n",
      "_________________________________________________________________\n",
      "conv2d_3 (Conv2D)            (None, 8, 8, 128)         73856     \n",
      "_________________________________________________________________\n",
      "max_pooling2d_3 (MaxPooling2 (None, 4, 4, 128)         0         \n",
      "_________________________________________________________________\n",
      "conv2d_4 (Conv2D)            (None, 2, 2, 256)         295168    \n",
      "_________________________________________________________________\n",
      "max_pooling2d_4 (MaxPooling2 (None, 1, 1, 256)         0         \n",
      "_________________________________________________________________\n",
      "flatten (Flatten)            (None, 256)               0         \n",
      "_________________________________________________________________\n",
      "dense (Dense)                (None, 1024)              263168    \n",
      "_________________________________________________________________\n",
      "dense_1 (Dense)              (None, 3)                 3075      \n",
      "=================================================================\n",
      "Total params: 658,851\n",
      "Trainable params: 658,851\n",
      "Non-trainable params: 0\n",
      "_________________________________________________________________\n"
     ]
    }
   ],
   "source": [
    "import tensorflow as tf\n",
    "from tensorflow import keras\n",
    "import numpy as np\n",
    "\n",
    "model=keras.models.Sequential()\n",
    "\n",
    "model.add(keras.layers.Conv2D(16, (3,3), activation='relu', input_shape=(100,100,3)))\n",
    "model.add(keras.layers.MaxPool2D(2,2))\n",
    "model.add(keras.layers.Conv2D(32, (3,3), activation='relu'))\n",
    "model.add(keras.layers.MaxPooling2D((2,2)))\n",
    "model.add(keras.layers.Conv2D(64, (3,3), activation='relu'))\n",
    "model.add(keras.layers.MaxPooling2D((2,2)))\n",
    "model.add(keras.layers.Conv2D(128, (3,3), activation='relu'))\n",
    "model.add(keras.layers.MaxPooling2D((2,2)))\n",
    "model.add(keras.layers.Conv2D(256, (3,3), activation='relu'))\n",
    "model.add(keras.layers.MaxPooling2D((2,2)))\n",
    "\n",
    "model.add(keras.layers.Flatten())\n",
    "model.add(keras.layers.Dense(1024, activation='relu'))\n",
    "model.add(keras.layers.Dense(3, activation='softmax'))\n",
    "\n",
    "model.summary()\n",
    "\n"
   ]
  },
  {
   "cell_type": "markdown",
   "id": "d932640c",
   "metadata": {},
   "source": [
    "## 딥러닝 네트워크 학습시키기"
   ]
  },
  {
   "cell_type": "code",
   "execution_count": 8,
   "id": "2a8d50c0",
   "metadata": {},
   "outputs": [
    {
     "name": "stdout",
     "output_type": "stream",
     "text": [
      "Epoch 1/10\n",
      "88/88 [==============================] - 4s 9ms/step - loss: 0.9879 - accuracy: 0.4671\n",
      "Epoch 2/10\n",
      "88/88 [==============================] - 1s 7ms/step - loss: 0.6067 - accuracy: 0.7343\n",
      "Epoch 3/10\n",
      "88/88 [==============================] - 1s 7ms/step - loss: 0.2715 - accuracy: 0.8970\n",
      "Epoch 4/10\n",
      "88/88 [==============================] - 1s 7ms/step - loss: 0.1045 - accuracy: 0.9678\n",
      "Epoch 5/10\n",
      "88/88 [==============================] - 1s 7ms/step - loss: 0.0306 - accuracy: 0.9893\n",
      "Epoch 6/10\n",
      "88/88 [==============================] - 1s 7ms/step - loss: 0.0328 - accuracy: 0.9907\n",
      "Epoch 7/10\n",
      "88/88 [==============================] - 1s 7ms/step - loss: 0.0271 - accuracy: 0.9918\n",
      "Epoch 8/10\n",
      "88/88 [==============================] - 1s 7ms/step - loss: 0.0027 - accuracy: 1.0000\n",
      "Epoch 9/10\n",
      "88/88 [==============================] - 1s 8ms/step - loss: 9.1415e-04 - accuracy: 0.9996\n",
      "Epoch 10/10\n",
      "88/88 [==============================] - 1s 7ms/step - loss: 3.7226e-04 - accuracy: 1.0000\n"
     ]
    },
    {
     "data": {
      "text/plain": [
       "<keras.callbacks.History at 0x7fa08170daf0>"
      ]
     },
     "execution_count": 8,
     "metadata": {},
     "output_type": "execute_result"
    }
   ],
   "source": [
    "model.compile(optimizer='adam',\n",
    "             loss='sparse_categorical_crossentropy',\n",
    "             metrics=['accuracy'])\n",
    "\n",
    "model.fit(x_train_norm, y_train, epochs=10)"
   ]
  },
  {
   "cell_type": "markdown",
   "id": "4c672fc8",
   "metadata": {},
   "source": [
    "## 얼마나 잘 만들었는지 확인하기(테스트)"
   ]
  },
  {
   "cell_type": "markdown",
   "id": "b4103907",
   "metadata": {},
   "source": [
    "### 시험데이터 가위 이미지 조정하기"
   ]
  },
  {
   "cell_type": "code",
   "execution_count": 9,
   "id": "9f2a9590",
   "metadata": {},
   "outputs": [
    {
     "name": "stdout",
     "output_type": "stream",
     "text": [
      "200 개의 이미지 크기를 조정하겠습니다.\n",
      "200 개의 이미지 크기를 조정했습니다.\n",
      "시험데이터 가위 이미지 조정 완료!\n"
     ]
    }
   ],
   "source": [
    "def resize_images(img_path):\n",
    "    images=glob.glob(img_path + \"/tscissor/*.jpg\")\n",
    "    \n",
    "    print(len(images), \"개의 이미지 크기를 조정하겠습니다.\")\n",
    "\n",
    "#사진 파일을 100x100 사이즈로 바꾸기\n",
    "    target_size=(100,100)\n",
    "    for img in images:\n",
    "        old_img=Image.open(img)\n",
    "        new_img=old_img.resize(target_size, Image.ANTIALIAS)\n",
    "        new_img.save(img, \"JPEG\")\n",
    "    \n",
    "    print(len(images), \"개의 이미지 크기를 조정했습니다.\")\n",
    "\n",
    "image_dir_path = os.getenv(\"HOME\") + \"/aiffel/rock_scissor_paper/test/\"\n",
    "resize_images(image_dir_path)\n",
    "\n",
    "print(\"시험데이터 가위 이미지 조정 완료!\")"
   ]
  },
  {
   "cell_type": "markdown",
   "id": "d0b7e4b8",
   "metadata": {},
   "source": [
    "### 시험데이터 바위 이미지 조정하기"
   ]
  },
  {
   "cell_type": "code",
   "execution_count": 10,
   "id": "e13799de",
   "metadata": {},
   "outputs": [
    {
     "name": "stdout",
     "output_type": "stream",
     "text": [
      "200 개의 이미지 크기를 조정하겠습니다.\n",
      "200 개의 이미지 크기를 조정했습니다.\n",
      "시험데이터 바위 이미지 조정 완료!\n"
     ]
    }
   ],
   "source": [
    "def resize_images(img_path):\n",
    "    images=glob.glob(img_path + \"/trock/*.jpg\")\n",
    "    \n",
    "    print(len(images), \"개의 이미지 크기를 조정하겠습니다.\")\n",
    "\n",
    "#사진 파일을 100x100 사이즈로 바꾸기\n",
    "    target_size=(100,100)\n",
    "    for img in images:\n",
    "        old_img=Image.open(img)\n",
    "        new_img=old_img.resize(target_size, Image.ANTIALIAS)\n",
    "        new_img.save(img, \"JPEG\")\n",
    "    \n",
    "    print(len(images), \"개의 이미지 크기를 조정했습니다.\")\n",
    "\n",
    "image_dir_path = os.getenv(\"HOME\") + \"/aiffel/rock_scissor_paper/test/\"\n",
    "resize_images(image_dir_path)\n",
    "\n",
    "print(\"시험데이터 바위 이미지 조정 완료!\")"
   ]
  },
  {
   "cell_type": "markdown",
   "id": "72aa0705",
   "metadata": {},
   "source": [
    "### 시험데이터 보 이미지 조정하기"
   ]
  },
  {
   "cell_type": "code",
   "execution_count": 11,
   "id": "05e2ada2",
   "metadata": {},
   "outputs": [
    {
     "name": "stdout",
     "output_type": "stream",
     "text": [
      "200 개의 이미지 크기를 조정하겠습니다.\n",
      "200 개의 이미지 크기를 조정했습니다.\n",
      "시험데이터 보 이미지 조정 완료!\n"
     ]
    }
   ],
   "source": [
    "def resize_images(img_path):\n",
    "    images=glob.glob(img_path + \"/tpaper/*.jpg\")\n",
    "    \n",
    "    print(len(images), \"개의 이미지 크기를 조정하겠습니다.\")\n",
    "\n",
    "#사진 파일을 100x100 사이즈로 바꾸기\n",
    "    target_size=(100,100)\n",
    "    for img in images:\n",
    "        old_img=Image.open(img)\n",
    "        new_img=old_img.resize(target_size, Image.ANTIALIAS)\n",
    "        new_img.save(img, \"JPEG\")\n",
    "    \n",
    "    print(len(images), \"개의 이미지 크기를 조정했습니다.\")\n",
    "\n",
    "image_dir_path = os.getenv(\"HOME\") + \"/aiffel/rock_scissor_paper/test/\"\n",
    "resize_images(image_dir_path)\n",
    "\n",
    "print(\"시험데이터 보 이미지 조정 완료!\")"
   ]
  },
  {
   "cell_type": "code",
   "execution_count": 12,
   "id": "b7478873",
   "metadata": {},
   "outputs": [
    {
     "name": "stdout",
     "output_type": "stream",
     "text": [
      "학습데이터(x_train)의 이미지 개수는 600 입니다.\n",
      "x_test shape: (600, 100, 100, 3)\n",
      "y_test shape: (600,)\n"
     ]
    }
   ],
   "source": [
    "import numpy as np\n",
    "\n",
    "def load_data(img_path, no_data=600):\n",
    "    # 가위 : 0, 바위 : 1, 보 : 2\n",
    "    img_size=100\n",
    "    color=3\n",
    "    imgs=np.zeros(no_data*img_size*img_size*color,dtype=np.int32).reshape(no_data,img_size,img_size,color)\n",
    "    labels=np.zeros(no_data,dtype=np.int32)\n",
    "\n",
    "    idx=0\n",
    "    for file in glob.iglob(img_path+'/test/tscissor/*.jpg'):\n",
    "        img = np.array(Image.open(file),dtype=np.int32)\n",
    "        imgs[idx,:,:,:]=img\n",
    "        labels[idx]=0\n",
    "        idx=idx+1\n",
    "\n",
    "    for file in glob.iglob(img_path+'/test/trock/*.jpg'):\n",
    "        img = np.array(Image.open(file),dtype=np.int32)\n",
    "        imgs[idx,:,:,:]=img\n",
    "        labels[idx]=1\n",
    "        idx=idx+1  \n",
    "    \n",
    "    for file in glob.iglob(img_path+'/test/tpaper/*.jpg'):\n",
    "        img = np.array(Image.open(file),dtype=np.int32)\n",
    "        imgs[idx,:,:,:]=img\n",
    "        labels[idx]=2\n",
    "        idx=idx+1\n",
    "        \n",
    "    print(\"학습데이터(x_train)의 이미지 개수는\", idx,\"입니다.\")\n",
    "    return imgs, labels\n",
    "\n",
    "image_dir_path = os.getenv(\"HOME\") + \"/aiffel/rock_scissor_paper\"\n",
    "(x_test, y_test)=load_data(image_dir_path)\n",
    "x_test_norm = x_test/255.0\n",
    "\n",
    "print(\"x_test shape: {}\".format(x_test.shape))\n",
    "print(\"y_test shape: {}\".format(y_test.shape))"
   ]
  },
  {
   "cell_type": "code",
   "execution_count": 13,
   "id": "69163fe4",
   "metadata": {},
   "outputs": [
    {
     "name": "stdout",
     "output_type": "stream",
     "text": [
      "19/19 - 0s - loss: 1.0981 - accuracy: 0.7067\n",
      "test_loss: 1.0981167554855347 \n",
      "test_accuracy: 0.7066666483879089\n"
     ]
    }
   ],
   "source": [
    "# model을 학습시키는 코드를 직접 작성해 보세요.\n",
    "# Hint! model.evaluate()을 사용해 봅시다.\n",
    "test_loss, test_accuracy = model.evaluate(x_test_norm,y_test, verbose=2)\n",
    "print(\"test_loss: {} \".format(test_loss))\n",
    "print(\"test_accuracy: {}\".format(test_accuracy))"
   ]
  },
  {
   "cell_type": "markdown",
   "id": "e1cf17ed",
   "metadata": {},
   "source": [
    "## Report\n",
    "### 매일 수업을 절반만 듣기도 하고, 생각했던 것보다 프로젝트가 어려워서 완성하는데 시간이 오래걸렸다.\n",
    "### 처음에 사진 파일 100개로 모델에 학습을 시키는 것까지는 잘 되었는데, 이후에 시험데이터로 확인을 해보니 정확도가 30%도 나오지 않았다.\n",
    "### 처음에는 학습 사진 파일이 부족한 문제인가 싶어서 사진 파일을 100개 -> 932개로 늘렸다.\n",
    "### 그러니 30%가 조금 넘었다.\n",
    "### 이후에는 딥러닝 네트워크 설계하는 부분을 수정하기로 했다.\n",
    "### 처음에는 Conv2D 뒤에 나오는 숫자를 각각 32, 64로 수정을 했으니 정확도는 비슷하게 나왔다.\n",
    "### 코드를 찬찬히 살펴보니 Conv2D부분이 위에와 아래 작성된 부분이 input_shape를 제외하고는 비슷하다는 것을 깨닳았고, 그래서 여러개를 작성해 보기로 했다.\n",
    "### 3개를 추가로 작성하고, 처음에 작성된 2개의 다음 숫자로 작성을 했다. (16,32,64,128,256)\n",
    "### 그랬더니 정확도가 50%까지 올라갔다.\n",
    "### 이후에는 '분류기 알고리즘을 얼마나 복잡하게 할 것인지를 알 수 있는' Dense 부분도 숫자를 1024로 작성을 해봤더니 정확도가 70%로 올라갔다."
   ]
  },
  {
   "cell_type": "code",
   "execution_count": null,
   "id": "daea2699",
   "metadata": {},
   "outputs": [],
   "source": []
  }
 ],
 "metadata": {
  "kernelspec": {
   "display_name": "Python 3 (ipykernel)",
   "language": "python",
   "name": "python3"
  },
  "language_info": {
   "codemirror_mode": {
    "name": "ipython",
    "version": 3
   },
   "file_extension": ".py",
   "mimetype": "text/x-python",
   "name": "python",
   "nbconvert_exporter": "python",
   "pygments_lexer": "ipython3",
   "version": "3.9.7"
  }
 },
 "nbformat": 4,
 "nbformat_minor": 5
}
